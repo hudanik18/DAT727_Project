{
 "cells": [
  {
   "cell_type": "code",
   "execution_count": 1,
   "metadata": {},
   "outputs": [],
   "source": [
    "import pandas as pd\n"
   ]
  },
  {
   "cell_type": "code",
   "execution_count": 3,
   "metadata": {},
   "outputs": [],
   "source": [
    "df = pd.read_excel('ENs_2006-2019.xlsx')\n"
   ]
  },
  {
   "cell_type": "code",
   "execution_count": 4,
   "metadata": {},
   "outputs": [
    {
     "data": {
      "text/html": [
       "<div>\n",
       "<style scoped>\n",
       "    .dataframe tbody tr th:only-of-type {\n",
       "        vertical-align: middle;\n",
       "    }\n",
       "\n",
       "    .dataframe tbody tr th {\n",
       "        vertical-align: top;\n",
       "    }\n",
       "\n",
       "    .dataframe thead th {\n",
       "        text-align: right;\n",
       "    }\n",
       "</style>\n",
       "<table border=\"1\" class=\"dataframe\">\n",
       "  <thead>\n",
       "    <tr style=\"text-align: right;\">\n",
       "      <th></th>\n",
       "      <th>EventDate</th>\n",
       "      <th>ScramType1</th>\n",
       "      <th>ScramType2</th>\n",
       "      <th>ScramType3</th>\n",
       "    </tr>\n",
       "  </thead>\n",
       "  <tbody>\n",
       "    <tr>\n",
       "      <td>0</td>\n",
       "      <td>2006-01-04</td>\n",
       "      <td>N</td>\n",
       "      <td>N</td>\n",
       "      <td>N</td>\n",
       "    </tr>\n",
       "    <tr>\n",
       "      <td>1</td>\n",
       "      <td>2006-01-04</td>\n",
       "      <td>N</td>\n",
       "      <td>N</td>\n",
       "      <td>N</td>\n",
       "    </tr>\n",
       "    <tr>\n",
       "      <td>2</td>\n",
       "      <td>2006-01-05</td>\n",
       "      <td>N</td>\n",
       "      <td>N</td>\n",
       "      <td>N</td>\n",
       "    </tr>\n",
       "    <tr>\n",
       "      <td>3</td>\n",
       "      <td>2006-01-09</td>\n",
       "      <td>N</td>\n",
       "      <td>N</td>\n",
       "      <td>N</td>\n",
       "    </tr>\n",
       "    <tr>\n",
       "      <td>4</td>\n",
       "      <td>2006-01-10</td>\n",
       "      <td>N</td>\n",
       "      <td>N</td>\n",
       "      <td>N</td>\n",
       "    </tr>\n",
       "  </tbody>\n",
       "</table>\n",
       "</div>"
      ],
      "text/plain": [
       "   EventDate ScramType1 ScramType2 ScramType3\n",
       "0 2006-01-04          N          N          N\n",
       "1 2006-01-04          N          N          N\n",
       "2 2006-01-05          N          N          N\n",
       "3 2006-01-09          N          N          N\n",
       "4 2006-01-10          N          N          N"
      ]
     },
     "execution_count": 4,
     "metadata": {},
     "output_type": "execute_result"
    }
   ],
   "source": [
    "df.head()"
   ]
  },
  {
   "cell_type": "code",
   "execution_count": 5,
   "metadata": {},
   "outputs": [
    {
     "data": {
      "text/plain": [
       "EventDate     datetime64[ns]\n",
       "ScramType1            object\n",
       "ScramType2            object\n",
       "ScramType3            object\n",
       "dtype: object"
      ]
     },
     "execution_count": 5,
     "metadata": {},
     "output_type": "execute_result"
    }
   ],
   "source": [
    "df.dtypes"
   ]
  },
  {
   "cell_type": "code",
   "execution_count": 25,
   "metadata": {},
   "outputs": [],
   "source": [
    "def ENcounts(year):\n",
    "    \n",
    "    JanAvg = df[year+'-01-01':year+'-01-31'].ScramType1.count()\n",
    "    FebAvg = df[year+'-02-01':year+'-02-28'].ScramType1.count()\n",
    "    MarAvg = df[year+'-03-01':year+'-03-31'].ScramType1.count()\n",
    "    AprAvg = df[year+'-04-01':year+'-04-30'].ScramType1.count()\n",
    "    MayAvg = df[year+'-05-01':year+'-05-31'].ScramType1.count()\n",
    "    JunAvg = df[year+'-06-01':year+'-06-30'].ScramType1.count()\n",
    "    JulAvg = df[year+'-07-01':year+'-07-31'].ScramType1.count()\n",
    "    AugAvg = df[year+'-08-01':year+'-08-31'].ScramType1.count()\n",
    "    SepAvg = df[year+'-09-01':year+'-09-30'].ScramType1.count()\n",
    "    OctAvg = df[year+'-10-01':year+'-10-31'].ScramType1.count()\n",
    "    NovAvg = df[year+'-11-01':year+'-11-30'].ScramType1.count()\n",
    "    DecAvg = df[year+'-12-01':year+'-12-31'].ScramType1.count()\n",
    "    print('{} {} {} {} {} {} {} {} {} {} {} {}'.format(JanAvg, FebAvg, MarAvg, AprAvg, MayAvg, JunAvg, JulAvg, AugAvg, SepAvg, OctAvg, NovAvg, DecAvg))\n",
    "    \n"
   ]
  },
  {
   "cell_type": "code",
   "execution_count": 26,
   "metadata": {},
   "outputs": [
    {
     "name": "stdout",
     "output_type": "stream",
     "text": [
      "30 36 54 39 38 36 30 38 20 54 34 22\n"
     ]
    }
   ],
   "source": [
    "ENcounts('2006')"
   ]
  },
  {
   "cell_type": "code",
   "execution_count": 27,
   "metadata": {},
   "outputs": [
    {
     "name": "stdout",
     "output_type": "stream",
     "text": [
      "34 43 31 28 32 31 25 42 37 43 24 28\n"
     ]
    }
   ],
   "source": [
    "ENcounts('2007')"
   ]
  },
  {
   "cell_type": "code",
   "execution_count": 28,
   "metadata": {},
   "outputs": [
    {
     "name": "stdout",
     "output_type": "stream",
     "text": [
      "49 31 52 42 35 39 22 39 36 45 41 25\n"
     ]
    }
   ],
   "source": [
    "ENcounts('2008')"
   ]
  },
  {
   "cell_type": "code",
   "execution_count": 29,
   "metadata": {},
   "outputs": [
    {
     "name": "stdout",
     "output_type": "stream",
     "text": [
      "22 32 32 50 42 36 29 40 50 41 34 42\n"
     ]
    }
   ],
   "source": [
    "ENcounts('2009')"
   ]
  },
  {
   "cell_type": "code",
   "execution_count": 30,
   "metadata": {},
   "outputs": [
    {
     "name": "stdout",
     "output_type": "stream",
     "text": [
      "26 35 34 60 36 47 36 48 41 46 35 40\n"
     ]
    }
   ],
   "source": [
    "ENcounts('2010')"
   ]
  },
  {
   "cell_type": "code",
   "execution_count": 31,
   "metadata": {},
   "outputs": [
    {
     "name": "stdout",
     "output_type": "stream",
     "text": [
      "36 43 50 49 51 54 44 67 44 52 47 44\n"
     ]
    }
   ],
   "source": [
    "ENcounts('2011')"
   ]
  },
  {
   "cell_type": "code",
   "execution_count": 32,
   "metadata": {},
   "outputs": [
    {
     "name": "stdout",
     "output_type": "stream",
     "text": [
      "21 40 55 61 54 42 53 64 60 79 44 53\n"
     ]
    }
   ],
   "source": [
    "ENcounts('2012')"
   ]
  },
  {
   "cell_type": "code",
   "execution_count": 33,
   "metadata": {},
   "outputs": [
    {
     "name": "stdout",
     "output_type": "stream",
     "text": [
      "34 58 40 73 55 39 20 42 54 61 58 58\n"
     ]
    }
   ],
   "source": [
    "ENcounts('2013')"
   ]
  },
  {
   "cell_type": "code",
   "execution_count": 34,
   "metadata": {},
   "outputs": [
    {
     "name": "stdout",
     "output_type": "stream",
     "text": [
      "63 51 72 55 50 55 46 49 35 46 27 30\n"
     ]
    }
   ],
   "source": [
    "ENcounts('2014')"
   ]
  },
  {
   "cell_type": "code",
   "execution_count": 35,
   "metadata": {},
   "outputs": [
    {
     "name": "stdout",
     "output_type": "stream",
     "text": [
      "33 40 45 54 37 37 40 34 28 35 37 24\n"
     ]
    }
   ],
   "source": [
    "ENcounts('2015')"
   ]
  },
  {
   "cell_type": "code",
   "execution_count": 36,
   "metadata": {},
   "outputs": [
    {
     "name": "stdout",
     "output_type": "stream",
     "text": [
      "36 26 39 33 36 36 38 38 32 31 30 29\n"
     ]
    }
   ],
   "source": [
    "ENcounts('2016')"
   ]
  },
  {
   "cell_type": "code",
   "execution_count": 37,
   "metadata": {},
   "outputs": [
    {
     "name": "stdout",
     "output_type": "stream",
     "text": [
      "25 26 35 33 27 23 17 24 25 22 28 17\n"
     ]
    }
   ],
   "source": [
    "ENcounts('2017')"
   ]
  },
  {
   "cell_type": "code",
   "execution_count": 38,
   "metadata": {},
   "outputs": [
    {
     "name": "stdout",
     "output_type": "stream",
     "text": [
      "18 25 38 34 34 16 20 25 26 44 24 19\n"
     ]
    }
   ],
   "source": [
    "ENcounts('2018')"
   ]
  },
  {
   "cell_type": "code",
   "execution_count": 39,
   "metadata": {},
   "outputs": [
    {
     "name": "stdout",
     "output_type": "stream",
     "text": [
      "25 12 29 32 33 16 18 18 26 28 20 11\n"
     ]
    }
   ],
   "source": [
    "ENcounts('2019')"
   ]
  },
  {
   "cell_type": "code",
   "execution_count": null,
   "metadata": {},
   "outputs": [],
   "source": []
  }
 ],
 "metadata": {
  "kernelspec": {
   "display_name": "Python 3",
   "language": "python",
   "name": "python3"
  },
  "language_info": {
   "codemirror_mode": {
    "name": "ipython",
    "version": 3
   },
   "file_extension": ".py",
   "mimetype": "text/x-python",
   "name": "python",
   "nbconvert_exporter": "python",
   "pygments_lexer": "ipython3",
   "version": "3.7.4"
  }
 },
 "nbformat": 4,
 "nbformat_minor": 2
}
