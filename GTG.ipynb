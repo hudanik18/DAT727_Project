{
 "cells": [
  {
   "cell_type": "code",
   "execution_count": 1,
   "metadata": {},
   "outputs": [],
   "source": [
    "import pandas as pd\n"
   ]
  },
  {
   "cell_type": "code",
   "execution_count": 2,
   "metadata": {},
   "outputs": [],
   "source": [
    "df = pd.read_excel('GTG_2006_2019.xlsx')\n"
   ]
  },
  {
   "cell_type": "code",
   "execution_count": 3,
   "metadata": {},
   "outputs": [
    {
     "data": {
      "text/html": [
       "<div>\n",
       "<style scoped>\n",
       "    .dataframe tbody tr th:only-of-type {\n",
       "        vertical-align: middle;\n",
       "    }\n",
       "\n",
       "    .dataframe tbody tr th {\n",
       "        vertical-align: top;\n",
       "    }\n",
       "\n",
       "    .dataframe thead th {\n",
       "        text-align: right;\n",
       "    }\n",
       "</style>\n",
       "<table border=\"1\" class=\"dataframe\">\n",
       "  <thead>\n",
       "    <tr style=\"text-align: right;\">\n",
       "      <th></th>\n",
       "      <th>Pim_Issue_Date</th>\n",
       "      <th>Significance</th>\n",
       "      <th>Docket</th>\n",
       "      <th>CornerstoneAttribute</th>\n",
       "    </tr>\n",
       "  </thead>\n",
       "  <tbody>\n",
       "    <tr>\n",
       "      <td>0</td>\n",
       "      <td>01/19/2017\\r\\n01/19/2017</td>\n",
       "      <td>White</td>\n",
       "      <td>05000368 Arkansas Nuclear 2</td>\n",
       "      <td>NaN</td>\n",
       "    </tr>\n",
       "    <tr>\n",
       "      <td>1</td>\n",
       "      <td>08/01/2014\\r\\n08/09/2014</td>\n",
       "      <td>Yellow</td>\n",
       "      <td>05000313 Arkansas Nuclear 1\\r\\n05000368 Arkans...</td>\n",
       "      <td>NaN</td>\n",
       "    </tr>\n",
       "    <tr>\n",
       "      <td>2</td>\n",
       "      <td>02/10/2014\\r\\n03/24/2014</td>\n",
       "      <td>Yellow</td>\n",
       "      <td>05000313 Arkansas Nuclear 1</td>\n",
       "      <td>NaN</td>\n",
       "    </tr>\n",
       "    <tr>\n",
       "      <td>3</td>\n",
       "      <td>02/10/2014\\r\\n03/24/2014</td>\n",
       "      <td>Yellow</td>\n",
       "      <td>05000368 Arkansas Nuclear 2</td>\n",
       "      <td>NaN</td>\n",
       "    </tr>\n",
       "    <tr>\n",
       "      <td>4</td>\n",
       "      <td>08/22/2006\\r\\n09/18/2006</td>\n",
       "      <td>White</td>\n",
       "      <td>05000334 Beaver Valley 1\\r\\n05000412 Beaver Va...</td>\n",
       "      <td>NaN</td>\n",
       "    </tr>\n",
       "  </tbody>\n",
       "</table>\n",
       "</div>"
      ],
      "text/plain": [
       "             Pim_Issue_Date Significance  \\\n",
       "0  01/19/2017\\r\\n01/19/2017        White   \n",
       "1  08/01/2014\\r\\n08/09/2014       Yellow   \n",
       "2  02/10/2014\\r\\n03/24/2014       Yellow   \n",
       "3  02/10/2014\\r\\n03/24/2014       Yellow   \n",
       "4  08/22/2006\\r\\n09/18/2006        White   \n",
       "\n",
       "                                              Docket CornerstoneAttribute  \n",
       "0                        05000368 Arkansas Nuclear 2                  NaN  \n",
       "1  05000313 Arkansas Nuclear 1\\r\\n05000368 Arkans...                  NaN  \n",
       "2                        05000313 Arkansas Nuclear 1                  NaN  \n",
       "3                        05000368 Arkansas Nuclear 2                  NaN  \n",
       "4  05000334 Beaver Valley 1\\r\\n05000412 Beaver Va...                  NaN  "
      ]
     },
     "execution_count": 3,
     "metadata": {},
     "output_type": "execute_result"
    }
   ],
   "source": [
    "df.head()"
   ]
  },
  {
   "cell_type": "code",
   "execution_count": 4,
   "metadata": {},
   "outputs": [
    {
     "data": {
      "text/plain": [
       "Pim_Issue_Date          object\n",
       "Significance            object\n",
       "Docket                  object\n",
       "CornerstoneAttribute    object\n",
       "dtype: object"
      ]
     },
     "execution_count": 4,
     "metadata": {},
     "output_type": "execute_result"
    }
   ],
   "source": [
    "df.dtypes"
   ]
  },
  {
   "cell_type": "code",
   "execution_count": 6,
   "metadata": {},
   "outputs": [],
   "source": [
    "df['Pim_Issue_Date'] = df['Pim_Issue_Date'].apply(lambda x : x.split('\\r',1)[0]) \n",
    "\n"
   ]
  },
  {
   "cell_type": "code",
   "execution_count": 7,
   "metadata": {},
   "outputs": [
    {
     "data": {
      "text/html": [
       "<div>\n",
       "<style scoped>\n",
       "    .dataframe tbody tr th:only-of-type {\n",
       "        vertical-align: middle;\n",
       "    }\n",
       "\n",
       "    .dataframe tbody tr th {\n",
       "        vertical-align: top;\n",
       "    }\n",
       "\n",
       "    .dataframe thead th {\n",
       "        text-align: right;\n",
       "    }\n",
       "</style>\n",
       "<table border=\"1\" class=\"dataframe\">\n",
       "  <thead>\n",
       "    <tr style=\"text-align: right;\">\n",
       "      <th></th>\n",
       "      <th>Pim_Issue_Date</th>\n",
       "      <th>Significance</th>\n",
       "      <th>Docket</th>\n",
       "      <th>CornerstoneAttribute</th>\n",
       "    </tr>\n",
       "  </thead>\n",
       "  <tbody>\n",
       "    <tr>\n",
       "      <td>0</td>\n",
       "      <td>01/19/2017</td>\n",
       "      <td>White</td>\n",
       "      <td>05000368 Arkansas Nuclear 2</td>\n",
       "      <td>NaN</td>\n",
       "    </tr>\n",
       "    <tr>\n",
       "      <td>1</td>\n",
       "      <td>08/01/2014</td>\n",
       "      <td>Yellow</td>\n",
       "      <td>05000313 Arkansas Nuclear 1\\r\\n05000368 Arkans...</td>\n",
       "      <td>NaN</td>\n",
       "    </tr>\n",
       "    <tr>\n",
       "      <td>2</td>\n",
       "      <td>02/10/2014</td>\n",
       "      <td>Yellow</td>\n",
       "      <td>05000313 Arkansas Nuclear 1</td>\n",
       "      <td>NaN</td>\n",
       "    </tr>\n",
       "    <tr>\n",
       "      <td>3</td>\n",
       "      <td>02/10/2014</td>\n",
       "      <td>Yellow</td>\n",
       "      <td>05000368 Arkansas Nuclear 2</td>\n",
       "      <td>NaN</td>\n",
       "    </tr>\n",
       "    <tr>\n",
       "      <td>4</td>\n",
       "      <td>08/22/2006</td>\n",
       "      <td>White</td>\n",
       "      <td>05000334 Beaver Valley 1\\r\\n05000412 Beaver Va...</td>\n",
       "      <td>NaN</td>\n",
       "    </tr>\n",
       "  </tbody>\n",
       "</table>\n",
       "</div>"
      ],
      "text/plain": [
       "  Pim_Issue_Date Significance  \\\n",
       "0     01/19/2017        White   \n",
       "1     08/01/2014       Yellow   \n",
       "2     02/10/2014       Yellow   \n",
       "3     02/10/2014       Yellow   \n",
       "4     08/22/2006        White   \n",
       "\n",
       "                                              Docket CornerstoneAttribute  \n",
       "0                        05000368 Arkansas Nuclear 2                  NaN  \n",
       "1  05000313 Arkansas Nuclear 1\\r\\n05000368 Arkans...                  NaN  \n",
       "2                        05000313 Arkansas Nuclear 1                  NaN  \n",
       "3                        05000368 Arkansas Nuclear 2                  NaN  \n",
       "4  05000334 Beaver Valley 1\\r\\n05000412 Beaver Va...                  NaN  "
      ]
     },
     "execution_count": 7,
     "metadata": {},
     "output_type": "execute_result"
    }
   ],
   "source": [
    "df.head()"
   ]
  },
  {
   "cell_type": "code",
   "execution_count": 8,
   "metadata": {},
   "outputs": [],
   "source": [
    "df['Pim_Issue_Date']= pd.to_datetime(df['Pim_Issue_Date'])"
   ]
  },
  {
   "cell_type": "code",
   "execution_count": 9,
   "metadata": {},
   "outputs": [
    {
     "data": {
      "text/plain": [
       "Pim_Issue_Date          datetime64[ns]\n",
       "Significance                    object\n",
       "Docket                          object\n",
       "CornerstoneAttribute            object\n",
       "dtype: object"
      ]
     },
     "execution_count": 9,
     "metadata": {},
     "output_type": "execute_result"
    }
   ],
   "source": [
    "df.dtypes"
   ]
  },
  {
   "cell_type": "code",
   "execution_count": 22,
   "metadata": {},
   "outputs": [],
   "source": [
    "df = df.set_index(['Pim_Issue_Date'])"
   ]
  },
  {
   "cell_type": "code",
   "execution_count": 23,
   "metadata": {},
   "outputs": [
    {
     "data": {
      "text/html": [
       "<div>\n",
       "<style scoped>\n",
       "    .dataframe tbody tr th:only-of-type {\n",
       "        vertical-align: middle;\n",
       "    }\n",
       "\n",
       "    .dataframe tbody tr th {\n",
       "        vertical-align: top;\n",
       "    }\n",
       "\n",
       "    .dataframe thead th {\n",
       "        text-align: right;\n",
       "    }\n",
       "</style>\n",
       "<table border=\"1\" class=\"dataframe\">\n",
       "  <thead>\n",
       "    <tr style=\"text-align: right;\">\n",
       "      <th></th>\n",
       "      <th>Significance</th>\n",
       "      <th>Docket</th>\n",
       "      <th>CornerstoneAttribute</th>\n",
       "    </tr>\n",
       "    <tr>\n",
       "      <th>Pim_Issue_Date</th>\n",
       "      <th></th>\n",
       "      <th></th>\n",
       "      <th></th>\n",
       "    </tr>\n",
       "  </thead>\n",
       "  <tbody>\n",
       "    <tr>\n",
       "      <td>2017-01-19</td>\n",
       "      <td>White</td>\n",
       "      <td>05000368 Arkansas Nuclear 2</td>\n",
       "      <td>NaN</td>\n",
       "    </tr>\n",
       "    <tr>\n",
       "      <td>2014-08-01</td>\n",
       "      <td>Yellow</td>\n",
       "      <td>05000313 Arkansas Nuclear 1\\r\\n05000368 Arkans...</td>\n",
       "      <td>NaN</td>\n",
       "    </tr>\n",
       "    <tr>\n",
       "      <td>2014-02-10</td>\n",
       "      <td>Yellow</td>\n",
       "      <td>05000313 Arkansas Nuclear 1</td>\n",
       "      <td>NaN</td>\n",
       "    </tr>\n",
       "    <tr>\n",
       "      <td>2014-02-10</td>\n",
       "      <td>Yellow</td>\n",
       "      <td>05000368 Arkansas Nuclear 2</td>\n",
       "      <td>NaN</td>\n",
       "    </tr>\n",
       "    <tr>\n",
       "      <td>2006-08-22</td>\n",
       "      <td>White</td>\n",
       "      <td>05000334 Beaver Valley 1\\r\\n05000412 Beaver Va...</td>\n",
       "      <td>NaN</td>\n",
       "    </tr>\n",
       "  </tbody>\n",
       "</table>\n",
       "</div>"
      ],
      "text/plain": [
       "               Significance  \\\n",
       "Pim_Issue_Date                \n",
       "2017-01-19            White   \n",
       "2014-08-01           Yellow   \n",
       "2014-02-10           Yellow   \n",
       "2014-02-10           Yellow   \n",
       "2006-08-22            White   \n",
       "\n",
       "                                                           Docket  \\\n",
       "Pim_Issue_Date                                                      \n",
       "2017-01-19                            05000368 Arkansas Nuclear 2   \n",
       "2014-08-01      05000313 Arkansas Nuclear 1\\r\\n05000368 Arkans...   \n",
       "2014-02-10                            05000313 Arkansas Nuclear 1   \n",
       "2014-02-10                            05000368 Arkansas Nuclear 2   \n",
       "2006-08-22      05000334 Beaver Valley 1\\r\\n05000412 Beaver Va...   \n",
       "\n",
       "               CornerstoneAttribute  \n",
       "Pim_Issue_Date                       \n",
       "2017-01-19                      NaN  \n",
       "2014-08-01                      NaN  \n",
       "2014-02-10                      NaN  \n",
       "2014-02-10                      NaN  \n",
       "2006-08-22                      NaN  "
      ]
     },
     "execution_count": 23,
     "metadata": {},
     "output_type": "execute_result"
    }
   ],
   "source": [
    "df.head()"
   ]
  },
  {
   "cell_type": "code",
   "execution_count": 24,
   "metadata": {},
   "outputs": [
    {
     "data": {
      "text/html": [
       "<div>\n",
       "<style scoped>\n",
       "    .dataframe tbody tr th:only-of-type {\n",
       "        vertical-align: middle;\n",
       "    }\n",
       "\n",
       "    .dataframe tbody tr th {\n",
       "        vertical-align: top;\n",
       "    }\n",
       "\n",
       "    .dataframe thead th {\n",
       "        text-align: right;\n",
       "    }\n",
       "</style>\n",
       "<table border=\"1\" class=\"dataframe\">\n",
       "  <thead>\n",
       "    <tr style=\"text-align: right;\">\n",
       "      <th></th>\n",
       "      <th>Significance</th>\n",
       "      <th>Docket</th>\n",
       "      <th>CornerstoneAttribute</th>\n",
       "    </tr>\n",
       "    <tr>\n",
       "      <th>Pim_Issue_Date</th>\n",
       "      <th></th>\n",
       "      <th></th>\n",
       "      <th></th>\n",
       "    </tr>\n",
       "  </thead>\n",
       "  <tbody>\n",
       "    <tr>\n",
       "      <td>2017-01-19</td>\n",
       "      <td>White</td>\n",
       "      <td>05000368 Arkansas Nuclear 2</td>\n",
       "      <td>NaN</td>\n",
       "    </tr>\n",
       "    <tr>\n",
       "      <td>2014-08-01</td>\n",
       "      <td>Yellow</td>\n",
       "      <td>05000313 Arkansas Nuclear 1\\r\\n05000368 Arkans...</td>\n",
       "      <td>NaN</td>\n",
       "    </tr>\n",
       "    <tr>\n",
       "      <td>2014-02-10</td>\n",
       "      <td>Yellow</td>\n",
       "      <td>05000313 Arkansas Nuclear 1</td>\n",
       "      <td>NaN</td>\n",
       "    </tr>\n",
       "    <tr>\n",
       "      <td>2014-02-10</td>\n",
       "      <td>Yellow</td>\n",
       "      <td>05000368 Arkansas Nuclear 2</td>\n",
       "      <td>NaN</td>\n",
       "    </tr>\n",
       "    <tr>\n",
       "      <td>2006-08-22</td>\n",
       "      <td>White</td>\n",
       "      <td>05000334 Beaver Valley 1\\r\\n05000412 Beaver Va...</td>\n",
       "      <td>NaN</td>\n",
       "    </tr>\n",
       "    <tr>\n",
       "      <td>...</td>\n",
       "      <td>...</td>\n",
       "      <td>...</td>\n",
       "      <td>...</td>\n",
       "    </tr>\n",
       "    <tr>\n",
       "      <td>2013-01-18</td>\n",
       "      <td>Yellow</td>\n",
       "      <td>05000390 Watts Bar 1</td>\n",
       "      <td>NaN</td>\n",
       "    </tr>\n",
       "    <tr>\n",
       "      <td>2006-03-15</td>\n",
       "      <td>White</td>\n",
       "      <td>05000390 Watts Bar 1</td>\n",
       "      <td>NaN</td>\n",
       "    </tr>\n",
       "    <tr>\n",
       "      <td>2016-06-29</td>\n",
       "      <td>White</td>\n",
       "      <td>05000482 Wolf Creek 1</td>\n",
       "      <td>NaN</td>\n",
       "    </tr>\n",
       "    <tr>\n",
       "      <td>2014-03-04</td>\n",
       "      <td>White</td>\n",
       "      <td>05000482 Wolf Creek 1</td>\n",
       "      <td>NaN</td>\n",
       "    </tr>\n",
       "    <tr>\n",
       "      <td>2012-08-06</td>\n",
       "      <td>Yellow</td>\n",
       "      <td>05000482 Wolf Creek 1</td>\n",
       "      <td>NaN</td>\n",
       "    </tr>\n",
       "  </tbody>\n",
       "</table>\n",
       "<p>167 rows × 3 columns</p>\n",
       "</div>"
      ],
      "text/plain": [
       "               Significance  \\\n",
       "Pim_Issue_Date                \n",
       "2017-01-19            White   \n",
       "2014-08-01           Yellow   \n",
       "2014-02-10           Yellow   \n",
       "2014-02-10           Yellow   \n",
       "2006-08-22            White   \n",
       "...                     ...   \n",
       "2013-01-18           Yellow   \n",
       "2006-03-15            White   \n",
       "2016-06-29            White   \n",
       "2014-03-04            White   \n",
       "2012-08-06           Yellow   \n",
       "\n",
       "                                                           Docket  \\\n",
       "Pim_Issue_Date                                                      \n",
       "2017-01-19                            05000368 Arkansas Nuclear 2   \n",
       "2014-08-01      05000313 Arkansas Nuclear 1\\r\\n05000368 Arkans...   \n",
       "2014-02-10                            05000313 Arkansas Nuclear 1   \n",
       "2014-02-10                            05000368 Arkansas Nuclear 2   \n",
       "2006-08-22      05000334 Beaver Valley 1\\r\\n05000412 Beaver Va...   \n",
       "...                                                           ...   \n",
       "2013-01-18                                   05000390 Watts Bar 1   \n",
       "2006-03-15                                   05000390 Watts Bar 1   \n",
       "2016-06-29                                  05000482 Wolf Creek 1   \n",
       "2014-03-04                                  05000482 Wolf Creek 1   \n",
       "2012-08-06                                  05000482 Wolf Creek 1   \n",
       "\n",
       "               CornerstoneAttribute  \n",
       "Pim_Issue_Date                       \n",
       "2017-01-19                      NaN  \n",
       "2014-08-01                      NaN  \n",
       "2014-02-10                      NaN  \n",
       "2014-02-10                      NaN  \n",
       "2006-08-22                      NaN  \n",
       "...                             ...  \n",
       "2013-01-18                      NaN  \n",
       "2006-03-15                      NaN  \n",
       "2016-06-29                      NaN  \n",
       "2014-03-04                      NaN  \n",
       "2012-08-06                      NaN  \n",
       "\n",
       "[167 rows x 3 columns]"
      ]
     },
     "execution_count": 24,
     "metadata": {},
     "output_type": "execute_result"
    }
   ],
   "source": [
    "df['2006/01/01':'2017/12/31']"
   ]
  },
  {
   "cell_type": "code",
   "execution_count": 36,
   "metadata": {},
   "outputs": [
    {
     "name": "stdout",
     "output_type": "stream",
     "text": [
      "<class 'pandas.core.frame.DataFrame'>\n",
      "DatetimeIndex: 172 entries, 2017-01-19 to 2012-08-06\n",
      "Data columns (total 3 columns):\n",
      "Significance            172 non-null object\n",
      "Docket                  172 non-null object\n",
      "CornerstoneAttribute    2 non-null object\n",
      "dtypes: object(3)\n",
      "memory usage: 10.4+ KB\n"
     ]
    }
   ],
   "source": [
    "df.info()"
   ]
  },
  {
   "cell_type": "code",
   "execution_count": 12,
   "metadata": {},
   "outputs": [],
   "source": [
    "def GTGcounts(year):\n",
    "    \n",
    "    JanAvg = df[year+'-01-01':year+'-01-31'].Significance.count()\n",
    "    FebAvg = df[year+'-02-01':year+'-02-28'].Significance.count()\n",
    "    MarAvg = df[year+'-03-01':year+'-03-31'].Significance.count()\n",
    "    AprAvg = df[year+'-04-01':year+'-04-30'].Significance.count()\n",
    "    MayAvg = df[year+'-05-01':year+'-05-31'].Significance.count()\n",
    "    JunAvg = df[year+'-06-01':year+'-06-30'].Significance.count()\n",
    "    JulAvg = df[year+'-07-01':year+'-07-31'].Significance.count()\n",
    "    AugAvg = df[year+'-08-01':year+'-08-31'].Significance.count()\n",
    "    SepAvg = df[year+'-09-01':year+'-09-30'].Significance.count()\n",
    "    OctAvg = df[year+'-10-01':year+'-10-31'].Significance.count()\n",
    "    NovAvg = df[year+'-11-01':year+'-11-30'].Significance.count()\n",
    "    DecAvg = df[year+'-12-01':year+'-12-31'].Significance.count()\n",
    "    print('{} {} {} {} {} {} {} {} {} {} {} {}'.format(JanAvg, FebAvg, MarAvg, AprAvg, MayAvg, JunAvg, JulAvg, AugAvg, SepAvg, OctAvg, NovAvg, DecAvg))\n",
    "    "
   ]
  },
  {
   "cell_type": "code",
   "execution_count": 25,
   "metadata": {},
   "outputs": [
    {
     "name": "stdout",
     "output_type": "stream",
     "text": [
      "0 0 0 0 0 0 0 0 0 0 0 0\n"
     ]
    }
   ],
   "source": [
    "GTGcounts('2019')"
   ]
  },
  {
   "cell_type": "code",
   "execution_count": 26,
   "metadata": {},
   "outputs": [
    {
     "name": "stdout",
     "output_type": "stream",
     "text": [
      "0 0 1 0 0 0 0 1 1 0 0 1\n"
     ]
    }
   ],
   "source": [
    "GTGcounts('2018')"
   ]
  },
  {
   "cell_type": "code",
   "execution_count": 27,
   "metadata": {},
   "outputs": [
    {
     "name": "stdout",
     "output_type": "stream",
     "text": [
      "2 1 1 1 0 0 1 2 0 0 0 2\n"
     ]
    }
   ],
   "source": [
    "GTGcounts('2017')"
   ]
  },
  {
   "cell_type": "code",
   "execution_count": 28,
   "metadata": {},
   "outputs": [
    {
     "name": "stdout",
     "output_type": "stream",
     "text": [
      "0 0 1 0 0 2 0 1 2 0 1 2\n"
     ]
    }
   ],
   "source": [
    "GTGcounts('2016')"
   ]
  },
  {
   "cell_type": "code",
   "execution_count": 29,
   "metadata": {},
   "outputs": [
    {
     "name": "stdout",
     "output_type": "stream",
     "text": [
      "1 0 3 0 0 2 0 0 0 0 0 0\n"
     ]
    }
   ],
   "source": [
    "GTGcounts('2015')"
   ]
  },
  {
   "cell_type": "code",
   "execution_count": 30,
   "metadata": {},
   "outputs": [
    {
     "name": "stdout",
     "output_type": "stream",
     "text": [
      "1 2 2 0 0 3 2 1 1 4 0 4\n"
     ]
    }
   ],
   "source": [
    "GTGcounts('2014')"
   ]
  },
  {
   "cell_type": "code",
   "execution_count": 31,
   "metadata": {},
   "outputs": [
    {
     "name": "stdout",
     "output_type": "stream",
     "text": [
      "2 3 4 0 1 1 0 0 3 0 0 4\n"
     ]
    }
   ],
   "source": [
    "GTGcounts('2013')"
   ]
  },
  {
   "cell_type": "code",
   "execution_count": 32,
   "metadata": {},
   "outputs": [
    {
     "name": "stdout",
     "output_type": "stream",
     "text": [
      "0 0 0 3 1 4 0 1 1 1 0 4\n"
     ]
    }
   ],
   "source": [
    "GTGcounts('2012')"
   ]
  },
  {
   "cell_type": "code",
   "execution_count": 33,
   "metadata": {},
   "outputs": [
    {
     "name": "stdout",
     "output_type": "stream",
     "text": [
      "0 1 1 2 2 0 3 1 2 3 1 3\n"
     ]
    }
   ],
   "source": [
    "GTGcounts('2011')"
   ]
  },
  {
   "cell_type": "code",
   "execution_count": 34,
   "metadata": {},
   "outputs": [
    {
     "name": "stdout",
     "output_type": "stream",
     "text": [
      "0 0 2 1 0 1 0 1 2 1 0 1\n"
     ]
    }
   ],
   "source": [
    "GTGcounts('2010')"
   ]
  },
  {
   "cell_type": "code",
   "execution_count": 35,
   "metadata": {},
   "outputs": [
    {
     "name": "stdout",
     "output_type": "stream",
     "text": [
      "2 0 3 1 2 0 2 1 1 4 3 3\n"
     ]
    }
   ],
   "source": [
    "GTGcounts('2009')"
   ]
  },
  {
   "cell_type": "code",
   "execution_count": 37,
   "metadata": {},
   "outputs": [
    {
     "name": "stdout",
     "output_type": "stream",
     "text": [
      "1 1 2 0 0 0 0 3 0 1 2 1\n"
     ]
    }
   ],
   "source": [
    "GTGcounts('2008')"
   ]
  },
  {
   "cell_type": "code",
   "execution_count": 38,
   "metadata": {},
   "outputs": [
    {
     "name": "stdout",
     "output_type": "stream",
     "text": [
      "2 1 1 1 0 0 2 2 0 0 0 0\n"
     ]
    }
   ],
   "source": [
    "GTGcounts('2007')"
   ]
  },
  {
   "cell_type": "code",
   "execution_count": 39,
   "metadata": {},
   "outputs": [
    {
     "name": "stdout",
     "output_type": "stream",
     "text": [
      "0 0 3 0 2 1 1 6 0 1 3 2\n"
     ]
    }
   ],
   "source": [
    "GTGcounts('2006')"
   ]
  },
  {
   "cell_type": "code",
   "execution_count": null,
   "metadata": {},
   "outputs": [],
   "source": []
  }
 ],
 "metadata": {
  "kernelspec": {
   "display_name": "Python 3",
   "language": "python",
   "name": "python3"
  },
  "language_info": {
   "codemirror_mode": {
    "name": "ipython",
    "version": 3
   },
   "file_extension": ".py",
   "mimetype": "text/x-python",
   "name": "python",
   "nbconvert_exporter": "python",
   "pygments_lexer": "ipython3",
   "version": "3.7.4"
  }
 },
 "nbformat": 4,
 "nbformat_minor": 2
}
