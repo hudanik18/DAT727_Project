{
 "cells": [
  {
   "cell_type": "code",
   "execution_count": 1,
   "metadata": {},
   "outputs": [],
   "source": [
    "import pandas as pd\n"
   ]
  },
  {
   "cell_type": "code",
   "execution_count": 2,
   "metadata": {},
   "outputs": [],
   "source": [
    "df = pd.read_excel('LERs.xlsx')\n"
   ]
  },
  {
   "cell_type": "code",
   "execution_count": 3,
   "metadata": {},
   "outputs": [
    {
     "data": {
      "text/html": [
       "<div>\n",
       "<style scoped>\n",
       "    .dataframe tbody tr th:only-of-type {\n",
       "        vertical-align: middle;\n",
       "    }\n",
       "\n",
       "    .dataframe tbody tr th {\n",
       "        vertical-align: top;\n",
       "    }\n",
       "\n",
       "    .dataframe thead th {\n",
       "        text-align: right;\n",
       "    }\n",
       "</style>\n",
       "<table border=\"1\" class=\"dataframe\">\n",
       "  <thead>\n",
       "    <tr style=\"text-align: right;\">\n",
       "      <th></th>\n",
       "      <th>EventDate</th>\n",
       "      <th>Report Date</th>\n",
       "      <th>Accession #</th>\n",
       "      <th>Title</th>\n",
       "    </tr>\n",
       "  </thead>\n",
       "  <tbody>\n",
       "    <tr>\n",
       "      <td>0</td>\n",
       "      <td>01/01/2007</td>\n",
       "      <td>02/27/2007</td>\n",
       "      <td>ML07058054</td>\n",
       "      <td>Sludge Mixing Valves was Determined to be in a...</td>\n",
       "    </tr>\n",
       "    <tr>\n",
       "      <td>1</td>\n",
       "      <td>01/01/2010</td>\n",
       "      <td>03/02/2010</td>\n",
       "      <td>ML10063042</td>\n",
       "      <td>Emergency Diesel Generator Start due to Failed...</td>\n",
       "    </tr>\n",
       "    <tr>\n",
       "      <td>2</td>\n",
       "      <td>01/01/2019</td>\n",
       "      <td>03/01/2019</td>\n",
       "      <td>ML19060A29</td>\n",
       "      <td>Unplanned Loss of Safety Function of Gland Sea...</td>\n",
       "    </tr>\n",
       "    <tr>\n",
       "      <td>3</td>\n",
       "      <td>01/02/2007</td>\n",
       "      <td>02/28/2007</td>\n",
       "      <td>ML07065040</td>\n",
       "      <td>Technical Specification Prohibited Condition d...</td>\n",
       "    </tr>\n",
       "    <tr>\n",
       "      <td>4</td>\n",
       "      <td>01/02/2009</td>\n",
       "      <td>10/30/2009</td>\n",
       "      <td>ML09314025</td>\n",
       "      <td>Automatic Actuation of an Emergency Diesel Gen...</td>\n",
       "    </tr>\n",
       "  </tbody>\n",
       "</table>\n",
       "</div>"
      ],
      "text/plain": [
       "    EventDate Report Date Accession #  \\\n",
       "0  01/01/2007  02/27/2007  ML07058054   \n",
       "1  01/01/2010  03/02/2010  ML10063042   \n",
       "2  01/01/2019  03/01/2019  ML19060A29   \n",
       "3  01/02/2007  02/28/2007  ML07065040   \n",
       "4  01/02/2009  10/30/2009  ML09314025   \n",
       "\n",
       "                                               Title  \n",
       "0  Sludge Mixing Valves was Determined to be in a...  \n",
       "1  Emergency Diesel Generator Start due to Failed...  \n",
       "2  Unplanned Loss of Safety Function of Gland Sea...  \n",
       "3  Technical Specification Prohibited Condition d...  \n",
       "4  Automatic Actuation of an Emergency Diesel Gen...  "
      ]
     },
     "execution_count": 3,
     "metadata": {},
     "output_type": "execute_result"
    }
   ],
   "source": [
    "df.head()"
   ]
  },
  {
   "cell_type": "code",
   "execution_count": 5,
   "metadata": {},
   "outputs": [
    {
     "data": {
      "text/plain": [
       "EventDate      object\n",
       "Report Date    object\n",
       "Accession #    object\n",
       "Title          object\n",
       "dtype: object"
      ]
     },
     "execution_count": 5,
     "metadata": {},
     "output_type": "execute_result"
    }
   ],
   "source": [
    "df.dtypes"
   ]
  },
  {
   "cell_type": "code",
   "execution_count": 6,
   "metadata": {},
   "outputs": [],
   "source": [
    "df['EventDate']= pd.to_datetime(df['EventDate'])"
   ]
  },
  {
   "cell_type": "code",
   "execution_count": 7,
   "metadata": {},
   "outputs": [
    {
     "data": {
      "text/plain": [
       "EventDate      datetime64[ns]\n",
       "Report Date            object\n",
       "Accession #            object\n",
       "Title                  object\n",
       "dtype: object"
      ]
     },
     "execution_count": 7,
     "metadata": {},
     "output_type": "execute_result"
    }
   ],
   "source": [
    "df.dtypes"
   ]
  },
  {
   "cell_type": "code",
   "execution_count": 9,
   "metadata": {},
   "outputs": [],
   "source": [
    "df = df.set_index(['EventDate'])\n"
   ]
  },
  {
   "cell_type": "code",
   "execution_count": 10,
   "metadata": {},
   "outputs": [],
   "source": [
    "def LERcounts(year):\n",
    "    \n",
    "    JanAvg = df[year+'-01-01':year+'-01-31'].Title.count()\n",
    "    FebAvg = df[year+'-02-01':year+'-02-28'].Title.count()\n",
    "    MarAvg = df[year+'-03-01':year+'-03-31'].Title.count()\n",
    "    AprAvg = df[year+'-04-01':year+'-04-30'].Title.count()\n",
    "    MayAvg = df[year+'-05-01':year+'-05-31'].Title.count()\n",
    "    JunAvg = df[year+'-06-01':year+'-06-30'].Title.count()\n",
    "    JulAvg = df[year+'-07-01':year+'-07-31'].Title.count()\n",
    "    AugAvg = df[year+'-08-01':year+'-08-31'].Title.count()\n",
    "    SepAvg = df[year+'-09-01':year+'-09-30'].Title.count()\n",
    "    OctAvg = df[year+'-10-01':year+'-10-31'].Title.count()\n",
    "    NovAvg = df[year+'-11-01':year+'-11-30'].Title.count()\n",
    "    DecAvg = df[year+'-12-01':year+'-12-31'].Title.count()\n",
    "    print('{} {} {} {} {} {} {} {} {} {} {} {}'.format(JanAvg, FebAvg, MarAvg, AprAvg, MayAvg, JunAvg, JulAvg, AugAvg, SepAvg, OctAvg, NovAvg, DecAvg))\n",
    "    "
   ]
  },
  {
   "cell_type": "code",
   "execution_count": 12,
   "metadata": {},
   "outputs": [
    {
     "name": "stdout",
     "output_type": "stream",
     "text": [
      "10 10 21 18 23 9 14 21 12 10 10 7\n"
     ]
    }
   ],
   "source": [
    "LERcounts('2019')"
   ]
  },
  {
   "cell_type": "code",
   "execution_count": 13,
   "metadata": {},
   "outputs": [
    {
     "name": "stdout",
     "output_type": "stream",
     "text": [
      "13 18 20 31 24 16 13 7 18 24 10 14\n"
     ]
    }
   ],
   "source": [
    "LERcounts('2018')"
   ]
  },
  {
   "cell_type": "code",
   "execution_count": 14,
   "metadata": {},
   "outputs": [
    {
     "name": "stdout",
     "output_type": "stream",
     "text": [
      "17 23 35 26 23 29 14 16 23 18 20 13\n"
     ]
    }
   ],
   "source": [
    "LERcounts('2017')"
   ]
  },
  {
   "cell_type": "code",
   "execution_count": 15,
   "metadata": {},
   "outputs": [
    {
     "name": "stdout",
     "output_type": "stream",
     "text": [
      "26 25 44 39 30 33 12 26 22 27 27 18\n"
     ]
    }
   ],
   "source": [
    "LERcounts('2016')"
   ]
  },
  {
   "cell_type": "code",
   "execution_count": 16,
   "metadata": {},
   "outputs": [
    {
     "name": "stdout",
     "output_type": "stream",
     "text": [
      "22 27 29 36 30 28 18 26 24 22 22 20\n"
     ]
    }
   ],
   "source": [
    "LERcounts('2015')"
   ]
  },
  {
   "cell_type": "code",
   "execution_count": 17,
   "metadata": {},
   "outputs": [
    {
     "name": "stdout",
     "output_type": "stream",
     "text": [
      "34 31 42 38 29 21 11 22 10 23 17 16\n"
     ]
    }
   ],
   "source": [
    "LERcounts('2014')"
   ]
  },
  {
   "cell_type": "code",
   "execution_count": 18,
   "metadata": {},
   "outputs": [
    {
     "name": "stdout",
     "output_type": "stream",
     "text": [
      "26 33 36 26 25 31 13 23 25 49 39 32\n"
     ]
    }
   ],
   "source": [
    "LERcounts('2013')"
   ]
  },
  {
   "cell_type": "code",
   "execution_count": 19,
   "metadata": {},
   "outputs": [
    {
     "name": "stdout",
     "output_type": "stream",
     "text": [
      "15 30 36 39 27 28 27 29 26 39 26 25\n"
     ]
    }
   ],
   "source": [
    "LERcounts('2012')"
   ]
  },
  {
   "cell_type": "code",
   "execution_count": 20,
   "metadata": {},
   "outputs": [
    {
     "name": "stdout",
     "output_type": "stream",
     "text": [
      "24 30 23 30 35 31 19 29 26 26 23 24\n"
     ]
    }
   ],
   "source": [
    "LERcounts('2011')"
   ]
  },
  {
   "cell_type": "code",
   "execution_count": 21,
   "metadata": {},
   "outputs": [
    {
     "name": "stdout",
     "output_type": "stream",
     "text": [
      "29 26 31 32 30 27 16 24 33 37 32 21\n"
     ]
    }
   ],
   "source": [
    "LERcounts('2010')"
   ]
  },
  {
   "cell_type": "code",
   "execution_count": 22,
   "metadata": {},
   "outputs": [
    {
     "name": "stdout",
     "output_type": "stream",
     "text": [
      "18 21 27 34 29 18 19 23 30 32 27 25\n"
     ]
    }
   ],
   "source": [
    "LERcounts('2009')"
   ]
  },
  {
   "cell_type": "code",
   "execution_count": 23,
   "metadata": {},
   "outputs": [
    {
     "name": "stdout",
     "output_type": "stream",
     "text": [
      "24 18 32 22 30 17 16 18 21 31 25 19\n"
     ]
    }
   ],
   "source": [
    "LERcounts('2008')"
   ]
  },
  {
   "cell_type": "code",
   "execution_count": 24,
   "metadata": {},
   "outputs": [
    {
     "name": "stdout",
     "output_type": "stream",
     "text": [
      "21 32 28 31 22 27 18 17 17 27 15 17\n"
     ]
    }
   ],
   "source": [
    "LERcounts('2007')"
   ]
  },
  {
   "cell_type": "code",
   "execution_count": 25,
   "metadata": {},
   "outputs": [
    {
     "name": "stdout",
     "output_type": "stream",
     "text": [
      "15 19 37 35 35 19 21 22 17 40 33 24\n"
     ]
    }
   ],
   "source": [
    "LERcounts('2006')"
   ]
  },
  {
   "cell_type": "code",
   "execution_count": null,
   "metadata": {},
   "outputs": [],
   "source": []
  }
 ],
 "metadata": {
  "kernelspec": {
   "display_name": "Python 3",
   "language": "python",
   "name": "python3"
  },
  "language_info": {
   "codemirror_mode": {
    "name": "ipython",
    "version": 3
   },
   "file_extension": ".py",
   "mimetype": "text/x-python",
   "name": "python",
   "nbconvert_exporter": "python",
   "pygments_lexer": "ipython3",
   "version": "3.7.4"
  }
 },
 "nbformat": 4,
 "nbformat_minor": 2
}
