{
 "cells": [
  {
   "cell_type": "code",
   "execution_count": 1,
   "metadata": {},
   "outputs": [],
   "source": [
    "import pandas as pd\n"
   ]
  },
  {
   "cell_type": "code",
   "execution_count": 2,
   "metadata": {},
   "outputs": [],
   "source": [
    "df = pd.read_excel('greenFindings_2006_2019.xlsx')\n"
   ]
  },
  {
   "cell_type": "code",
   "execution_count": 3,
   "metadata": {},
   "outputs": [
    {
     "data": {
      "text/html": [
       "<div>\n",
       "<style scoped>\n",
       "    .dataframe tbody tr th:only-of-type {\n",
       "        vertical-align: middle;\n",
       "    }\n",
       "\n",
       "    .dataframe tbody tr th {\n",
       "        vertical-align: top;\n",
       "    }\n",
       "\n",
       "    .dataframe thead th {\n",
       "        text-align: right;\n",
       "    }\n",
       "</style>\n",
       "<table border=\"1\" class=\"dataframe\">\n",
       "  <thead>\n",
       "    <tr style=\"text-align: right;\">\n",
       "      <th></th>\n",
       "      <th>Pim_Issue_Date</th>\n",
       "      <th>Title</th>\n",
       "    </tr>\n",
       "  </thead>\n",
       "  <tbody>\n",
       "    <tr>\n",
       "      <td>0</td>\n",
       "      <td>12/31/2018\\r\\n02/05/2019</td>\n",
       "      <td>Inadvertent Service Water Header Pressure Redu...</td>\n",
       "    </tr>\n",
       "    <tr>\n",
       "      <td>1</td>\n",
       "      <td>12/31/2018\\r\\n02/05/2019</td>\n",
       "      <td>Failure to correct a degraded condition with t...</td>\n",
       "    </tr>\n",
       "    <tr>\n",
       "      <td>2</td>\n",
       "      <td>09/30/2018\\r\\n10/30/2018</td>\n",
       "      <td>Inadequate Verification of Full Low Head Safet...</td>\n",
       "    </tr>\n",
       "    <tr>\n",
       "      <td>3</td>\n",
       "      <td>08/10/2018\\r\\n09/20/2018</td>\n",
       "      <td>Duties of the Shift Technical Advisor for Cont...</td>\n",
       "    </tr>\n",
       "    <tr>\n",
       "      <td>4</td>\n",
       "      <td>03/31/2018\\r\\n05/02/2018</td>\n",
       "      <td>Inadequate Procedure Adherence</td>\n",
       "    </tr>\n",
       "  </tbody>\n",
       "</table>\n",
       "</div>"
      ],
      "text/plain": [
       "             Pim_Issue_Date                                              Title\n",
       "0  12/31/2018\\r\\n02/05/2019  Inadvertent Service Water Header Pressure Redu...\n",
       "1  12/31/2018\\r\\n02/05/2019  Failure to correct a degraded condition with t...\n",
       "2  09/30/2018\\r\\n10/30/2018  Inadequate Verification of Full Low Head Safet...\n",
       "3  08/10/2018\\r\\n09/20/2018  Duties of the Shift Technical Advisor for Cont...\n",
       "4  03/31/2018\\r\\n05/02/2018                     Inadequate Procedure Adherence"
      ]
     },
     "execution_count": 3,
     "metadata": {},
     "output_type": "execute_result"
    }
   ],
   "source": [
    "df.head()"
   ]
  },
  {
   "cell_type": "code",
   "execution_count": 4,
   "metadata": {},
   "outputs": [
    {
     "data": {
      "text/plain": [
       "Pim_Issue_Date    object\n",
       "Title             object\n",
       "dtype: object"
      ]
     },
     "execution_count": 4,
     "metadata": {},
     "output_type": "execute_result"
    }
   ],
   "source": [
    "df.dtypes"
   ]
  },
  {
   "cell_type": "code",
   "execution_count": 8,
   "metadata": {},
   "outputs": [],
   "source": [
    "df['Pim_Issue_Date'] = df['Pim_Issue_Date'].apply(lambda x : x.split('\\r',1)[0]) \n"
   ]
  },
  {
   "cell_type": "code",
   "execution_count": 11,
   "metadata": {},
   "outputs": [],
   "source": [
    "df['Pim_Issue_Date'] = df['Pim_Issue_Date'].apply(lambda x : x.split('\\n',1)[0]) \n"
   ]
  },
  {
   "cell_type": "code",
   "execution_count": 12,
   "metadata": {},
   "outputs": [
    {
     "data": {
      "text/html": [
       "<div>\n",
       "<style scoped>\n",
       "    .dataframe tbody tr th:only-of-type {\n",
       "        vertical-align: middle;\n",
       "    }\n",
       "\n",
       "    .dataframe tbody tr th {\n",
       "        vertical-align: top;\n",
       "    }\n",
       "\n",
       "    .dataframe thead th {\n",
       "        text-align: right;\n",
       "    }\n",
       "</style>\n",
       "<table border=\"1\" class=\"dataframe\">\n",
       "  <thead>\n",
       "    <tr style=\"text-align: right;\">\n",
       "      <th></th>\n",
       "      <th>Pim_Issue_Date</th>\n",
       "      <th>Title</th>\n",
       "    </tr>\n",
       "  </thead>\n",
       "  <tbody>\n",
       "    <tr>\n",
       "      <td>0</td>\n",
       "      <td>12/31/2018</td>\n",
       "      <td>Inadvertent Service Water Header Pressure Redu...</td>\n",
       "    </tr>\n",
       "    <tr>\n",
       "      <td>1</td>\n",
       "      <td>12/31/2018</td>\n",
       "      <td>Failure to correct a degraded condition with t...</td>\n",
       "    </tr>\n",
       "    <tr>\n",
       "      <td>2</td>\n",
       "      <td>09/30/2018</td>\n",
       "      <td>Inadequate Verification of Full Low Head Safet...</td>\n",
       "    </tr>\n",
       "    <tr>\n",
       "      <td>3</td>\n",
       "      <td>08/10/2018</td>\n",
       "      <td>Duties of the Shift Technical Advisor for Cont...</td>\n",
       "    </tr>\n",
       "    <tr>\n",
       "      <td>4</td>\n",
       "      <td>03/31/2018</td>\n",
       "      <td>Inadequate Procedure Adherence</td>\n",
       "    </tr>\n",
       "  </tbody>\n",
       "</table>\n",
       "</div>"
      ],
      "text/plain": [
       "  Pim_Issue_Date                                              Title\n",
       "0     12/31/2018  Inadvertent Service Water Header Pressure Redu...\n",
       "1     12/31/2018  Failure to correct a degraded condition with t...\n",
       "2     09/30/2018  Inadequate Verification of Full Low Head Safet...\n",
       "3     08/10/2018  Duties of the Shift Technical Advisor for Cont...\n",
       "4     03/31/2018                     Inadequate Procedure Adherence"
      ]
     },
     "execution_count": 12,
     "metadata": {},
     "output_type": "execute_result"
    }
   ],
   "source": [
    "df.head()"
   ]
  },
  {
   "cell_type": "code",
   "execution_count": 13,
   "metadata": {},
   "outputs": [],
   "source": [
    "df['Pim_Issue_Date']= pd.to_datetime(df['Pim_Issue_Date'])"
   ]
  },
  {
   "cell_type": "code",
   "execution_count": 14,
   "metadata": {},
   "outputs": [
    {
     "data": {
      "text/plain": [
       "Pim_Issue_Date    datetime64[ns]\n",
       "Title                     object\n",
       "dtype: object"
      ]
     },
     "execution_count": 14,
     "metadata": {},
     "output_type": "execute_result"
    }
   ],
   "source": [
    "df.dtypes"
   ]
  },
  {
   "cell_type": "code",
   "execution_count": 15,
   "metadata": {},
   "outputs": [],
   "source": [
    "df = df.set_index(['Pim_Issue_Date'])"
   ]
  },
  {
   "cell_type": "code",
   "execution_count": 16,
   "metadata": {},
   "outputs": [
    {
     "data": {
      "text/html": [
       "<div>\n",
       "<style scoped>\n",
       "    .dataframe tbody tr th:only-of-type {\n",
       "        vertical-align: middle;\n",
       "    }\n",
       "\n",
       "    .dataframe tbody tr th {\n",
       "        vertical-align: top;\n",
       "    }\n",
       "\n",
       "    .dataframe thead th {\n",
       "        text-align: right;\n",
       "    }\n",
       "</style>\n",
       "<table border=\"1\" class=\"dataframe\">\n",
       "  <thead>\n",
       "    <tr style=\"text-align: right;\">\n",
       "      <th></th>\n",
       "      <th>Title</th>\n",
       "    </tr>\n",
       "    <tr>\n",
       "      <th>Pim_Issue_Date</th>\n",
       "      <th></th>\n",
       "    </tr>\n",
       "  </thead>\n",
       "  <tbody>\n",
       "    <tr>\n",
       "      <td>2018-12-31</td>\n",
       "      <td>Inadvertent Service Water Header Pressure Redu...</td>\n",
       "    </tr>\n",
       "    <tr>\n",
       "      <td>2018-12-31</td>\n",
       "      <td>Failure to correct a degraded condition with t...</td>\n",
       "    </tr>\n",
       "    <tr>\n",
       "      <td>2018-09-30</td>\n",
       "      <td>Inadequate Verification of Full Low Head Safet...</td>\n",
       "    </tr>\n",
       "    <tr>\n",
       "      <td>2018-08-10</td>\n",
       "      <td>Duties of the Shift Technical Advisor for Cont...</td>\n",
       "    </tr>\n",
       "    <tr>\n",
       "      <td>2018-03-31</td>\n",
       "      <td>Inadequate Procedure Adherence</td>\n",
       "    </tr>\n",
       "  </tbody>\n",
       "</table>\n",
       "</div>"
      ],
      "text/plain": [
       "                                                            Title\n",
       "Pim_Issue_Date                                                   \n",
       "2018-12-31      Inadvertent Service Water Header Pressure Redu...\n",
       "2018-12-31      Failure to correct a degraded condition with t...\n",
       "2018-09-30      Inadequate Verification of Full Low Head Safet...\n",
       "2018-08-10      Duties of the Shift Technical Advisor for Cont...\n",
       "2018-03-31                         Inadequate Procedure Adherence"
      ]
     },
     "execution_count": 16,
     "metadata": {},
     "output_type": "execute_result"
    }
   ],
   "source": [
    "df.head()"
   ]
  },
  {
   "cell_type": "code",
   "execution_count": 17,
   "metadata": {},
   "outputs": [
    {
     "name": "stdout",
     "output_type": "stream",
     "text": [
      "<class 'pandas.core.frame.DataFrame'>\n",
      "DatetimeIndex: 9938 entries, 2018-12-31 to NaT\n",
      "Data columns (total 1 columns):\n",
      "Title    9938 non-null object\n",
      "dtypes: object(1)\n",
      "memory usage: 155.3+ KB\n"
     ]
    }
   ],
   "source": [
    "df.info()"
   ]
  },
  {
   "cell_type": "code",
   "execution_count": 18,
   "metadata": {},
   "outputs": [],
   "source": [
    "def greencounts(year):\n",
    "    \n",
    "    JanAvg = df[year+'-01-01':year+'-01-31'].Title.count()\n",
    "    FebAvg = df[year+'-02-01':year+'-02-28'].Title.count()\n",
    "    MarAvg = df[year+'-03-01':year+'-03-31'].Title.count()\n",
    "    AprAvg = df[year+'-04-01':year+'-04-30'].Title.count()\n",
    "    MayAvg = df[year+'-05-01':year+'-05-31'].Title.count()\n",
    "    JunAvg = df[year+'-06-01':year+'-06-30'].Title.count()\n",
    "    JulAvg = df[year+'-07-01':year+'-07-31'].Title.count()\n",
    "    AugAvg = df[year+'-08-01':year+'-08-31'].Title.count()\n",
    "    SepAvg = df[year+'-09-01':year+'-09-30'].Title.count()\n",
    "    OctAvg = df[year+'-10-01':year+'-10-31'].Title.count()\n",
    "    NovAvg = df[year+'-11-01':year+'-11-30'].Title.count()\n",
    "    DecAvg = df[year+'-12-01':year+'-12-31'].Title.count()\n",
    "    print('{} {} {} {} {} {} {} {} {} {} {} {}'.format(JanAvg, FebAvg, MarAvg, AprAvg, MayAvg, JunAvg, JulAvg, AugAvg, SepAvg, OctAvg, NovAvg, DecAvg))\n",
    "    "
   ]
  },
  {
   "cell_type": "code",
   "execution_count": 22,
   "metadata": {},
   "outputs": [
    {
     "name": "stdout",
     "output_type": "stream",
     "text": [
      "2 6 82 7 6 63 6 7 55 4 7 67\n"
     ]
    }
   ],
   "source": [
    "greencounts('2019')"
   ]
  },
  {
   "cell_type": "code",
   "execution_count": 19,
   "metadata": {},
   "outputs": [
    {
     "name": "stdout",
     "output_type": "stream",
     "text": [
      "12 10 63 19 12 87 9 19 62 14 6 76\n"
     ]
    }
   ],
   "source": [
    "greencounts('2018')"
   ]
  },
  {
   "cell_type": "code",
   "execution_count": 20,
   "metadata": {},
   "outputs": [
    {
     "name": "stdout",
     "output_type": "stream",
     "text": [
      "0 7 94 11 20 99 17 25 69 18 24 113\n"
     ]
    }
   ],
   "source": [
    "greencounts('2017')"
   ]
  },
  {
   "cell_type": "code",
   "execution_count": 21,
   "metadata": {},
   "outputs": [
    {
     "name": "stdout",
     "output_type": "stream",
     "text": [
      "9 5 134 23 27 132 13 16 118 12 13 99\n"
     ]
    }
   ],
   "source": [
    "greencounts('2016')"
   ]
  },
  {
   "cell_type": "code",
   "execution_count": 23,
   "metadata": {},
   "outputs": [
    {
     "name": "stdout",
     "output_type": "stream",
     "text": [
      "17 24 137 10 19 159 16 20 115 34 32 127\n"
     ]
    }
   ],
   "source": [
    "greencounts('2015')"
   ]
  },
  {
   "cell_type": "code",
   "execution_count": 24,
   "metadata": {},
   "outputs": [
    {
     "name": "stdout",
     "output_type": "stream",
     "text": [
      "7 25 169 15 11 144 24 17 136 17 18 131\n"
     ]
    }
   ],
   "source": [
    "greencounts('2014')"
   ]
  },
  {
   "cell_type": "code",
   "execution_count": 25,
   "metadata": {},
   "outputs": [
    {
     "name": "stdout",
     "output_type": "stream",
     "text": [
      "2 10 152 26 51 164 37 35 110 30 27 133\n"
     ]
    }
   ],
   "source": [
    "greencounts('2013')"
   ]
  },
  {
   "cell_type": "code",
   "execution_count": 26,
   "metadata": {},
   "outputs": [
    {
     "name": "stdout",
     "output_type": "stream",
     "text": [
      "7 14 168 22 33 191 19 21 176 16 18 174\n"
     ]
    }
   ],
   "source": [
    "greencounts('2012')"
   ]
  },
  {
   "cell_type": "code",
   "execution_count": 27,
   "metadata": {},
   "outputs": [
    {
     "name": "stdout",
     "output_type": "stream",
     "text": [
      "13 15 173 25 22 205 16 24 177 42 9 174\n"
     ]
    }
   ],
   "source": [
    "greencounts('2011')"
   ]
  },
  {
   "cell_type": "code",
   "execution_count": 28,
   "metadata": {},
   "outputs": [
    {
     "name": "stdout",
     "output_type": "stream",
     "text": [
      "22 5 137 27 10 175 29 18 156 23 28 181\n"
     ]
    }
   ],
   "source": [
    "greencounts('2010')"
   ]
  },
  {
   "cell_type": "code",
   "execution_count": 29,
   "metadata": {},
   "outputs": [
    {
     "name": "stdout",
     "output_type": "stream",
     "text": [
      "7 19 143 24 18 164 21 22 144 34 18 199\n"
     ]
    }
   ],
   "source": [
    "greencounts('2009')"
   ]
  },
  {
   "cell_type": "code",
   "execution_count": 30,
   "metadata": {},
   "outputs": [
    {
     "name": "stdout",
     "output_type": "stream",
     "text": [
      "14 19 160 45 23 189 9 26 133 24 23 133\n"
     ]
    }
   ],
   "source": [
    "greencounts('2008')"
   ]
  },
  {
   "cell_type": "code",
   "execution_count": 31,
   "metadata": {},
   "outputs": [
    {
     "name": "stdout",
     "output_type": "stream",
     "text": [
      "16 28 167 38 23 166 29 18 126 56 25 215\n"
     ]
    }
   ],
   "source": [
    "greencounts('2007')"
   ]
  },
  {
   "cell_type": "code",
   "execution_count": 32,
   "metadata": {},
   "outputs": [
    {
     "name": "stdout",
     "output_type": "stream",
     "text": [
      "15 23 135 27 26 169 12 14 108 22 34 178\n"
     ]
    }
   ],
   "source": [
    "greencounts('2006')"
   ]
  },
  {
   "cell_type": "code",
   "execution_count": null,
   "metadata": {},
   "outputs": [],
   "source": []
  }
 ],
 "metadata": {
  "kernelspec": {
   "display_name": "Python 3",
   "language": "python",
   "name": "python3"
  },
  "language_info": {
   "codemirror_mode": {
    "name": "ipython",
    "version": 3
   },
   "file_extension": ".py",
   "mimetype": "text/x-python",
   "name": "python",
   "nbconvert_exporter": "python",
   "pygments_lexer": "ipython3",
   "version": "3.7.4"
  }
 },
 "nbformat": 4,
 "nbformat_minor": 2
}
