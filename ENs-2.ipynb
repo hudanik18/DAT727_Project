{
 "cells": [
  {
   "cell_type": "code",
   "execution_count": 1,
   "metadata": {},
   "outputs": [],
   "source": [
    "import pandas as pd\n"
   ]
  },
  {
   "cell_type": "code",
   "execution_count": 2,
   "metadata": {},
   "outputs": [],
   "source": [
    "df = pd.read_excel('ENs_2006-2019_2.xlsx')\n"
   ]
  },
  {
   "cell_type": "code",
   "execution_count": 3,
   "metadata": {},
   "outputs": [
    {
     "data": {
      "text/html": [
       "<div>\n",
       "<style scoped>\n",
       "    .dataframe tbody tr th:only-of-type {\n",
       "        vertical-align: middle;\n",
       "    }\n",
       "\n",
       "    .dataframe tbody tr th {\n",
       "        vertical-align: top;\n",
       "    }\n",
       "\n",
       "    .dataframe thead th {\n",
       "        text-align: right;\n",
       "    }\n",
       "</style>\n",
       "<table border=\"1\" class=\"dataframe\">\n",
       "  <thead>\n",
       "    <tr style=\"text-align: right;\">\n",
       "      <th></th>\n",
       "      <th>EventNotificationNumber</th>\n",
       "      <th>EventDescription</th>\n",
       "      <th>SiteName</th>\n",
       "      <th>RegionNumber</th>\n",
       "      <th>StateCode</th>\n",
       "      <th>CityName</th>\n",
       "      <th>CountyName</th>\n",
       "      <th>UnitInd1</th>\n",
       "      <th>UnitInd2</th>\n",
       "      <th>UnitInd3</th>\n",
       "      <th>...</th>\n",
       "      <th>InitPower1</th>\n",
       "      <th>InitPower2</th>\n",
       "      <th>InitPower3</th>\n",
       "      <th>Imode1</th>\n",
       "      <th>Imode2</th>\n",
       "      <th>Imode3</th>\n",
       "      <th>Fmode1</th>\n",
       "      <th>Fmode2</th>\n",
       "      <th>Fmode3</th>\n",
       "      <th>EventText</th>\n",
       "    </tr>\n",
       "  </thead>\n",
       "  <tbody>\n",
       "    <tr>\n",
       "      <td>0</td>\n",
       "      <td>41128</td>\n",
       "      <td>Power Reactor</td>\n",
       "      <td>PALISADES</td>\n",
       "      <td>3.0</td>\n",
       "      <td>MI</td>\n",
       "      <td>COVERT</td>\n",
       "      <td>VANBUREN</td>\n",
       "      <td>1.0</td>\n",
       "      <td>NaN</td>\n",
       "      <td>NaN</td>\n",
       "      <td>...</td>\n",
       "      <td>0.0</td>\n",
       "      <td>0.0</td>\n",
       "      <td>0.0</td>\n",
       "      <td>Refueling</td>\n",
       "      <td>NaN</td>\n",
       "      <td>NaN</td>\n",
       "      <td>Refueling</td>\n",
       "      <td>NaN</td>\n",
       "      <td>NaN</td>\n",
       "      <td>REACTOR VESSEL HEAD NOZZLE CRACKING</td>\n",
       "    </tr>\n",
       "    <tr>\n",
       "      <td>1</td>\n",
       "      <td>41377</td>\n",
       "      <td>Power Reactor</td>\n",
       "      <td>PRAIRIE ISLAND</td>\n",
       "      <td>3.0</td>\n",
       "      <td>MN</td>\n",
       "      <td>WELCH</td>\n",
       "      <td>GOODHUE</td>\n",
       "      <td>1.0</td>\n",
       "      <td>NaN</td>\n",
       "      <td>NaN</td>\n",
       "      <td>...</td>\n",
       "      <td>88.0</td>\n",
       "      <td>0.0</td>\n",
       "      <td>0.0</td>\n",
       "      <td>Power Operation</td>\n",
       "      <td>NaN</td>\n",
       "      <td>NaN</td>\n",
       "      <td>Power Operation</td>\n",
       "      <td>NaN</td>\n",
       "      <td>NaN</td>\n",
       "      <td>4160 VOLT RELAYING AND METERING SINGLE FAILURE...</td>\n",
       "    </tr>\n",
       "    <tr>\n",
       "      <td>2</td>\n",
       "      <td>41755</td>\n",
       "      <td>Power Reactor</td>\n",
       "      <td>SUMMER</td>\n",
       "      <td>2.0</td>\n",
       "      <td>SC</td>\n",
       "      <td>JENKINSVILLE</td>\n",
       "      <td>FAIRFIELD</td>\n",
       "      <td>1.0</td>\n",
       "      <td>NaN</td>\n",
       "      <td>NaN</td>\n",
       "      <td>...</td>\n",
       "      <td>100.0</td>\n",
       "      <td>0.0</td>\n",
       "      <td>0.0</td>\n",
       "      <td>Power Operation</td>\n",
       "      <td>NaN</td>\n",
       "      <td>NaN</td>\n",
       "      <td>Power Operation</td>\n",
       "      <td>NaN</td>\n",
       "      <td>NaN</td>\n",
       "      <td>TWENTY-EIGHT EARLY WARNING SIRENS TEMPORARILY ...</td>\n",
       "    </tr>\n",
       "    <tr>\n",
       "      <td>3</td>\n",
       "      <td>41791</td>\n",
       "      <td>Power Reactor</td>\n",
       "      <td>DRESDEN</td>\n",
       "      <td>3.0</td>\n",
       "      <td>IL</td>\n",
       "      <td>MORRIS</td>\n",
       "      <td>GRUNDY</td>\n",
       "      <td>NaN</td>\n",
       "      <td>2.0</td>\n",
       "      <td>3.0</td>\n",
       "      <td>...</td>\n",
       "      <td>0.0</td>\n",
       "      <td>99.0</td>\n",
       "      <td>99.0</td>\n",
       "      <td>NaN</td>\n",
       "      <td>Power Operation</td>\n",
       "      <td>Power Operation</td>\n",
       "      <td>NaN</td>\n",
       "      <td>Power Operation</td>\n",
       "      <td>Power Operation</td>\n",
       "      <td>OFFSITE POWER SOURCE DECLARED INOPERABLE DUE T...</td>\n",
       "    </tr>\n",
       "    <tr>\n",
       "      <td>4</td>\n",
       "      <td>42020</td>\n",
       "      <td>Power Reactor</td>\n",
       "      <td>POINT BEACH</td>\n",
       "      <td>3.0</td>\n",
       "      <td>WI</td>\n",
       "      <td>TWO RIVERS</td>\n",
       "      <td>MANITOWOC</td>\n",
       "      <td>1.0</td>\n",
       "      <td>2.0</td>\n",
       "      <td>NaN</td>\n",
       "      <td>...</td>\n",
       "      <td>0.0</td>\n",
       "      <td>100.0</td>\n",
       "      <td>0.0</td>\n",
       "      <td>Cold Shutdown</td>\n",
       "      <td>Power Operation</td>\n",
       "      <td>NaN</td>\n",
       "      <td>Cold Shutdown</td>\n",
       "      <td>Power Operation</td>\n",
       "      <td>NaN</td>\n",
       "      <td>POSTULATED FAULTS HAVE ELECTRICAL CURRENT IN E...</td>\n",
       "    </tr>\n",
       "  </tbody>\n",
       "</table>\n",
       "<p>5 rows × 46 columns</p>\n",
       "</div>"
      ],
      "text/plain": [
       "  EventNotificationNumber EventDescription        SiteName  RegionNumber  \\\n",
       "0                   41128    Power Reactor       PALISADES           3.0   \n",
       "1                   41377    Power Reactor  PRAIRIE ISLAND           3.0   \n",
       "2                   41755    Power Reactor          SUMMER           2.0   \n",
       "3                   41791    Power Reactor         DRESDEN           3.0   \n",
       "4                   42020    Power Reactor     POINT BEACH           3.0   \n",
       "\n",
       "  StateCode      CityName CountyName  UnitInd1  UnitInd2  UnitInd3  ...  \\\n",
       "0        MI        COVERT   VANBUREN       1.0       NaN       NaN  ...   \n",
       "1        MN         WELCH    GOODHUE       1.0       NaN       NaN  ...   \n",
       "2        SC  JENKINSVILLE  FAIRFIELD       1.0       NaN       NaN  ...   \n",
       "3        IL        MORRIS     GRUNDY       NaN       2.0       3.0  ...   \n",
       "4        WI    TWO RIVERS  MANITOWOC       1.0       2.0       NaN  ...   \n",
       "\n",
       "  InitPower1 InitPower2 InitPower3           Imode1           Imode2  \\\n",
       "0        0.0        0.0        0.0        Refueling              NaN   \n",
       "1       88.0        0.0        0.0  Power Operation              NaN   \n",
       "2      100.0        0.0        0.0  Power Operation              NaN   \n",
       "3        0.0       99.0       99.0              NaN  Power Operation   \n",
       "4        0.0      100.0        0.0    Cold Shutdown  Power Operation   \n",
       "\n",
       "            Imode3           Fmode1           Fmode2           Fmode3  \\\n",
       "0              NaN        Refueling              NaN              NaN   \n",
       "1              NaN  Power Operation              NaN              NaN   \n",
       "2              NaN  Power Operation              NaN              NaN   \n",
       "3  Power Operation              NaN  Power Operation  Power Operation   \n",
       "4              NaN    Cold Shutdown  Power Operation              NaN   \n",
       "\n",
       "                                           EventText  \n",
       "0                REACTOR VESSEL HEAD NOZZLE CRACKING  \n",
       "1  4160 VOLT RELAYING AND METERING SINGLE FAILURE...  \n",
       "2  TWENTY-EIGHT EARLY WARNING SIRENS TEMPORARILY ...  \n",
       "3  OFFSITE POWER SOURCE DECLARED INOPERABLE DUE T...  \n",
       "4  POSTULATED FAULTS HAVE ELECTRICAL CURRENT IN E...  \n",
       "\n",
       "[5 rows x 46 columns]"
      ]
     },
     "execution_count": 3,
     "metadata": {},
     "output_type": "execute_result"
    }
   ],
   "source": [
    "df.head()"
   ]
  },
  {
   "cell_type": "code",
   "execution_count": 4,
   "metadata": {},
   "outputs": [
    {
     "data": {
      "text/plain": [
       "EventNotificationNumber            object\n",
       "EventDescription                   object\n",
       "SiteName                           object\n",
       "RegionNumber                      float64\n",
       "StateCode                          object\n",
       "CityName                           object\n",
       "CountyName                         object\n",
       "UnitInd1                          float64\n",
       "UnitInd2                          float64\n",
       "UnitInd3                          float64\n",
       "TimeZone                           object\n",
       "RxType                             object\n",
       "NotificationDate           datetime64[ns]\n",
       "NotificationTime                   object\n",
       "EventDate                  datetime64[ns]\n",
       "EventTime                          object\n",
       "DateUpdated                datetime64[ns]\n",
       "EmergencyClass                     object\n",
       "CfrCode1                           object\n",
       "CfrDescription1                    object\n",
       "CfrDesc1                           object\n",
       "CfrCode2                           object\n",
       "CfrDescription2                    object\n",
       "CfrDesc2                           object\n",
       "CfrCode3                           object\n",
       "CfrDescription3                    object\n",
       "CfrDesc3                           object\n",
       "CfrCode4                          float64\n",
       "CfrDescription4                   float64\n",
       "CfrDesc4                          float64\n",
       "ScramType1                         object\n",
       "ScramType2                         object\n",
       "ScramType3                         object\n",
       "CurrPower1                        float64\n",
       "CurrPower2                        float64\n",
       "CurrPower3                        float64\n",
       "InitPower1                        float64\n",
       "InitPower2                        float64\n",
       "InitPower3                        float64\n",
       "Imode1                             object\n",
       "Imode2                             object\n",
       "Imode3                             object\n",
       "Fmode1                             object\n",
       "Fmode2                             object\n",
       "Fmode3                             object\n",
       "EventText                          object\n",
       "dtype: object"
      ]
     },
     "execution_count": 4,
     "metadata": {},
     "output_type": "execute_result"
    }
   ],
   "source": [
    "df.dtypes"
   ]
  },
  {
   "cell_type": "code",
   "execution_count": 5,
   "metadata": {},
   "outputs": [
    {
     "data": {
      "text/plain": [
       "0            PALISADES\n",
       "1       PRAIRIE ISLAND\n",
       "2               SUMMER\n",
       "3              DRESDEN\n",
       "4          POINT BEACH\n",
       "             ...      \n",
       "6394          SEQUOYAH\n",
       "6395          SEQUOYAH\n",
       "6396         MILLSTONE\n",
       "6397             FERMI\n",
       "6398         MILLSTONE\n",
       "Name: SiteName, Length: 6399, dtype: object"
      ]
     },
     "execution_count": 5,
     "metadata": {},
     "output_type": "execute_result"
    }
   ],
   "source": [
    "df.SiteName"
   ]
  },
  {
   "cell_type": "code",
   "execution_count": 6,
   "metadata": {},
   "outputs": [
    {
     "data": {
      "text/plain": [
       "56"
      ]
     },
     "execution_count": 6,
     "metadata": {},
     "output_type": "execute_result"
    }
   ],
   "source": [
    "df.loc[df.SiteName == 'WATERFORD'].EventDate.count()"
   ]
  },
  {
   "cell_type": "code",
   "execution_count": 7,
   "metadata": {},
   "outputs": [],
   "source": [
    "df = df.set_index(['EventDate'])"
   ]
  },
  {
   "cell_type": "code",
   "execution_count": 8,
   "metadata": {},
   "outputs": [
    {
     "data": {
      "text/html": [
       "<div>\n",
       "<style scoped>\n",
       "    .dataframe tbody tr th:only-of-type {\n",
       "        vertical-align: middle;\n",
       "    }\n",
       "\n",
       "    .dataframe tbody tr th {\n",
       "        vertical-align: top;\n",
       "    }\n",
       "\n",
       "    .dataframe thead th {\n",
       "        text-align: right;\n",
       "    }\n",
       "</style>\n",
       "<table border=\"1\" class=\"dataframe\">\n",
       "  <thead>\n",
       "    <tr style=\"text-align: right;\">\n",
       "      <th></th>\n",
       "      <th>EventNotificationNumber</th>\n",
       "      <th>EventDescription</th>\n",
       "      <th>SiteName</th>\n",
       "      <th>RegionNumber</th>\n",
       "      <th>StateCode</th>\n",
       "      <th>CityName</th>\n",
       "      <th>CountyName</th>\n",
       "      <th>UnitInd1</th>\n",
       "      <th>UnitInd2</th>\n",
       "      <th>UnitInd3</th>\n",
       "      <th>...</th>\n",
       "      <th>InitPower1</th>\n",
       "      <th>InitPower2</th>\n",
       "      <th>InitPower3</th>\n",
       "      <th>Imode1</th>\n",
       "      <th>Imode2</th>\n",
       "      <th>Imode3</th>\n",
       "      <th>Fmode1</th>\n",
       "      <th>Fmode2</th>\n",
       "      <th>Fmode3</th>\n",
       "      <th>EventText</th>\n",
       "    </tr>\n",
       "    <tr>\n",
       "      <th>EventDate</th>\n",
       "      <th></th>\n",
       "      <th></th>\n",
       "      <th></th>\n",
       "      <th></th>\n",
       "      <th></th>\n",
       "      <th></th>\n",
       "      <th></th>\n",
       "      <th></th>\n",
       "      <th></th>\n",
       "      <th></th>\n",
       "      <th></th>\n",
       "      <th></th>\n",
       "      <th></th>\n",
       "      <th></th>\n",
       "      <th></th>\n",
       "      <th></th>\n",
       "      <th></th>\n",
       "      <th></th>\n",
       "      <th></th>\n",
       "      <th></th>\n",
       "      <th></th>\n",
       "    </tr>\n",
       "  </thead>\n",
       "  <tbody>\n",
       "    <tr>\n",
       "      <td>2004-10-16</td>\n",
       "      <td>41128</td>\n",
       "      <td>Power Reactor</td>\n",
       "      <td>PALISADES</td>\n",
       "      <td>3.0</td>\n",
       "      <td>MI</td>\n",
       "      <td>COVERT</td>\n",
       "      <td>VANBUREN</td>\n",
       "      <td>1.0</td>\n",
       "      <td>NaN</td>\n",
       "      <td>NaN</td>\n",
       "      <td>...</td>\n",
       "      <td>0.0</td>\n",
       "      <td>0.0</td>\n",
       "      <td>0.0</td>\n",
       "      <td>Refueling</td>\n",
       "      <td>NaN</td>\n",
       "      <td>NaN</td>\n",
       "      <td>Refueling</td>\n",
       "      <td>NaN</td>\n",
       "      <td>NaN</td>\n",
       "      <td>REACTOR VESSEL HEAD NOZZLE CRACKING</td>\n",
       "    </tr>\n",
       "    <tr>\n",
       "      <td>2005-02-05</td>\n",
       "      <td>41377</td>\n",
       "      <td>Power Reactor</td>\n",
       "      <td>PRAIRIE ISLAND</td>\n",
       "      <td>3.0</td>\n",
       "      <td>MN</td>\n",
       "      <td>WELCH</td>\n",
       "      <td>GOODHUE</td>\n",
       "      <td>1.0</td>\n",
       "      <td>NaN</td>\n",
       "      <td>NaN</td>\n",
       "      <td>...</td>\n",
       "      <td>88.0</td>\n",
       "      <td>0.0</td>\n",
       "      <td>0.0</td>\n",
       "      <td>Power Operation</td>\n",
       "      <td>NaN</td>\n",
       "      <td>NaN</td>\n",
       "      <td>Power Operation</td>\n",
       "      <td>NaN</td>\n",
       "      <td>NaN</td>\n",
       "      <td>4160 VOLT RELAYING AND METERING SINGLE FAILURE...</td>\n",
       "    </tr>\n",
       "    <tr>\n",
       "      <td>2005-06-07</td>\n",
       "      <td>41755</td>\n",
       "      <td>Power Reactor</td>\n",
       "      <td>SUMMER</td>\n",
       "      <td>2.0</td>\n",
       "      <td>SC</td>\n",
       "      <td>JENKINSVILLE</td>\n",
       "      <td>FAIRFIELD</td>\n",
       "      <td>1.0</td>\n",
       "      <td>NaN</td>\n",
       "      <td>NaN</td>\n",
       "      <td>...</td>\n",
       "      <td>100.0</td>\n",
       "      <td>0.0</td>\n",
       "      <td>0.0</td>\n",
       "      <td>Power Operation</td>\n",
       "      <td>NaN</td>\n",
       "      <td>NaN</td>\n",
       "      <td>Power Operation</td>\n",
       "      <td>NaN</td>\n",
       "      <td>NaN</td>\n",
       "      <td>TWENTY-EIGHT EARLY WARNING SIRENS TEMPORARILY ...</td>\n",
       "    </tr>\n",
       "    <tr>\n",
       "      <td>2005-06-23</td>\n",
       "      <td>41791</td>\n",
       "      <td>Power Reactor</td>\n",
       "      <td>DRESDEN</td>\n",
       "      <td>3.0</td>\n",
       "      <td>IL</td>\n",
       "      <td>MORRIS</td>\n",
       "      <td>GRUNDY</td>\n",
       "      <td>NaN</td>\n",
       "      <td>2.0</td>\n",
       "      <td>3.0</td>\n",
       "      <td>...</td>\n",
       "      <td>0.0</td>\n",
       "      <td>99.0</td>\n",
       "      <td>99.0</td>\n",
       "      <td>NaN</td>\n",
       "      <td>Power Operation</td>\n",
       "      <td>Power Operation</td>\n",
       "      <td>NaN</td>\n",
       "      <td>Power Operation</td>\n",
       "      <td>Power Operation</td>\n",
       "      <td>OFFSITE POWER SOURCE DECLARED INOPERABLE DUE T...</td>\n",
       "    </tr>\n",
       "    <tr>\n",
       "      <td>2005-09-27</td>\n",
       "      <td>42020</td>\n",
       "      <td>Power Reactor</td>\n",
       "      <td>POINT BEACH</td>\n",
       "      <td>3.0</td>\n",
       "      <td>WI</td>\n",
       "      <td>TWO RIVERS</td>\n",
       "      <td>MANITOWOC</td>\n",
       "      <td>1.0</td>\n",
       "      <td>2.0</td>\n",
       "      <td>NaN</td>\n",
       "      <td>...</td>\n",
       "      <td>0.0</td>\n",
       "      <td>100.0</td>\n",
       "      <td>0.0</td>\n",
       "      <td>Cold Shutdown</td>\n",
       "      <td>Power Operation</td>\n",
       "      <td>NaN</td>\n",
       "      <td>Cold Shutdown</td>\n",
       "      <td>Power Operation</td>\n",
       "      <td>NaN</td>\n",
       "      <td>POSTULATED FAULTS HAVE ELECTRICAL CURRENT IN E...</td>\n",
       "    </tr>\n",
       "  </tbody>\n",
       "</table>\n",
       "<p>5 rows × 45 columns</p>\n",
       "</div>"
      ],
      "text/plain": [
       "           EventNotificationNumber EventDescription        SiteName  \\\n",
       "EventDate                                                             \n",
       "2004-10-16                   41128    Power Reactor       PALISADES   \n",
       "2005-02-05                   41377    Power Reactor  PRAIRIE ISLAND   \n",
       "2005-06-07                   41755    Power Reactor          SUMMER   \n",
       "2005-06-23                   41791    Power Reactor         DRESDEN   \n",
       "2005-09-27                   42020    Power Reactor     POINT BEACH   \n",
       "\n",
       "            RegionNumber StateCode      CityName CountyName  UnitInd1  \\\n",
       "EventDate                                                               \n",
       "2004-10-16           3.0        MI        COVERT   VANBUREN       1.0   \n",
       "2005-02-05           3.0        MN         WELCH    GOODHUE       1.0   \n",
       "2005-06-07           2.0        SC  JENKINSVILLE  FAIRFIELD       1.0   \n",
       "2005-06-23           3.0        IL        MORRIS     GRUNDY       NaN   \n",
       "2005-09-27           3.0        WI    TWO RIVERS  MANITOWOC       1.0   \n",
       "\n",
       "            UnitInd2  UnitInd3  ... InitPower1 InitPower2 InitPower3  \\\n",
       "EventDate                       ...                                    \n",
       "2004-10-16       NaN       NaN  ...        0.0        0.0        0.0   \n",
       "2005-02-05       NaN       NaN  ...       88.0        0.0        0.0   \n",
       "2005-06-07       NaN       NaN  ...      100.0        0.0        0.0   \n",
       "2005-06-23       2.0       3.0  ...        0.0       99.0       99.0   \n",
       "2005-09-27       2.0       NaN  ...        0.0      100.0        0.0   \n",
       "\n",
       "                     Imode1           Imode2           Imode3  \\\n",
       "EventDate                                                       \n",
       "2004-10-16        Refueling              NaN              NaN   \n",
       "2005-02-05  Power Operation              NaN              NaN   \n",
       "2005-06-07  Power Operation              NaN              NaN   \n",
       "2005-06-23              NaN  Power Operation  Power Operation   \n",
       "2005-09-27    Cold Shutdown  Power Operation              NaN   \n",
       "\n",
       "                     Fmode1           Fmode2           Fmode3  \\\n",
       "EventDate                                                       \n",
       "2004-10-16        Refueling              NaN              NaN   \n",
       "2005-02-05  Power Operation              NaN              NaN   \n",
       "2005-06-07  Power Operation              NaN              NaN   \n",
       "2005-06-23              NaN  Power Operation  Power Operation   \n",
       "2005-09-27    Cold Shutdown  Power Operation              NaN   \n",
       "\n",
       "                                                    EventText  \n",
       "EventDate                                                      \n",
       "2004-10-16                REACTOR VESSEL HEAD NOZZLE CRACKING  \n",
       "2005-02-05  4160 VOLT RELAYING AND METERING SINGLE FAILURE...  \n",
       "2005-06-07  TWENTY-EIGHT EARLY WARNING SIRENS TEMPORARILY ...  \n",
       "2005-06-23  OFFSITE POWER SOURCE DECLARED INOPERABLE DUE T...  \n",
       "2005-09-27  POSTULATED FAULTS HAVE ELECTRICAL CURRENT IN E...  \n",
       "\n",
       "[5 rows x 45 columns]"
      ]
     },
     "execution_count": 8,
     "metadata": {},
     "output_type": "execute_result"
    }
   ],
   "source": [
    "df.head()"
   ]
  },
  {
   "cell_type": "code",
   "execution_count": 9,
   "metadata": {},
   "outputs": [
    {
     "ename": "AttributeError",
     "evalue": "'DataFrameGroupBy' object has no attribute 'value_counts'",
     "output_type": "error",
     "traceback": [
      "\u001b[1;31m---------------------------------------------------------------------------\u001b[0m",
      "\u001b[1;31mAttributeError\u001b[0m                            Traceback (most recent call last)",
      "\u001b[1;32m<ipython-input-9-d43b972cbea7>\u001b[0m in \u001b[0;36m<module>\u001b[1;34m\u001b[0m\n\u001b[1;32m----> 1\u001b[1;33m \u001b[0mdf\u001b[0m\u001b[1;33m.\u001b[0m\u001b[0mgroupby\u001b[0m\u001b[1;33m(\u001b[0m\u001b[1;34m'SiteName'\u001b[0m\u001b[1;33m)\u001b[0m\u001b[1;33m.\u001b[0m\u001b[0mvalue_counts\u001b[0m\u001b[1;33m(\u001b[0m\u001b[1;33m)\u001b[0m\u001b[1;33m\u001b[0m\u001b[1;33m\u001b[0m\u001b[0m\n\u001b[0m",
      "\u001b[1;32m~\\AppData\\Local\\Continuum\\anaconda3\\lib\\site-packages\\pandas\\core\\groupby\\groupby.py\u001b[0m in \u001b[0;36m__getattr__\u001b[1;34m(self, attr)\u001b[0m\n\u001b[0;32m    564\u001b[0m \u001b[1;33m\u001b[0m\u001b[0m\n\u001b[0;32m    565\u001b[0m         raise AttributeError(\n\u001b[1;32m--> 566\u001b[1;33m             \u001b[1;34m\"%r object has no attribute %r\"\u001b[0m \u001b[1;33m%\u001b[0m \u001b[1;33m(\u001b[0m\u001b[0mtype\u001b[0m\u001b[1;33m(\u001b[0m\u001b[0mself\u001b[0m\u001b[1;33m)\u001b[0m\u001b[1;33m.\u001b[0m\u001b[0m__name__\u001b[0m\u001b[1;33m,\u001b[0m \u001b[0mattr\u001b[0m\u001b[1;33m)\u001b[0m\u001b[1;33m\u001b[0m\u001b[1;33m\u001b[0m\u001b[0m\n\u001b[0m\u001b[0;32m    567\u001b[0m         )\n\u001b[0;32m    568\u001b[0m \u001b[1;33m\u001b[0m\u001b[0m\n",
      "\u001b[1;31mAttributeError\u001b[0m: 'DataFrameGroupBy' object has no attribute 'value_counts'"
     ]
    }
   ],
   "source": [
    "df.groupby('SiteName').value_counts()"
   ]
  },
  {
   "cell_type": "code",
   "execution_count": 46,
   "metadata": {},
   "outputs": [
    {
     "data": {
      "text/plain": [
       "BROWNS FERRY           203\n",
       "PRAIRIE ISLAND         181\n",
       "MILLSTONE              181\n",
       "SUSQUEHANNA            161\n",
       "FERMI                  159\n",
       "                      ... \n",
       "LACROSSE                 3\n",
       "BELLEFONTE               3\n",
       "RANCHO SECO              2\n",
       "SUMMER CONSTRUCTION      1\n",
       "HUMBOLDT BAY             1\n",
       "Name: SiteName, Length: 73, dtype: int64"
      ]
     },
     "execution_count": 46,
     "metadata": {},
     "output_type": "execute_result"
    }
   ],
   "source": [
    "df.SiteName.value_counts()"
   ]
  },
  {
   "cell_type": "code",
   "execution_count": 11,
   "metadata": {},
   "outputs": [
    {
     "data": {
      "text/plain": [
       "9"
      ]
     },
     "execution_count": 11,
     "metadata": {},
     "output_type": "execute_result"
    }
   ],
   "source": [
    "df2 = df['2006-01-01':'2006-12-31']\n",
    "df2.loc[df2.SiteName == 'BROWNS FERRY'].SiteName.count()"
   ]
  },
  {
   "cell_type": "code",
   "execution_count": 17,
   "metadata": {},
   "outputs": [
    {
     "data": {
      "text/plain": [
       "3"
      ]
     },
     "execution_count": 17,
     "metadata": {},
     "output_type": "execute_result"
    }
   ],
   "source": [
    "df2 = df['2006-01-01':'2006-12-31']\n",
    "df2.loc[df2.SiteName == 'WATERFORD'].SiteName.count()"
   ]
  },
  {
   "cell_type": "code",
   "execution_count": 18,
   "metadata": {},
   "outputs": [
    {
     "data": {
      "text/plain": [
       "0"
      ]
     },
     "execution_count": 18,
     "metadata": {},
     "output_type": "execute_result"
    }
   ],
   "source": [
    "df2 = df['2007-01-01':'2007-12-31']\n",
    "df2.loc[df2.SiteName == 'WATERFORD'].SiteName.count()"
   ]
  },
  {
   "cell_type": "code",
   "execution_count": 19,
   "metadata": {},
   "outputs": [
    {
     "data": {
      "text/plain": [
       "1"
      ]
     },
     "execution_count": 19,
     "metadata": {},
     "output_type": "execute_result"
    }
   ],
   "source": [
    "df2 = df['2008-01-01':'2008-12-31']\n",
    "df2.loc[df2.SiteName == 'WATERFORD'].SiteName.count()"
   ]
  },
  {
   "cell_type": "code",
   "execution_count": 20,
   "metadata": {},
   "outputs": [
    {
     "data": {
      "text/plain": [
       "3"
      ]
     },
     "execution_count": 20,
     "metadata": {},
     "output_type": "execute_result"
    }
   ],
   "source": [
    "df2 = df['2009-01-01':'2009-12-31']\n",
    "df2.loc[df2.SiteName == 'WATERFORD'].SiteName.count()"
   ]
  },
  {
   "cell_type": "code",
   "execution_count": 21,
   "metadata": {},
   "outputs": [
    {
     "data": {
      "text/plain": [
       "5"
      ]
     },
     "execution_count": 21,
     "metadata": {},
     "output_type": "execute_result"
    }
   ],
   "source": [
    "df2 = df['2010-01-01':'2010-12-31']\n",
    "df2.loc[df2.SiteName == 'WATERFORD'].SiteName.count()"
   ]
  },
  {
   "cell_type": "code",
   "execution_count": 22,
   "metadata": {},
   "outputs": [
    {
     "data": {
      "text/plain": [
       "2"
      ]
     },
     "execution_count": 22,
     "metadata": {},
     "output_type": "execute_result"
    }
   ],
   "source": [
    "df2 = df['2011-01-01':'2011-12-31']\n",
    "df2.loc[df2.SiteName == 'WATERFORD'].SiteName.count()"
   ]
  },
  {
   "cell_type": "code",
   "execution_count": 23,
   "metadata": {},
   "outputs": [
    {
     "data": {
      "text/plain": [
       "8"
      ]
     },
     "execution_count": 23,
     "metadata": {},
     "output_type": "execute_result"
    }
   ],
   "source": [
    "df2 = df['2012-01-01':'2012-12-31']\n",
    "df2.loc[df2.SiteName == 'WATERFORD'].SiteName.count()"
   ]
  },
  {
   "cell_type": "code",
   "execution_count": 24,
   "metadata": {},
   "outputs": [
    {
     "data": {
      "text/plain": [
       "4"
      ]
     },
     "execution_count": 24,
     "metadata": {},
     "output_type": "execute_result"
    }
   ],
   "source": [
    "df2 = df['2013-01-01':'2013-12-31']\n",
    "df2.loc[df2.SiteName == 'WATERFORD'].SiteName.count()"
   ]
  },
  {
   "cell_type": "code",
   "execution_count": 25,
   "metadata": {},
   "outputs": [
    {
     "data": {
      "text/plain": [
       "6"
      ]
     },
     "execution_count": 25,
     "metadata": {},
     "output_type": "execute_result"
    }
   ],
   "source": [
    "df2 = df['2014-01-01':'2014-12-31']\n",
    "df2.loc[df2.SiteName == 'WATERFORD'].SiteName.count()"
   ]
  },
  {
   "cell_type": "code",
   "execution_count": 26,
   "metadata": {},
   "outputs": [
    {
     "data": {
      "text/plain": [
       "6"
      ]
     },
     "execution_count": 26,
     "metadata": {},
     "output_type": "execute_result"
    }
   ],
   "source": [
    "df2 = df['2015-01-01':'2015-12-31']\n",
    "df2.loc[df2.SiteName == 'WATERFORD'].SiteName.count()"
   ]
  },
  {
   "cell_type": "code",
   "execution_count": 27,
   "metadata": {},
   "outputs": [
    {
     "data": {
      "text/plain": [
       "4"
      ]
     },
     "execution_count": 27,
     "metadata": {},
     "output_type": "execute_result"
    }
   ],
   "source": [
    "df2 = df['2016-01-01':'2016-12-31']\n",
    "df2.loc[df2.SiteName == 'WATERFORD'].SiteName.count()"
   ]
  },
  {
   "cell_type": "code",
   "execution_count": 28,
   "metadata": {},
   "outputs": [
    {
     "data": {
      "text/plain": [
       "3"
      ]
     },
     "execution_count": 28,
     "metadata": {},
     "output_type": "execute_result"
    }
   ],
   "source": [
    "df2 = df['2017-01-01':'2017-12-31']\n",
    "df2.loc[df2.SiteName == 'WATERFORD'].SiteName.count()"
   ]
  },
  {
   "cell_type": "code",
   "execution_count": 29,
   "metadata": {},
   "outputs": [
    {
     "data": {
      "text/plain": [
       "3"
      ]
     },
     "execution_count": 29,
     "metadata": {},
     "output_type": "execute_result"
    }
   ],
   "source": [
    "df2 = df['2018-01-01':'2018-12-31']\n",
    "df2.loc[df2.SiteName == 'WATERFORD'].SiteName.count()"
   ]
  },
  {
   "cell_type": "code",
   "execution_count": 30,
   "metadata": {},
   "outputs": [
    {
     "data": {
      "text/plain": [
       "8"
      ]
     },
     "execution_count": 30,
     "metadata": {},
     "output_type": "execute_result"
    }
   ],
   "source": [
    "df2 = df['2019-01-01':'2019-12-31']\n",
    "df2.loc[df2.SiteName == 'WATERFORD'].SiteName.count()"
   ]
  },
  {
   "cell_type": "code",
   "execution_count": 5,
   "metadata": {},
   "outputs": [
    {
     "data": {
      "text/plain": [
       "EventDate     datetime64[ns]\n",
       "ScramType1            object\n",
       "ScramType2            object\n",
       "ScramType3            object\n",
       "dtype: object"
      ]
     },
     "execution_count": 5,
     "metadata": {},
     "output_type": "execute_result"
    }
   ],
   "source": [
    "df.dtypes"
   ]
  },
  {
   "cell_type": "code",
   "execution_count": 31,
   "metadata": {},
   "outputs": [],
   "source": [
    "def sitecounts(site):\n",
    "    \n",
    "    df2 = df['2006-01-01':'2006-12-31']\n",
    "    Y06 = df2.loc[df2.SiteName == site].SiteName.count()\n",
    "    df2 = df['2007-01-01':'2007-12-31']\n",
    "    Y07 = df2.loc[df2.SiteName == site].SiteName.count()\n",
    "    df2 = df['2008-01-01':'2008-12-31']\n",
    "    Y08 = df2.loc[df2.SiteName == site].SiteName.count()\n",
    "    df2 = df['2009-01-01':'2009-12-31']\n",
    "    Y09 = df2.loc[df2.SiteName == site].SiteName.count()\n",
    "    df2 = df['2010-01-01':'2010-12-31']\n",
    "    Y10 = df2.loc[df2.SiteName == site].SiteName.count()\n",
    "    df2 = df['2011-01-01':'2011-12-31']\n",
    "    Y11 = df2.loc[df2.SiteName == site].SiteName.count()\n",
    "    df2 = df['2012-01-01':'2012-12-31']\n",
    "    Y12 = df2.loc[df2.SiteName == site].SiteName.count()\n",
    "    df2 = df['2013-01-01':'2013-12-31']\n",
    "    Y13 = df2.loc[df2.SiteName == site].SiteName.count()\n",
    "    df2 = df['2014-01-01':'2014-12-31']\n",
    "    Y14 = df2.loc[df2.SiteName == site].SiteName.count()\n",
    "    df2 = df['2015-01-01':'2015-12-31']\n",
    "    Y15 = df2.loc[df2.SiteName == site].SiteName.count()\n",
    "    df2 = df['2016-01-01':'2016-12-31']\n",
    "    Y16 = df2.loc[df2.SiteName == site].SiteName.count()\n",
    "    df2 = df['2017-01-01':'2017-12-31']\n",
    "    Y17 = df2.loc[df2.SiteName == site].SiteName.count()\n",
    "    df2 = df['2018-01-01':'2018-12-31']\n",
    "    Y18 = df2.loc[df2.SiteName == site].SiteName.count()\n",
    "    df2 = df['2019-01-01':'2019-12-31']\n",
    "    Y19 = df2.loc[df2.SiteName == site].SiteName.count()\n",
    "    print('{} {} {} {} {} {} {} {} {} {} {} {} {} {}'.format(Y06, Y07, Y08, Y09, Y10, Y11, Y12, Y13, Y14, Y15, Y16, Y17, Y18, Y19))\n",
    "    \n",
    "\n",
    "\n",
    "\n",
    "\n",
    "\n",
    "\n",
    "\n",
    "\n",
    "\n",
    "    \n"
   ]
  },
  {
   "cell_type": "code",
   "execution_count": 32,
   "metadata": {},
   "outputs": [
    {
     "name": "stdout",
     "output_type": "stream",
     "text": [
      "4 2 2 2 4 3 5 0 2 1 4 1 1 2\n"
     ]
    }
   ],
   "source": [
    "sitecounts('SEABROOK')"
   ]
  },
  {
   "cell_type": "code",
   "execution_count": 33,
   "metadata": {},
   "outputs": [
    {
     "name": "stdout",
     "output_type": "stream",
     "text": [
      "4 4 4 2 5 4 35 24 9 10 7 0 5 3\n"
     ]
    }
   ],
   "source": [
    "sitecounts('HARRIS')"
   ]
  },
  {
   "cell_type": "code",
   "execution_count": null,
   "metadata": {},
   "outputs": [],
   "source": []
  },
  {
   "cell_type": "code",
   "execution_count": 25,
   "metadata": {},
   "outputs": [],
   "source": [
    "def ENcounts(year):\n",
    "    \n",
    "    JanAvg = df[year+'-01-01':year+'-01-31'].ScramType1.count()\n",
    "    FebAvg = df[year+'-02-01':year+'-02-28'].ScramType1.count()\n",
    "    MarAvg = df[year+'-03-01':year+'-03-31'].ScramType1.count()\n",
    "    AprAvg = df[year+'-04-01':year+'-04-30'].ScramType1.count()\n",
    "    MayAvg = df[year+'-05-01':year+'-05-31'].ScramType1.count()\n",
    "    JunAvg = df[year+'-06-01':year+'-06-30'].ScramType1.count()\n",
    "    JulAvg = df[year+'-07-01':year+'-07-31'].ScramType1.count()\n",
    "    AugAvg = df[year+'-08-01':year+'-08-31'].ScramType1.count()\n",
    "    SepAvg = df[year+'-09-01':year+'-09-30'].ScramType1.count()\n",
    "    OctAvg = df[year+'-10-01':year+'-10-31'].ScramType1.count()\n",
    "    NovAvg = df[year+'-11-01':year+'-11-30'].ScramType1.count()\n",
    "    DecAvg = df[year+'-12-01':year+'-12-31'].ScramType1.count()\n",
    "    print('{} {} {} {} {} {} {} {} {} {} {} {}'.format(JanAvg, FebAvg, MarAvg, AprAvg, MayAvg, JunAvg, JulAvg, AugAvg, SepAvg, OctAvg, NovAvg, DecAvg))\n",
    "    \n"
   ]
  },
  {
   "cell_type": "code",
   "execution_count": 26,
   "metadata": {},
   "outputs": [
    {
     "name": "stdout",
     "output_type": "stream",
     "text": [
      "30 36 54 39 38 36 30 38 20 54 34 22\n"
     ]
    }
   ],
   "source": [
    "ENcounts('2006')"
   ]
  },
  {
   "cell_type": "code",
   "execution_count": 27,
   "metadata": {},
   "outputs": [
    {
     "name": "stdout",
     "output_type": "stream",
     "text": [
      "34 43 31 28 32 31 25 42 37 43 24 28\n"
     ]
    }
   ],
   "source": [
    "ENcounts('2007')"
   ]
  },
  {
   "cell_type": "code",
   "execution_count": 28,
   "metadata": {},
   "outputs": [
    {
     "name": "stdout",
     "output_type": "stream",
     "text": [
      "49 31 52 42 35 39 22 39 36 45 41 25\n"
     ]
    }
   ],
   "source": [
    "ENcounts('2008')"
   ]
  },
  {
   "cell_type": "code",
   "execution_count": 29,
   "metadata": {},
   "outputs": [
    {
     "name": "stdout",
     "output_type": "stream",
     "text": [
      "22 32 32 50 42 36 29 40 50 41 34 42\n"
     ]
    }
   ],
   "source": [
    "ENcounts('2009')"
   ]
  },
  {
   "cell_type": "code",
   "execution_count": 30,
   "metadata": {},
   "outputs": [
    {
     "name": "stdout",
     "output_type": "stream",
     "text": [
      "26 35 34 60 36 47 36 48 41 46 35 40\n"
     ]
    }
   ],
   "source": [
    "ENcounts('2010')"
   ]
  },
  {
   "cell_type": "code",
   "execution_count": 31,
   "metadata": {},
   "outputs": [
    {
     "name": "stdout",
     "output_type": "stream",
     "text": [
      "36 43 50 49 51 54 44 67 44 52 47 44\n"
     ]
    }
   ],
   "source": [
    "ENcounts('2011')"
   ]
  },
  {
   "cell_type": "code",
   "execution_count": 32,
   "metadata": {},
   "outputs": [
    {
     "name": "stdout",
     "output_type": "stream",
     "text": [
      "21 40 55 61 54 42 53 64 60 79 44 53\n"
     ]
    }
   ],
   "source": [
    "ENcounts('2012')"
   ]
  },
  {
   "cell_type": "code",
   "execution_count": 33,
   "metadata": {},
   "outputs": [
    {
     "name": "stdout",
     "output_type": "stream",
     "text": [
      "34 58 40 73 55 39 20 42 54 61 58 58\n"
     ]
    }
   ],
   "source": [
    "ENcounts('2013')"
   ]
  },
  {
   "cell_type": "code",
   "execution_count": 34,
   "metadata": {},
   "outputs": [
    {
     "name": "stdout",
     "output_type": "stream",
     "text": [
      "63 51 72 55 50 55 46 49 35 46 27 30\n"
     ]
    }
   ],
   "source": [
    "ENcounts('2014')"
   ]
  },
  {
   "cell_type": "code",
   "execution_count": 35,
   "metadata": {},
   "outputs": [
    {
     "name": "stdout",
     "output_type": "stream",
     "text": [
      "33 40 45 54 37 37 40 34 28 35 37 24\n"
     ]
    }
   ],
   "source": [
    "ENcounts('2015')"
   ]
  },
  {
   "cell_type": "code",
   "execution_count": 36,
   "metadata": {},
   "outputs": [
    {
     "name": "stdout",
     "output_type": "stream",
     "text": [
      "36 26 39 33 36 36 38 38 32 31 30 29\n"
     ]
    }
   ],
   "source": [
    "ENcounts('2016')"
   ]
  },
  {
   "cell_type": "code",
   "execution_count": 37,
   "metadata": {},
   "outputs": [
    {
     "name": "stdout",
     "output_type": "stream",
     "text": [
      "25 26 35 33 27 23 17 24 25 22 28 17\n"
     ]
    }
   ],
   "source": [
    "ENcounts('2017')"
   ]
  },
  {
   "cell_type": "code",
   "execution_count": 38,
   "metadata": {},
   "outputs": [
    {
     "name": "stdout",
     "output_type": "stream",
     "text": [
      "18 25 38 34 34 16 20 25 26 44 24 19\n"
     ]
    }
   ],
   "source": [
    "ENcounts('2018')"
   ]
  },
  {
   "cell_type": "code",
   "execution_count": 39,
   "metadata": {},
   "outputs": [
    {
     "name": "stdout",
     "output_type": "stream",
     "text": [
      "25 12 29 32 33 16 18 18 26 28 20 11\n"
     ]
    }
   ],
   "source": [
    "ENcounts('2019')"
   ]
  },
  {
   "cell_type": "code",
   "execution_count": null,
   "metadata": {},
   "outputs": [],
   "source": []
  }
 ],
 "metadata": {
  "kernelspec": {
   "display_name": "Python 3",
   "language": "python",
   "name": "python3"
  },
  "language_info": {
   "codemirror_mode": {
    "name": "ipython",
    "version": 3
   },
   "file_extension": ".py",
   "mimetype": "text/x-python",
   "name": "python",
   "nbconvert_exporter": "python",
   "pygments_lexer": "ipython3",
   "version": "3.7.4"
  }
 },
 "nbformat": 4,
 "nbformat_minor": 2
}
