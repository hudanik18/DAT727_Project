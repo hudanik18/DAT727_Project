{
 "cells": [
  {
   "cell_type": "code",
   "execution_count": 3,
   "metadata": {},
   "outputs": [],
   "source": [
    "import pandas as pd\n"
   ]
  },
  {
   "cell_type": "code",
   "execution_count": 4,
   "metadata": {},
   "outputs": [],
   "source": [
    "df = pd.read_excel('greenFindings_2006_2019_2.xlsx')\n"
   ]
  },
  {
   "cell_type": "code",
   "execution_count": 5,
   "metadata": {},
   "outputs": [
    {
     "data": {
      "text/html": [
       "<div>\n",
       "<style scoped>\n",
       "    .dataframe tbody tr th:only-of-type {\n",
       "        vertical-align: middle;\n",
       "    }\n",
       "\n",
       "    .dataframe tbody tr th {\n",
       "        vertical-align: top;\n",
       "    }\n",
       "\n",
       "    .dataframe thead th {\n",
       "        text-align: right;\n",
       "    }\n",
       "</style>\n",
       "<table border=\"1\" class=\"dataframe\">\n",
       "  <thead>\n",
       "    <tr style=\"text-align: right;\">\n",
       "      <th></th>\n",
       "      <th>Region</th>\n",
       "      <th>Site</th>\n",
       "      <th>Id</th>\n",
       "      <th>Pim_Issue_Date</th>\n",
       "      <th>Source</th>\n",
       "      <th>IdBy</th>\n",
       "      <th>Type</th>\n",
       "      <th>Cornerstone_</th>\n",
       "      <th>Significance</th>\n",
       "      <th>Title_</th>\n",
       "      <th>EACaseNo</th>\n",
       "      <th>CrossCuttingAspect</th>\n",
       "      <th>TE</th>\n",
       "      <th>Docket</th>\n",
       "      <th>CornerstoneAttribute</th>\n",
       "      <th>Procedure</th>\n",
       "      <th>Introduction_</th>\n",
       "    </tr>\n",
       "  </thead>\n",
       "  <tbody>\n",
       "    <tr>\n",
       "      <td>0</td>\n",
       "      <td>Region: I</td>\n",
       "      <td>Beaver Valley</td>\n",
       "      <td>25912</td>\n",
       "      <td>12/31/2018\\r\\n02/05/2019</td>\n",
       "      <td>2018004-01</td>\n",
       "      <td>Self - Revealed</td>\n",
       "      <td>NCV</td>\n",
       "      <td>Initiating Events</td>\n",
       "      <td>Green</td>\n",
       "      <td>Inadvertent Service Water Header Pressure Redu...</td>\n",
       "      <td>NaN</td>\n",
       "      <td>H.12 - Avoid Complacency</td>\n",
       "      <td>TE?: N</td>\n",
       "      <td>05000412 Beaver Valley 2</td>\n",
       "      <td>Procedure Quality</td>\n",
       "      <td>71111.1</td>\n",
       "      <td>A self-revealed Green non-cited violation of t...</td>\n",
       "    </tr>\n",
       "    <tr>\n",
       "      <td>1</td>\n",
       "      <td>Region: I</td>\n",
       "      <td>Beaver Valley</td>\n",
       "      <td>38859</td>\n",
       "      <td>12/31/2018\\r\\n02/05/2019</td>\n",
       "      <td>2018004-02</td>\n",
       "      <td>NRC</td>\n",
       "      <td>NCV</td>\n",
       "      <td>Mitigating Systems</td>\n",
       "      <td>Green</td>\n",
       "      <td>Failure to correct a degraded condition with t...</td>\n",
       "      <td>NaN</td>\n",
       "      <td>P.3 - Resolution</td>\n",
       "      <td>TE?: N</td>\n",
       "      <td>05000412 Beaver Valley 2</td>\n",
       "      <td>Equipment Performance</td>\n",
       "      <td>71152</td>\n",
       "      <td>The inspectors identified a Green non-cited vi...</td>\n",
       "    </tr>\n",
       "    <tr>\n",
       "      <td>2</td>\n",
       "      <td>Region: I</td>\n",
       "      <td>Beaver Valley</td>\n",
       "      <td>24690</td>\n",
       "      <td>09/30/2018\\r\\n10/30/2018</td>\n",
       "      <td>2018003-01</td>\n",
       "      <td>Self - Revealed</td>\n",
       "      <td>NCV</td>\n",
       "      <td>Mitigating Systems</td>\n",
       "      <td>Green</td>\n",
       "      <td>Inadequate Verification of Full Low Head Safet...</td>\n",
       "      <td>NaN</td>\n",
       "      <td>H.11 - Challenge the Unknown</td>\n",
       "      <td>TE?: N</td>\n",
       "      <td>05000334 Beaver Valley 1</td>\n",
       "      <td>NaN</td>\n",
       "      <td>71111.1</td>\n",
       "      <td>A self-revealed Green non-cited violation (NCV...</td>\n",
       "    </tr>\n",
       "    <tr>\n",
       "      <td>3</td>\n",
       "      <td>Region: I</td>\n",
       "      <td>Beaver Valley</td>\n",
       "      <td>24404</td>\n",
       "      <td>08/10/2018\\r\\n09/20/2018</td>\n",
       "      <td>2018011-01</td>\n",
       "      <td>NRC</td>\n",
       "      <td>NCV</td>\n",
       "      <td>Mitigating Systems</td>\n",
       "      <td>Green</td>\n",
       "      <td>Duties of the Shift Technical Advisor for Cont...</td>\n",
       "      <td>NaN</td>\n",
       "      <td>NaN</td>\n",
       "      <td>TE?: N</td>\n",
       "      <td>05000334 Beaver Valley 1</td>\n",
       "      <td>NaN</td>\n",
       "      <td>71111.05XT</td>\n",
       "      <td>The inspectors identified a Green non-cited vi...</td>\n",
       "    </tr>\n",
       "    <tr>\n",
       "      <td>4</td>\n",
       "      <td>Region: I</td>\n",
       "      <td>Beaver Valley</td>\n",
       "      <td>23947</td>\n",
       "      <td>03/31/2018\\r\\n05/02/2018</td>\n",
       "      <td>NaN</td>\n",
       "      <td>Self - Revealed</td>\n",
       "      <td>FIN</td>\n",
       "      <td>Initiating Events</td>\n",
       "      <td>Green</td>\n",
       "      <td>Inadequate Procedure Adherence</td>\n",
       "      <td>NaN</td>\n",
       "      <td>NPP</td>\n",
       "      <td>TE?: N</td>\n",
       "      <td>05000334 Beaver Valley 1</td>\n",
       "      <td>NaN</td>\n",
       "      <td>71153</td>\n",
       "      <td>A self-revealed Green finding was identified w...</td>\n",
       "    </tr>\n",
       "  </tbody>\n",
       "</table>\n",
       "</div>"
      ],
      "text/plain": [
       "      Region           Site     Id            Pim_Issue_Date      Source  \\\n",
       "0  Region: I  Beaver Valley  25912  12/31/2018\\r\\n02/05/2019  2018004-01   \n",
       "1  Region: I  Beaver Valley  38859  12/31/2018\\r\\n02/05/2019  2018004-02   \n",
       "2  Region: I  Beaver Valley  24690  09/30/2018\\r\\n10/30/2018  2018003-01   \n",
       "3  Region: I  Beaver Valley  24404  08/10/2018\\r\\n09/20/2018  2018011-01   \n",
       "4  Region: I  Beaver Valley  23947  03/31/2018\\r\\n05/02/2018         NaN   \n",
       "\n",
       "              IdBy Type        Cornerstone_ Significance  \\\n",
       "0  Self - Revealed  NCV   Initiating Events        Green   \n",
       "1              NRC  NCV  Mitigating Systems        Green   \n",
       "2  Self - Revealed  NCV  Mitigating Systems        Green   \n",
       "3              NRC  NCV  Mitigating Systems        Green   \n",
       "4  Self - Revealed  FIN   Initiating Events        Green   \n",
       "\n",
       "                                              Title_ EACaseNo  \\\n",
       "0  Inadvertent Service Water Header Pressure Redu...      NaN   \n",
       "1  Failure to correct a degraded condition with t...      NaN   \n",
       "2  Inadequate Verification of Full Low Head Safet...      NaN   \n",
       "3  Duties of the Shift Technical Advisor for Cont...      NaN   \n",
       "4                     Inadequate Procedure Adherence      NaN   \n",
       "\n",
       "             CrossCuttingAspect      TE                    Docket  \\\n",
       "0      H.12 - Avoid Complacency  TE?: N  05000412 Beaver Valley 2   \n",
       "1              P.3 - Resolution  TE?: N  05000412 Beaver Valley 2   \n",
       "2  H.11 - Challenge the Unknown  TE?: N  05000334 Beaver Valley 1   \n",
       "3                           NaN  TE?: N  05000334 Beaver Valley 1   \n",
       "4                           NPP  TE?: N  05000334 Beaver Valley 1   \n",
       "\n",
       "    CornerstoneAttribute   Procedure  \\\n",
       "0      Procedure Quality     71111.1   \n",
       "1  Equipment Performance       71152   \n",
       "2                    NaN     71111.1   \n",
       "3                    NaN  71111.05XT   \n",
       "4                    NaN       71153   \n",
       "\n",
       "                                       Introduction_  \n",
       "0  A self-revealed Green non-cited violation of t...  \n",
       "1  The inspectors identified a Green non-cited vi...  \n",
       "2  A self-revealed Green non-cited violation (NCV...  \n",
       "3  The inspectors identified a Green non-cited vi...  \n",
       "4  A self-revealed Green finding was identified w...  "
      ]
     },
     "execution_count": 5,
     "metadata": {},
     "output_type": "execute_result"
    }
   ],
   "source": [
    "df.head()"
   ]
  },
  {
   "cell_type": "code",
   "execution_count": 6,
   "metadata": {},
   "outputs": [
    {
     "data": {
      "text/plain": [
       "Region                  object\n",
       "Site                    object\n",
       "Id                       int64\n",
       "Pim_Issue_Date          object\n",
       "Source                  object\n",
       "IdBy                    object\n",
       "Type                    object\n",
       "Cornerstone_            object\n",
       "Significance            object\n",
       "Title_                  object\n",
       "EACaseNo                object\n",
       "CrossCuttingAspect      object\n",
       "TE                      object\n",
       "Docket                  object\n",
       "CornerstoneAttribute    object\n",
       "Procedure               object\n",
       "Introduction_           object\n",
       "dtype: object"
      ]
     },
     "execution_count": 6,
     "metadata": {},
     "output_type": "execute_result"
    }
   ],
   "source": [
    "df.dtypes"
   ]
  },
  {
   "cell_type": "code",
   "execution_count": null,
   "metadata": {},
   "outputs": [],
   "source": []
  },
  {
   "cell_type": "code",
   "execution_count": 7,
   "metadata": {},
   "outputs": [],
   "source": [
    "df['Pim_Issue_Date'] = df['Pim_Issue_Date'].apply(lambda x : x.split('\\r',1)[0]) \n"
   ]
  },
  {
   "cell_type": "code",
   "execution_count": 8,
   "metadata": {},
   "outputs": [],
   "source": [
    "df['Pim_Issue_Date'] = df['Pim_Issue_Date'].apply(lambda x : x.split('\\n',1)[0]) \n"
   ]
  },
  {
   "cell_type": "code",
   "execution_count": 9,
   "metadata": {},
   "outputs": [
    {
     "data": {
      "text/html": [
       "<div>\n",
       "<style scoped>\n",
       "    .dataframe tbody tr th:only-of-type {\n",
       "        vertical-align: middle;\n",
       "    }\n",
       "\n",
       "    .dataframe tbody tr th {\n",
       "        vertical-align: top;\n",
       "    }\n",
       "\n",
       "    .dataframe thead th {\n",
       "        text-align: right;\n",
       "    }\n",
       "</style>\n",
       "<table border=\"1\" class=\"dataframe\">\n",
       "  <thead>\n",
       "    <tr style=\"text-align: right;\">\n",
       "      <th></th>\n",
       "      <th>Region</th>\n",
       "      <th>Site</th>\n",
       "      <th>Id</th>\n",
       "      <th>Pim_Issue_Date</th>\n",
       "      <th>Source</th>\n",
       "      <th>IdBy</th>\n",
       "      <th>Type</th>\n",
       "      <th>Cornerstone_</th>\n",
       "      <th>Significance</th>\n",
       "      <th>Title_</th>\n",
       "      <th>EACaseNo</th>\n",
       "      <th>CrossCuttingAspect</th>\n",
       "      <th>TE</th>\n",
       "      <th>Docket</th>\n",
       "      <th>CornerstoneAttribute</th>\n",
       "      <th>Procedure</th>\n",
       "      <th>Introduction_</th>\n",
       "    </tr>\n",
       "  </thead>\n",
       "  <tbody>\n",
       "    <tr>\n",
       "      <td>0</td>\n",
       "      <td>Region: I</td>\n",
       "      <td>Beaver Valley</td>\n",
       "      <td>25912</td>\n",
       "      <td>12/31/2018</td>\n",
       "      <td>2018004-01</td>\n",
       "      <td>Self - Revealed</td>\n",
       "      <td>NCV</td>\n",
       "      <td>Initiating Events</td>\n",
       "      <td>Green</td>\n",
       "      <td>Inadvertent Service Water Header Pressure Redu...</td>\n",
       "      <td>NaN</td>\n",
       "      <td>H.12 - Avoid Complacency</td>\n",
       "      <td>TE?: N</td>\n",
       "      <td>05000412 Beaver Valley 2</td>\n",
       "      <td>Procedure Quality</td>\n",
       "      <td>71111.1</td>\n",
       "      <td>A self-revealed Green non-cited violation of t...</td>\n",
       "    </tr>\n",
       "    <tr>\n",
       "      <td>1</td>\n",
       "      <td>Region: I</td>\n",
       "      <td>Beaver Valley</td>\n",
       "      <td>38859</td>\n",
       "      <td>12/31/2018</td>\n",
       "      <td>2018004-02</td>\n",
       "      <td>NRC</td>\n",
       "      <td>NCV</td>\n",
       "      <td>Mitigating Systems</td>\n",
       "      <td>Green</td>\n",
       "      <td>Failure to correct a degraded condition with t...</td>\n",
       "      <td>NaN</td>\n",
       "      <td>P.3 - Resolution</td>\n",
       "      <td>TE?: N</td>\n",
       "      <td>05000412 Beaver Valley 2</td>\n",
       "      <td>Equipment Performance</td>\n",
       "      <td>71152</td>\n",
       "      <td>The inspectors identified a Green non-cited vi...</td>\n",
       "    </tr>\n",
       "    <tr>\n",
       "      <td>2</td>\n",
       "      <td>Region: I</td>\n",
       "      <td>Beaver Valley</td>\n",
       "      <td>24690</td>\n",
       "      <td>09/30/2018</td>\n",
       "      <td>2018003-01</td>\n",
       "      <td>Self - Revealed</td>\n",
       "      <td>NCV</td>\n",
       "      <td>Mitigating Systems</td>\n",
       "      <td>Green</td>\n",
       "      <td>Inadequate Verification of Full Low Head Safet...</td>\n",
       "      <td>NaN</td>\n",
       "      <td>H.11 - Challenge the Unknown</td>\n",
       "      <td>TE?: N</td>\n",
       "      <td>05000334 Beaver Valley 1</td>\n",
       "      <td>NaN</td>\n",
       "      <td>71111.1</td>\n",
       "      <td>A self-revealed Green non-cited violation (NCV...</td>\n",
       "    </tr>\n",
       "    <tr>\n",
       "      <td>3</td>\n",
       "      <td>Region: I</td>\n",
       "      <td>Beaver Valley</td>\n",
       "      <td>24404</td>\n",
       "      <td>08/10/2018</td>\n",
       "      <td>2018011-01</td>\n",
       "      <td>NRC</td>\n",
       "      <td>NCV</td>\n",
       "      <td>Mitigating Systems</td>\n",
       "      <td>Green</td>\n",
       "      <td>Duties of the Shift Technical Advisor for Cont...</td>\n",
       "      <td>NaN</td>\n",
       "      <td>NaN</td>\n",
       "      <td>TE?: N</td>\n",
       "      <td>05000334 Beaver Valley 1</td>\n",
       "      <td>NaN</td>\n",
       "      <td>71111.05XT</td>\n",
       "      <td>The inspectors identified a Green non-cited vi...</td>\n",
       "    </tr>\n",
       "    <tr>\n",
       "      <td>4</td>\n",
       "      <td>Region: I</td>\n",
       "      <td>Beaver Valley</td>\n",
       "      <td>23947</td>\n",
       "      <td>03/31/2018</td>\n",
       "      <td>NaN</td>\n",
       "      <td>Self - Revealed</td>\n",
       "      <td>FIN</td>\n",
       "      <td>Initiating Events</td>\n",
       "      <td>Green</td>\n",
       "      <td>Inadequate Procedure Adherence</td>\n",
       "      <td>NaN</td>\n",
       "      <td>NPP</td>\n",
       "      <td>TE?: N</td>\n",
       "      <td>05000334 Beaver Valley 1</td>\n",
       "      <td>NaN</td>\n",
       "      <td>71153</td>\n",
       "      <td>A self-revealed Green finding was identified w...</td>\n",
       "    </tr>\n",
       "  </tbody>\n",
       "</table>\n",
       "</div>"
      ],
      "text/plain": [
       "      Region           Site     Id Pim_Issue_Date      Source  \\\n",
       "0  Region: I  Beaver Valley  25912     12/31/2018  2018004-01   \n",
       "1  Region: I  Beaver Valley  38859     12/31/2018  2018004-02   \n",
       "2  Region: I  Beaver Valley  24690     09/30/2018  2018003-01   \n",
       "3  Region: I  Beaver Valley  24404     08/10/2018  2018011-01   \n",
       "4  Region: I  Beaver Valley  23947     03/31/2018         NaN   \n",
       "\n",
       "              IdBy Type        Cornerstone_ Significance  \\\n",
       "0  Self - Revealed  NCV   Initiating Events        Green   \n",
       "1              NRC  NCV  Mitigating Systems        Green   \n",
       "2  Self - Revealed  NCV  Mitigating Systems        Green   \n",
       "3              NRC  NCV  Mitigating Systems        Green   \n",
       "4  Self - Revealed  FIN   Initiating Events        Green   \n",
       "\n",
       "                                              Title_ EACaseNo  \\\n",
       "0  Inadvertent Service Water Header Pressure Redu...      NaN   \n",
       "1  Failure to correct a degraded condition with t...      NaN   \n",
       "2  Inadequate Verification of Full Low Head Safet...      NaN   \n",
       "3  Duties of the Shift Technical Advisor for Cont...      NaN   \n",
       "4                     Inadequate Procedure Adherence      NaN   \n",
       "\n",
       "             CrossCuttingAspect      TE                    Docket  \\\n",
       "0      H.12 - Avoid Complacency  TE?: N  05000412 Beaver Valley 2   \n",
       "1              P.3 - Resolution  TE?: N  05000412 Beaver Valley 2   \n",
       "2  H.11 - Challenge the Unknown  TE?: N  05000334 Beaver Valley 1   \n",
       "3                           NaN  TE?: N  05000334 Beaver Valley 1   \n",
       "4                           NPP  TE?: N  05000334 Beaver Valley 1   \n",
       "\n",
       "    CornerstoneAttribute   Procedure  \\\n",
       "0      Procedure Quality     71111.1   \n",
       "1  Equipment Performance       71152   \n",
       "2                    NaN     71111.1   \n",
       "3                    NaN  71111.05XT   \n",
       "4                    NaN       71153   \n",
       "\n",
       "                                       Introduction_  \n",
       "0  A self-revealed Green non-cited violation of t...  \n",
       "1  The inspectors identified a Green non-cited vi...  \n",
       "2  A self-revealed Green non-cited violation (NCV...  \n",
       "3  The inspectors identified a Green non-cited vi...  \n",
       "4  A self-revealed Green finding was identified w...  "
      ]
     },
     "execution_count": 9,
     "metadata": {},
     "output_type": "execute_result"
    }
   ],
   "source": [
    "df.head()"
   ]
  },
  {
   "cell_type": "code",
   "execution_count": 10,
   "metadata": {},
   "outputs": [],
   "source": [
    "df['Pim_Issue_Date']= pd.to_datetime(df['Pim_Issue_Date'])"
   ]
  },
  {
   "cell_type": "code",
   "execution_count": 11,
   "metadata": {},
   "outputs": [
    {
     "data": {
      "text/plain": [
       "Region                          object\n",
       "Site                            object\n",
       "Id                               int64\n",
       "Pim_Issue_Date          datetime64[ns]\n",
       "Source                          object\n",
       "IdBy                            object\n",
       "Type                            object\n",
       "Cornerstone_                    object\n",
       "Significance                    object\n",
       "Title_                          object\n",
       "EACaseNo                        object\n",
       "CrossCuttingAspect              object\n",
       "TE                              object\n",
       "Docket                          object\n",
       "CornerstoneAttribute            object\n",
       "Procedure                       object\n",
       "Introduction_                   object\n",
       "dtype: object"
      ]
     },
     "execution_count": 11,
     "metadata": {},
     "output_type": "execute_result"
    }
   ],
   "source": [
    "df.dtypes"
   ]
  },
  {
   "cell_type": "code",
   "execution_count": 12,
   "metadata": {},
   "outputs": [
    {
     "data": {
      "text/html": [
       "<div>\n",
       "<style scoped>\n",
       "    .dataframe tbody tr th:only-of-type {\n",
       "        vertical-align: middle;\n",
       "    }\n",
       "\n",
       "    .dataframe tbody tr th {\n",
       "        vertical-align: top;\n",
       "    }\n",
       "\n",
       "    .dataframe thead th {\n",
       "        text-align: right;\n",
       "    }\n",
       "</style>\n",
       "<table border=\"1\" class=\"dataframe\">\n",
       "  <thead>\n",
       "    <tr style=\"text-align: right;\">\n",
       "      <th></th>\n",
       "      <th>Region</th>\n",
       "      <th>Site</th>\n",
       "      <th>Id</th>\n",
       "      <th>Pim_Issue_Date</th>\n",
       "      <th>Source</th>\n",
       "      <th>IdBy</th>\n",
       "      <th>Type</th>\n",
       "      <th>Cornerstone_</th>\n",
       "      <th>Significance</th>\n",
       "      <th>Title_</th>\n",
       "      <th>EACaseNo</th>\n",
       "      <th>CrossCuttingAspect</th>\n",
       "      <th>TE</th>\n",
       "      <th>Docket</th>\n",
       "      <th>CornerstoneAttribute</th>\n",
       "      <th>Procedure</th>\n",
       "      <th>Introduction_</th>\n",
       "    </tr>\n",
       "  </thead>\n",
       "  <tbody>\n",
       "    <tr>\n",
       "      <td>0</td>\n",
       "      <td>Region: I</td>\n",
       "      <td>Beaver Valley</td>\n",
       "      <td>25912</td>\n",
       "      <td>2018-12-31</td>\n",
       "      <td>2018004-01</td>\n",
       "      <td>Self - Revealed</td>\n",
       "      <td>NCV</td>\n",
       "      <td>Initiating Events</td>\n",
       "      <td>Green</td>\n",
       "      <td>Inadvertent Service Water Header Pressure Redu...</td>\n",
       "      <td>NaN</td>\n",
       "      <td>H.12 - Avoid Complacency</td>\n",
       "      <td>TE?: N</td>\n",
       "      <td>05000412 Beaver Valley 2</td>\n",
       "      <td>Procedure Quality</td>\n",
       "      <td>71111.1</td>\n",
       "      <td>A self-revealed Green non-cited violation of t...</td>\n",
       "    </tr>\n",
       "    <tr>\n",
       "      <td>1</td>\n",
       "      <td>Region: I</td>\n",
       "      <td>Beaver Valley</td>\n",
       "      <td>38859</td>\n",
       "      <td>2018-12-31</td>\n",
       "      <td>2018004-02</td>\n",
       "      <td>NRC</td>\n",
       "      <td>NCV</td>\n",
       "      <td>Mitigating Systems</td>\n",
       "      <td>Green</td>\n",
       "      <td>Failure to correct a degraded condition with t...</td>\n",
       "      <td>NaN</td>\n",
       "      <td>P.3 - Resolution</td>\n",
       "      <td>TE?: N</td>\n",
       "      <td>05000412 Beaver Valley 2</td>\n",
       "      <td>Equipment Performance</td>\n",
       "      <td>71152</td>\n",
       "      <td>The inspectors identified a Green non-cited vi...</td>\n",
       "    </tr>\n",
       "    <tr>\n",
       "      <td>2</td>\n",
       "      <td>Region: I</td>\n",
       "      <td>Beaver Valley</td>\n",
       "      <td>24690</td>\n",
       "      <td>2018-09-30</td>\n",
       "      <td>2018003-01</td>\n",
       "      <td>Self - Revealed</td>\n",
       "      <td>NCV</td>\n",
       "      <td>Mitigating Systems</td>\n",
       "      <td>Green</td>\n",
       "      <td>Inadequate Verification of Full Low Head Safet...</td>\n",
       "      <td>NaN</td>\n",
       "      <td>H.11 - Challenge the Unknown</td>\n",
       "      <td>TE?: N</td>\n",
       "      <td>05000334 Beaver Valley 1</td>\n",
       "      <td>NaN</td>\n",
       "      <td>71111.1</td>\n",
       "      <td>A self-revealed Green non-cited violation (NCV...</td>\n",
       "    </tr>\n",
       "    <tr>\n",
       "      <td>3</td>\n",
       "      <td>Region: I</td>\n",
       "      <td>Beaver Valley</td>\n",
       "      <td>24404</td>\n",
       "      <td>2018-08-10</td>\n",
       "      <td>2018011-01</td>\n",
       "      <td>NRC</td>\n",
       "      <td>NCV</td>\n",
       "      <td>Mitigating Systems</td>\n",
       "      <td>Green</td>\n",
       "      <td>Duties of the Shift Technical Advisor for Cont...</td>\n",
       "      <td>NaN</td>\n",
       "      <td>NaN</td>\n",
       "      <td>TE?: N</td>\n",
       "      <td>05000334 Beaver Valley 1</td>\n",
       "      <td>NaN</td>\n",
       "      <td>71111.05XT</td>\n",
       "      <td>The inspectors identified a Green non-cited vi...</td>\n",
       "    </tr>\n",
       "    <tr>\n",
       "      <td>4</td>\n",
       "      <td>Region: I</td>\n",
       "      <td>Beaver Valley</td>\n",
       "      <td>23947</td>\n",
       "      <td>2018-03-31</td>\n",
       "      <td>NaN</td>\n",
       "      <td>Self - Revealed</td>\n",
       "      <td>FIN</td>\n",
       "      <td>Initiating Events</td>\n",
       "      <td>Green</td>\n",
       "      <td>Inadequate Procedure Adherence</td>\n",
       "      <td>NaN</td>\n",
       "      <td>NPP</td>\n",
       "      <td>TE?: N</td>\n",
       "      <td>05000334 Beaver Valley 1</td>\n",
       "      <td>NaN</td>\n",
       "      <td>71153</td>\n",
       "      <td>A self-revealed Green finding was identified w...</td>\n",
       "    </tr>\n",
       "  </tbody>\n",
       "</table>\n",
       "</div>"
      ],
      "text/plain": [
       "      Region           Site     Id Pim_Issue_Date      Source  \\\n",
       "0  Region: I  Beaver Valley  25912     2018-12-31  2018004-01   \n",
       "1  Region: I  Beaver Valley  38859     2018-12-31  2018004-02   \n",
       "2  Region: I  Beaver Valley  24690     2018-09-30  2018003-01   \n",
       "3  Region: I  Beaver Valley  24404     2018-08-10  2018011-01   \n",
       "4  Region: I  Beaver Valley  23947     2018-03-31         NaN   \n",
       "\n",
       "              IdBy Type        Cornerstone_ Significance  \\\n",
       "0  Self - Revealed  NCV   Initiating Events        Green   \n",
       "1              NRC  NCV  Mitigating Systems        Green   \n",
       "2  Self - Revealed  NCV  Mitigating Systems        Green   \n",
       "3              NRC  NCV  Mitigating Systems        Green   \n",
       "4  Self - Revealed  FIN   Initiating Events        Green   \n",
       "\n",
       "                                              Title_ EACaseNo  \\\n",
       "0  Inadvertent Service Water Header Pressure Redu...      NaN   \n",
       "1  Failure to correct a degraded condition with t...      NaN   \n",
       "2  Inadequate Verification of Full Low Head Safet...      NaN   \n",
       "3  Duties of the Shift Technical Advisor for Cont...      NaN   \n",
       "4                     Inadequate Procedure Adherence      NaN   \n",
       "\n",
       "             CrossCuttingAspect      TE                    Docket  \\\n",
       "0      H.12 - Avoid Complacency  TE?: N  05000412 Beaver Valley 2   \n",
       "1              P.3 - Resolution  TE?: N  05000412 Beaver Valley 2   \n",
       "2  H.11 - Challenge the Unknown  TE?: N  05000334 Beaver Valley 1   \n",
       "3                           NaN  TE?: N  05000334 Beaver Valley 1   \n",
       "4                           NPP  TE?: N  05000334 Beaver Valley 1   \n",
       "\n",
       "    CornerstoneAttribute   Procedure  \\\n",
       "0      Procedure Quality     71111.1   \n",
       "1  Equipment Performance       71152   \n",
       "2                    NaN     71111.1   \n",
       "3                    NaN  71111.05XT   \n",
       "4                    NaN       71153   \n",
       "\n",
       "                                       Introduction_  \n",
       "0  A self-revealed Green non-cited violation of t...  \n",
       "1  The inspectors identified a Green non-cited vi...  \n",
       "2  A self-revealed Green non-cited violation (NCV...  \n",
       "3  The inspectors identified a Green non-cited vi...  \n",
       "4  A self-revealed Green finding was identified w...  "
      ]
     },
     "execution_count": 12,
     "metadata": {},
     "output_type": "execute_result"
    }
   ],
   "source": [
    "df.head()"
   ]
  },
  {
   "cell_type": "code",
   "execution_count": 17,
   "metadata": {},
   "outputs": [
    {
     "data": {
      "text/html": [
       "<div>\n",
       "<style scoped>\n",
       "    .dataframe tbody tr th:only-of-type {\n",
       "        vertical-align: middle;\n",
       "    }\n",
       "\n",
       "    .dataframe tbody tr th {\n",
       "        vertical-align: top;\n",
       "    }\n",
       "\n",
       "    .dataframe thead th {\n",
       "        text-align: right;\n",
       "    }\n",
       "</style>\n",
       "<table border=\"1\" class=\"dataframe\">\n",
       "  <thead>\n",
       "    <tr style=\"text-align: right;\">\n",
       "      <th></th>\n",
       "      <th>Region</th>\n",
       "      <th>Site</th>\n",
       "      <th>Id</th>\n",
       "      <th>Pim_Issue_Date</th>\n",
       "      <th>Source</th>\n",
       "      <th>IdBy</th>\n",
       "      <th>Type</th>\n",
       "      <th>Cornerstone_</th>\n",
       "      <th>Significance</th>\n",
       "      <th>Title_</th>\n",
       "      <th>EACaseNo</th>\n",
       "      <th>CrossCuttingAspect</th>\n",
       "      <th>TE</th>\n",
       "      <th>Docket</th>\n",
       "      <th>CornerstoneAttribute</th>\n",
       "      <th>Procedure</th>\n",
       "      <th>Introduction_</th>\n",
       "    </tr>\n",
       "  </thead>\n",
       "  <tbody>\n",
       "    <tr>\n",
       "      <td>9442</td>\n",
       "      <td>Region: IV</td>\n",
       "      <td>Waterford</td>\n",
       "      <td>126572</td>\n",
       "      <td>2019-12-31</td>\n",
       "      <td>2019004-01</td>\n",
       "      <td>NRC</td>\n",
       "      <td>NCV</td>\n",
       "      <td>Mitigating Systems</td>\n",
       "      <td>Green</td>\n",
       "      <td>Failure to Adequately Implement the Operabilit...</td>\n",
       "      <td>NaN</td>\n",
       "      <td>H.6 - Design Margins</td>\n",
       "      <td>TE?: N</td>\n",
       "      <td>05000382 Waterford 3</td>\n",
       "      <td>Equipment Performance</td>\n",
       "      <td>71111.1</td>\n",
       "      <td>The inspectors identified a Green non-cited vi...</td>\n",
       "    </tr>\n",
       "    <tr>\n",
       "      <td>9443</td>\n",
       "      <td>Region: IV</td>\n",
       "      <td>Waterford</td>\n",
       "      <td>125986</td>\n",
       "      <td>2019-09-30</td>\n",
       "      <td>2019003-01</td>\n",
       "      <td>NRC</td>\n",
       "      <td>NCV</td>\n",
       "      <td>Occupational Radiation Safety</td>\n",
       "      <td>Green</td>\n",
       "      <td>Failure to Periodically Calibrate Radiation Mo...</td>\n",
       "      <td>NaN</td>\n",
       "      <td>H.3 - Change Management</td>\n",
       "      <td>TE?: N</td>\n",
       "      <td>05000382 Waterford 3</td>\n",
       "      <td>Plant Facilities/Equipment and Instrumentation</td>\n",
       "      <td>71124.1</td>\n",
       "      <td>The inspectors identified a Green non-cited (N...</td>\n",
       "    </tr>\n",
       "    <tr>\n",
       "      <td>9444</td>\n",
       "      <td>Region: IV</td>\n",
       "      <td>Waterford</td>\n",
       "      <td>125746</td>\n",
       "      <td>2019-09-30</td>\n",
       "      <td>2019003-03</td>\n",
       "      <td>Self - Revealed</td>\n",
       "      <td>FIN</td>\n",
       "      <td>Initiating Events</td>\n",
       "      <td>Green</td>\n",
       "      <td>Failure to Implement Procedures for Main Gener...</td>\n",
       "      <td>NaN</td>\n",
       "      <td>H.5 - Work Management</td>\n",
       "      <td>TE?: N</td>\n",
       "      <td>05000382 Waterford 3</td>\n",
       "      <td>Equipment Performance</td>\n",
       "      <td>71153</td>\n",
       "      <td>The inspectors reviewed a self-revealing Green...</td>\n",
       "    </tr>\n",
       "    <tr>\n",
       "      <td>9445</td>\n",
       "      <td>Region: IV</td>\n",
       "      <td>Waterford</td>\n",
       "      <td>125172</td>\n",
       "      <td>2019-05-23</td>\n",
       "      <td>2019010-01</td>\n",
       "      <td>NRC</td>\n",
       "      <td>NCV</td>\n",
       "      <td>Mitigating Systems</td>\n",
       "      <td>Green</td>\n",
       "      <td>Failure to Identify and Evaluate Storage and S...</td>\n",
       "      <td>NaN</td>\n",
       "      <td>NPP</td>\n",
       "      <td>TE?: N</td>\n",
       "      <td>05000382 Waterford 3</td>\n",
       "      <td>NaN</td>\n",
       "      <td>71111.21N</td>\n",
       "      <td>The inspectors identified a Green finding and ...</td>\n",
       "    </tr>\n",
       "    <tr>\n",
       "      <td>9446</td>\n",
       "      <td>Region: IV</td>\n",
       "      <td>Waterford</td>\n",
       "      <td>124680</td>\n",
       "      <td>2019-03-31</td>\n",
       "      <td>2019001-01</td>\n",
       "      <td>NRC</td>\n",
       "      <td>NCV</td>\n",
       "      <td>Initiating Events</td>\n",
       "      <td>Green</td>\n",
       "      <td>Failure to Lock an Reactor Coolant System Drai...</td>\n",
       "      <td>NaN</td>\n",
       "      <td>H.12 - Avoid Complacency</td>\n",
       "      <td>TE?: N</td>\n",
       "      <td>05000382 Waterford 3</td>\n",
       "      <td>Configuration Control</td>\n",
       "      <td>71111.1</td>\n",
       "      <td>The inspectors identified Green non-cited viol...</td>\n",
       "    </tr>\n",
       "    <tr>\n",
       "      <td>...</td>\n",
       "      <td>...</td>\n",
       "      <td>...</td>\n",
       "      <td>...</td>\n",
       "      <td>...</td>\n",
       "      <td>...</td>\n",
       "      <td>...</td>\n",
       "      <td>...</td>\n",
       "      <td>...</td>\n",
       "      <td>...</td>\n",
       "      <td>...</td>\n",
       "      <td>...</td>\n",
       "      <td>...</td>\n",
       "      <td>...</td>\n",
       "      <td>...</td>\n",
       "      <td>...</td>\n",
       "      <td>...</td>\n",
       "      <td>...</td>\n",
       "    </tr>\n",
       "    <tr>\n",
       "      <td>9622</td>\n",
       "      <td>Region: IV</td>\n",
       "      <td>Waterford</td>\n",
       "      <td>2578</td>\n",
       "      <td>2006-12-20</td>\n",
       "      <td>2006005-03</td>\n",
       "      <td>NRC</td>\n",
       "      <td>NCV</td>\n",
       "      <td>Emergency Preparedness</td>\n",
       "      <td>Green</td>\n",
       "      <td>Failure to Conduct a Required Offsite medical ...</td>\n",
       "      <td>NaN</td>\n",
       "      <td>NaN</td>\n",
       "      <td>TE?: N</td>\n",
       "      <td>05000382 Waterford 3</td>\n",
       "      <td>NaN</td>\n",
       "      <td>71114.1</td>\n",
       "      <td>The inspector identified a noncited violation ...</td>\n",
       "    </tr>\n",
       "    <tr>\n",
       "      <td>9623</td>\n",
       "      <td>Region: IV</td>\n",
       "      <td>Waterford</td>\n",
       "      <td>2572</td>\n",
       "      <td>2006-10-07</td>\n",
       "      <td>2006004-01</td>\n",
       "      <td>NRC</td>\n",
       "      <td>NCV</td>\n",
       "      <td>Mitigating Systems</td>\n",
       "      <td>Green</td>\n",
       "      <td>Inadequate Inspection of Essential Chiller Con...</td>\n",
       "      <td>NaN</td>\n",
       "      <td>H.4(b) Procedural Compliance</td>\n",
       "      <td>TE?: N</td>\n",
       "      <td>05000382 Waterford 3</td>\n",
       "      <td>NaN</td>\n",
       "      <td>71111.2</td>\n",
       "      <td>A self-revealing noncited violation of Technic...</td>\n",
       "    </tr>\n",
       "    <tr>\n",
       "      <td>9624</td>\n",
       "      <td>Region: IV</td>\n",
       "      <td>Waterford</td>\n",
       "      <td>2575</td>\n",
       "      <td>2006-10-07</td>\n",
       "      <td>2006004-02</td>\n",
       "      <td>NRC</td>\n",
       "      <td>NCV</td>\n",
       "      <td>Initiating Events</td>\n",
       "      <td>Green</td>\n",
       "      <td>Inadequate Maintenance Procedure for ESFAS Rel...</td>\n",
       "      <td>NaN</td>\n",
       "      <td>H.2(c) Documentation, Procedures &amp; Component L...</td>\n",
       "      <td>TE?: N</td>\n",
       "      <td>05000382 Waterford 3</td>\n",
       "      <td>NaN</td>\n",
       "      <td>71111.2</td>\n",
       "      <td>A self-revealing noncited violation of Technic...</td>\n",
       "    </tr>\n",
       "    <tr>\n",
       "      <td>9625</td>\n",
       "      <td>Region: IV</td>\n",
       "      <td>Waterford</td>\n",
       "      <td>2570</td>\n",
       "      <td>2006-07-07</td>\n",
       "      <td>2006003-01</td>\n",
       "      <td>NRC</td>\n",
       "      <td>VIO</td>\n",
       "      <td>Mitigating Systems</td>\n",
       "      <td>Green</td>\n",
       "      <td>Untimely Actions to Reestablish Full Qualifica...</td>\n",
       "      <td>EA Case: 06  192</td>\n",
       "      <td>NaN</td>\n",
       "      <td>TE?: N</td>\n",
       "      <td>05000382 Waterford 3</td>\n",
       "      <td>NaN</td>\n",
       "      <td>71152</td>\n",
       "      <td>The inspectors identified a Green violation of...</td>\n",
       "    </tr>\n",
       "    <tr>\n",
       "      <td>9626</td>\n",
       "      <td>Region: IV</td>\n",
       "      <td>Waterford</td>\n",
       "      <td>125772</td>\n",
       "      <td>NaT</td>\n",
       "      <td>NaN</td>\n",
       "      <td>Licensee - Identified</td>\n",
       "      <td>LIV</td>\n",
       "      <td>NaN</td>\n",
       "      <td>Green</td>\n",
       "      <td>Boron Dilution Alarm (Startup Channel High Neu...</td>\n",
       "      <td>NaN</td>\n",
       "      <td>NaN</td>\n",
       "      <td>TE?: N</td>\n",
       "      <td>05000382 Waterford 3</td>\n",
       "      <td>NaN</td>\n",
       "      <td>71153</td>\n",
       "      <td>NaN</td>\n",
       "    </tr>\n",
       "  </tbody>\n",
       "</table>\n",
       "<p>185 rows × 17 columns</p>\n",
       "</div>"
      ],
      "text/plain": [
       "          Region       Site      Id Pim_Issue_Date      Source  \\\n",
       "9442  Region: IV  Waterford  126572     2019-12-31  2019004-01   \n",
       "9443  Region: IV  Waterford  125986     2019-09-30  2019003-01   \n",
       "9444  Region: IV  Waterford  125746     2019-09-30  2019003-03   \n",
       "9445  Region: IV  Waterford  125172     2019-05-23  2019010-01   \n",
       "9446  Region: IV  Waterford  124680     2019-03-31  2019001-01   \n",
       "...          ...        ...     ...            ...         ...   \n",
       "9622  Region: IV  Waterford    2578     2006-12-20  2006005-03   \n",
       "9623  Region: IV  Waterford    2572     2006-10-07  2006004-01   \n",
       "9624  Region: IV  Waterford    2575     2006-10-07  2006004-02   \n",
       "9625  Region: IV  Waterford    2570     2006-07-07  2006003-01   \n",
       "9626  Region: IV  Waterford  125772            NaT         NaN   \n",
       "\n",
       "                       IdBy Type                   Cornerstone_ Significance  \\\n",
       "9442                    NRC  NCV             Mitigating Systems        Green   \n",
       "9443                    NRC  NCV  Occupational Radiation Safety        Green   \n",
       "9444        Self - Revealed  FIN              Initiating Events        Green   \n",
       "9445                    NRC  NCV             Mitigating Systems        Green   \n",
       "9446                    NRC  NCV              Initiating Events        Green   \n",
       "...                     ...  ...                            ...          ...   \n",
       "9622                    NRC  NCV         Emergency Preparedness        Green   \n",
       "9623                    NRC  NCV             Mitigating Systems        Green   \n",
       "9624                    NRC  NCV              Initiating Events        Green   \n",
       "9625                    NRC  VIO             Mitigating Systems        Green   \n",
       "9626  Licensee - Identified  LIV                            NaN        Green   \n",
       "\n",
       "                                                 Title_          EACaseNo  \\\n",
       "9442  Failure to Adequately Implement the Operabilit...               NaN   \n",
       "9443  Failure to Periodically Calibrate Radiation Mo...               NaN   \n",
       "9444  Failure to Implement Procedures for Main Gener...               NaN   \n",
       "9445  Failure to Identify and Evaluate Storage and S...               NaN   \n",
       "9446  Failure to Lock an Reactor Coolant System Drai...               NaN   \n",
       "...                                                 ...               ...   \n",
       "9622  Failure to Conduct a Required Offsite medical ...               NaN   \n",
       "9623  Inadequate Inspection of Essential Chiller Con...               NaN   \n",
       "9624  Inadequate Maintenance Procedure for ESFAS Rel...               NaN   \n",
       "9625  Untimely Actions to Reestablish Full Qualifica...  EA Case: 06  192   \n",
       "9626  Boron Dilution Alarm (Startup Channel High Neu...               NaN   \n",
       "\n",
       "                                     CrossCuttingAspect      TE  \\\n",
       "9442                               H.6 - Design Margins  TE?: N   \n",
       "9443                            H.3 - Change Management  TE?: N   \n",
       "9444                              H.5 - Work Management  TE?: N   \n",
       "9445                                                NPP  TE?: N   \n",
       "9446                           H.12 - Avoid Complacency  TE?: N   \n",
       "...                                                 ...     ...   \n",
       "9622                                                NaN  TE?: N   \n",
       "9623                       H.4(b) Procedural Compliance  TE?: N   \n",
       "9624  H.2(c) Documentation, Procedures & Component L...  TE?: N   \n",
       "9625                                                NaN  TE?: N   \n",
       "9626                                                NaN  TE?: N   \n",
       "\n",
       "                    Docket                            CornerstoneAttribute  \\\n",
       "9442  05000382 Waterford 3                           Equipment Performance   \n",
       "9443  05000382 Waterford 3  Plant Facilities/Equipment and Instrumentation   \n",
       "9444  05000382 Waterford 3                           Equipment Performance   \n",
       "9445  05000382 Waterford 3                                             NaN   \n",
       "9446  05000382 Waterford 3                           Configuration Control   \n",
       "...                    ...                                             ...   \n",
       "9622  05000382 Waterford 3                                             NaN   \n",
       "9623  05000382 Waterford 3                                             NaN   \n",
       "9624  05000382 Waterford 3                                             NaN   \n",
       "9625  05000382 Waterford 3                                             NaN   \n",
       "9626  05000382 Waterford 3                                             NaN   \n",
       "\n",
       "      Procedure                                      Introduction_  \n",
       "9442    71111.1  The inspectors identified a Green non-cited vi...  \n",
       "9443    71124.1  The inspectors identified a Green non-cited (N...  \n",
       "9444      71153  The inspectors reviewed a self-revealing Green...  \n",
       "9445  71111.21N  The inspectors identified a Green finding and ...  \n",
       "9446    71111.1  The inspectors identified Green non-cited viol...  \n",
       "...         ...                                                ...  \n",
       "9622    71114.1  The inspector identified a noncited violation ...  \n",
       "9623    71111.2  A self-revealing noncited violation of Technic...  \n",
       "9624    71111.2  A self-revealing noncited violation of Technic...  \n",
       "9625      71152  The inspectors identified a Green violation of...  \n",
       "9626      71153                                                NaN  \n",
       "\n",
       "[185 rows x 17 columns]"
      ]
     },
     "execution_count": 17,
     "metadata": {},
     "output_type": "execute_result"
    }
   ],
   "source": [
    "df.loc[df.Site == 'Waterford']"
   ]
  },
  {
   "cell_type": "code",
   "execution_count": null,
   "metadata": {},
   "outputs": [],
   "source": []
  },
  {
   "cell_type": "code",
   "execution_count": 18,
   "metadata": {},
   "outputs": [],
   "source": [
    "df = df.set_index(['Pim_Issue_Date'])"
   ]
  },
  {
   "cell_type": "code",
   "execution_count": 19,
   "metadata": {},
   "outputs": [
    {
     "data": {
      "text/html": [
       "<div>\n",
       "<style scoped>\n",
       "    .dataframe tbody tr th:only-of-type {\n",
       "        vertical-align: middle;\n",
       "    }\n",
       "\n",
       "    .dataframe tbody tr th {\n",
       "        vertical-align: top;\n",
       "    }\n",
       "\n",
       "    .dataframe thead th {\n",
       "        text-align: right;\n",
       "    }\n",
       "</style>\n",
       "<table border=\"1\" class=\"dataframe\">\n",
       "  <thead>\n",
       "    <tr style=\"text-align: right;\">\n",
       "      <th></th>\n",
       "      <th>Region</th>\n",
       "      <th>Site</th>\n",
       "      <th>Id</th>\n",
       "      <th>Source</th>\n",
       "      <th>IdBy</th>\n",
       "      <th>Type</th>\n",
       "      <th>Cornerstone_</th>\n",
       "      <th>Significance</th>\n",
       "      <th>Title_</th>\n",
       "      <th>EACaseNo</th>\n",
       "      <th>CrossCuttingAspect</th>\n",
       "      <th>TE</th>\n",
       "      <th>Docket</th>\n",
       "      <th>CornerstoneAttribute</th>\n",
       "      <th>Procedure</th>\n",
       "      <th>Introduction_</th>\n",
       "    </tr>\n",
       "    <tr>\n",
       "      <th>Pim_Issue_Date</th>\n",
       "      <th></th>\n",
       "      <th></th>\n",
       "      <th></th>\n",
       "      <th></th>\n",
       "      <th></th>\n",
       "      <th></th>\n",
       "      <th></th>\n",
       "      <th></th>\n",
       "      <th></th>\n",
       "      <th></th>\n",
       "      <th></th>\n",
       "      <th></th>\n",
       "      <th></th>\n",
       "      <th></th>\n",
       "      <th></th>\n",
       "      <th></th>\n",
       "    </tr>\n",
       "  </thead>\n",
       "  <tbody>\n",
       "    <tr>\n",
       "      <td>2018-12-31</td>\n",
       "      <td>Region: I</td>\n",
       "      <td>Beaver Valley</td>\n",
       "      <td>25912</td>\n",
       "      <td>2018004-01</td>\n",
       "      <td>Self - Revealed</td>\n",
       "      <td>NCV</td>\n",
       "      <td>Initiating Events</td>\n",
       "      <td>Green</td>\n",
       "      <td>Inadvertent Service Water Header Pressure Redu...</td>\n",
       "      <td>NaN</td>\n",
       "      <td>H.12 - Avoid Complacency</td>\n",
       "      <td>TE?: N</td>\n",
       "      <td>05000412 Beaver Valley 2</td>\n",
       "      <td>Procedure Quality</td>\n",
       "      <td>71111.1</td>\n",
       "      <td>A self-revealed Green non-cited violation of t...</td>\n",
       "    </tr>\n",
       "    <tr>\n",
       "      <td>2018-12-31</td>\n",
       "      <td>Region: I</td>\n",
       "      <td>Beaver Valley</td>\n",
       "      <td>38859</td>\n",
       "      <td>2018004-02</td>\n",
       "      <td>NRC</td>\n",
       "      <td>NCV</td>\n",
       "      <td>Mitigating Systems</td>\n",
       "      <td>Green</td>\n",
       "      <td>Failure to correct a degraded condition with t...</td>\n",
       "      <td>NaN</td>\n",
       "      <td>P.3 - Resolution</td>\n",
       "      <td>TE?: N</td>\n",
       "      <td>05000412 Beaver Valley 2</td>\n",
       "      <td>Equipment Performance</td>\n",
       "      <td>71152</td>\n",
       "      <td>The inspectors identified a Green non-cited vi...</td>\n",
       "    </tr>\n",
       "    <tr>\n",
       "      <td>2018-09-30</td>\n",
       "      <td>Region: I</td>\n",
       "      <td>Beaver Valley</td>\n",
       "      <td>24690</td>\n",
       "      <td>2018003-01</td>\n",
       "      <td>Self - Revealed</td>\n",
       "      <td>NCV</td>\n",
       "      <td>Mitigating Systems</td>\n",
       "      <td>Green</td>\n",
       "      <td>Inadequate Verification of Full Low Head Safet...</td>\n",
       "      <td>NaN</td>\n",
       "      <td>H.11 - Challenge the Unknown</td>\n",
       "      <td>TE?: N</td>\n",
       "      <td>05000334 Beaver Valley 1</td>\n",
       "      <td>NaN</td>\n",
       "      <td>71111.1</td>\n",
       "      <td>A self-revealed Green non-cited violation (NCV...</td>\n",
       "    </tr>\n",
       "    <tr>\n",
       "      <td>2018-08-10</td>\n",
       "      <td>Region: I</td>\n",
       "      <td>Beaver Valley</td>\n",
       "      <td>24404</td>\n",
       "      <td>2018011-01</td>\n",
       "      <td>NRC</td>\n",
       "      <td>NCV</td>\n",
       "      <td>Mitigating Systems</td>\n",
       "      <td>Green</td>\n",
       "      <td>Duties of the Shift Technical Advisor for Cont...</td>\n",
       "      <td>NaN</td>\n",
       "      <td>NaN</td>\n",
       "      <td>TE?: N</td>\n",
       "      <td>05000334 Beaver Valley 1</td>\n",
       "      <td>NaN</td>\n",
       "      <td>71111.05XT</td>\n",
       "      <td>The inspectors identified a Green non-cited vi...</td>\n",
       "    </tr>\n",
       "    <tr>\n",
       "      <td>2018-03-31</td>\n",
       "      <td>Region: I</td>\n",
       "      <td>Beaver Valley</td>\n",
       "      <td>23947</td>\n",
       "      <td>NaN</td>\n",
       "      <td>Self - Revealed</td>\n",
       "      <td>FIN</td>\n",
       "      <td>Initiating Events</td>\n",
       "      <td>Green</td>\n",
       "      <td>Inadequate Procedure Adherence</td>\n",
       "      <td>NaN</td>\n",
       "      <td>NPP</td>\n",
       "      <td>TE?: N</td>\n",
       "      <td>05000334 Beaver Valley 1</td>\n",
       "      <td>NaN</td>\n",
       "      <td>71153</td>\n",
       "      <td>A self-revealed Green finding was identified w...</td>\n",
       "    </tr>\n",
       "  </tbody>\n",
       "</table>\n",
       "</div>"
      ],
      "text/plain": [
       "                   Region           Site     Id      Source             IdBy  \\\n",
       "Pim_Issue_Date                                                                 \n",
       "2018-12-31      Region: I  Beaver Valley  25912  2018004-01  Self - Revealed   \n",
       "2018-12-31      Region: I  Beaver Valley  38859  2018004-02              NRC   \n",
       "2018-09-30      Region: I  Beaver Valley  24690  2018003-01  Self - Revealed   \n",
       "2018-08-10      Region: I  Beaver Valley  24404  2018011-01              NRC   \n",
       "2018-03-31      Region: I  Beaver Valley  23947         NaN  Self - Revealed   \n",
       "\n",
       "               Type        Cornerstone_ Significance  \\\n",
       "Pim_Issue_Date                                         \n",
       "2018-12-31      NCV   Initiating Events        Green   \n",
       "2018-12-31      NCV  Mitigating Systems        Green   \n",
       "2018-09-30      NCV  Mitigating Systems        Green   \n",
       "2018-08-10      NCV  Mitigating Systems        Green   \n",
       "2018-03-31      FIN   Initiating Events        Green   \n",
       "\n",
       "                                                           Title_ EACaseNo  \\\n",
       "Pim_Issue_Date                                                               \n",
       "2018-12-31      Inadvertent Service Water Header Pressure Redu...      NaN   \n",
       "2018-12-31      Failure to correct a degraded condition with t...      NaN   \n",
       "2018-09-30      Inadequate Verification of Full Low Head Safet...      NaN   \n",
       "2018-08-10      Duties of the Shift Technical Advisor for Cont...      NaN   \n",
       "2018-03-31                         Inadequate Procedure Adherence      NaN   \n",
       "\n",
       "                          CrossCuttingAspect      TE  \\\n",
       "Pim_Issue_Date                                         \n",
       "2018-12-31          H.12 - Avoid Complacency  TE?: N   \n",
       "2018-12-31                  P.3 - Resolution  TE?: N   \n",
       "2018-09-30      H.11 - Challenge the Unknown  TE?: N   \n",
       "2018-08-10                               NaN  TE?: N   \n",
       "2018-03-31                               NPP  TE?: N   \n",
       "\n",
       "                                  Docket   CornerstoneAttribute   Procedure  \\\n",
       "Pim_Issue_Date                                                                \n",
       "2018-12-31      05000412 Beaver Valley 2      Procedure Quality     71111.1   \n",
       "2018-12-31      05000412 Beaver Valley 2  Equipment Performance       71152   \n",
       "2018-09-30      05000334 Beaver Valley 1                    NaN     71111.1   \n",
       "2018-08-10      05000334 Beaver Valley 1                    NaN  71111.05XT   \n",
       "2018-03-31      05000334 Beaver Valley 1                    NaN       71153   \n",
       "\n",
       "                                                    Introduction_  \n",
       "Pim_Issue_Date                                                     \n",
       "2018-12-31      A self-revealed Green non-cited violation of t...  \n",
       "2018-12-31      The inspectors identified a Green non-cited vi...  \n",
       "2018-09-30      A self-revealed Green non-cited violation (NCV...  \n",
       "2018-08-10      The inspectors identified a Green non-cited vi...  \n",
       "2018-03-31      A self-revealed Green finding was identified w...  "
      ]
     },
     "execution_count": 19,
     "metadata": {},
     "output_type": "execute_result"
    }
   ],
   "source": [
    "df.head()"
   ]
  },
  {
   "cell_type": "code",
   "execution_count": 17,
   "metadata": {},
   "outputs": [
    {
     "name": "stdout",
     "output_type": "stream",
     "text": [
      "<class 'pandas.core.frame.DataFrame'>\n",
      "DatetimeIndex: 9938 entries, 2018-12-31 to NaT\n",
      "Data columns (total 1 columns):\n",
      "Title    9938 non-null object\n",
      "dtypes: object(1)\n",
      "memory usage: 155.3+ KB\n"
     ]
    }
   ],
   "source": [
    "df.info()"
   ]
  },
  {
   "cell_type": "code",
   "execution_count": 29,
   "metadata": {},
   "outputs": [
    {
     "data": {
      "text/plain": [
       "6"
      ]
     },
     "execution_count": 29,
     "metadata": {},
     "output_type": "execute_result"
    }
   ],
   "source": [
    "df2 = df['2006-01-01':'2006-12-31']\n",
    "df2.loc[df2.Site == 'Waterford'].Id.count()"
   ]
  },
  {
   "cell_type": "code",
   "execution_count": 30,
   "metadata": {},
   "outputs": [
    {
     "data": {
      "text/plain": [
       "16"
      ]
     },
     "execution_count": 30,
     "metadata": {},
     "output_type": "execute_result"
    }
   ],
   "source": [
    "df2 = df['2007-01-01':'2007-12-31']\n",
    "df2.loc[df2.Site == 'Waterford'].Id.count()"
   ]
  },
  {
   "cell_type": "code",
   "execution_count": 31,
   "metadata": {},
   "outputs": [
    {
     "data": {
      "text/plain": [
       "14"
      ]
     },
     "execution_count": 31,
     "metadata": {},
     "output_type": "execute_result"
    }
   ],
   "source": [
    "df2 = df['2008-01-01':'2008-12-31']\n",
    "df2.loc[df2.Site == 'Waterford'].Id.count()"
   ]
  },
  {
   "cell_type": "code",
   "execution_count": 32,
   "metadata": {},
   "outputs": [
    {
     "data": {
      "text/plain": [
       "18"
      ]
     },
     "execution_count": 32,
     "metadata": {},
     "output_type": "execute_result"
    }
   ],
   "source": [
    "df2 = df['2009-01-01':'2009-12-31']\n",
    "df2.loc[df2.Site == 'Waterford'].Id.count()"
   ]
  },
  {
   "cell_type": "code",
   "execution_count": 33,
   "metadata": {},
   "outputs": [
    {
     "data": {
      "text/plain": [
       "7"
      ]
     },
     "execution_count": 33,
     "metadata": {},
     "output_type": "execute_result"
    }
   ],
   "source": [
    "df2 = df['2010-01-01':'2010-12-31']\n",
    "df2.loc[df2.Site == 'Waterford'].Id.count()"
   ]
  },
  {
   "cell_type": "code",
   "execution_count": 34,
   "metadata": {},
   "outputs": [
    {
     "data": {
      "text/plain": [
       "24"
      ]
     },
     "execution_count": 34,
     "metadata": {},
     "output_type": "execute_result"
    }
   ],
   "source": [
    "df2 = df['2011-01-01':'2011-12-31']\n",
    "df2.loc[df2.Site == 'Waterford'].Id.count()"
   ]
  },
  {
   "cell_type": "code",
   "execution_count": 35,
   "metadata": {},
   "outputs": [
    {
     "data": {
      "text/plain": [
       "17"
      ]
     },
     "execution_count": 35,
     "metadata": {},
     "output_type": "execute_result"
    }
   ],
   "source": [
    "df2 = df['2012-01-01':'2012-12-31']\n",
    "df2.loc[df2.Site == 'Waterford'].Id.count()"
   ]
  },
  {
   "cell_type": "code",
   "execution_count": 36,
   "metadata": {},
   "outputs": [
    {
     "data": {
      "text/plain": [
       "9"
      ]
     },
     "execution_count": 36,
     "metadata": {},
     "output_type": "execute_result"
    }
   ],
   "source": [
    "df2 = df['2013-01-01':'2013-12-31']\n",
    "df2.loc[df2.Site == 'Waterford'].Id.count()"
   ]
  },
  {
   "cell_type": "code",
   "execution_count": 37,
   "metadata": {},
   "outputs": [
    {
     "data": {
      "text/plain": [
       "17"
      ]
     },
     "execution_count": 37,
     "metadata": {},
     "output_type": "execute_result"
    }
   ],
   "source": [
    "df2 = df['2014-01-01':'2014-12-31']\n",
    "df2.loc[df2.Site == 'Waterford'].Id.count()"
   ]
  },
  {
   "cell_type": "code",
   "execution_count": 38,
   "metadata": {},
   "outputs": [
    {
     "data": {
      "text/plain": [
       "21"
      ]
     },
     "execution_count": 38,
     "metadata": {},
     "output_type": "execute_result"
    }
   ],
   "source": [
    "df2 = df['2015-01-01':'2015-12-31']\n",
    "df2.loc[df2.Site == 'Waterford'].Id.count()"
   ]
  },
  {
   "cell_type": "code",
   "execution_count": 39,
   "metadata": {},
   "outputs": [
    {
     "data": {
      "text/plain": [
       "10"
      ]
     },
     "execution_count": 39,
     "metadata": {},
     "output_type": "execute_result"
    }
   ],
   "source": [
    "df2 = df['2016-01-01':'2016-12-31']\n",
    "df2.loc[df2.Site == 'Waterford'].Id.count()"
   ]
  },
  {
   "cell_type": "code",
   "execution_count": 40,
   "metadata": {},
   "outputs": [
    {
     "data": {
      "text/plain": [
       "14"
      ]
     },
     "execution_count": 40,
     "metadata": {},
     "output_type": "execute_result"
    }
   ],
   "source": [
    "df2 = df['2017-01-01':'2017-12-31']\n",
    "df2.loc[df2.Site == 'Waterford'].Id.count()"
   ]
  },
  {
   "cell_type": "code",
   "execution_count": 41,
   "metadata": {},
   "outputs": [
    {
     "data": {
      "text/plain": [
       "5"
      ]
     },
     "execution_count": 41,
     "metadata": {},
     "output_type": "execute_result"
    }
   ],
   "source": [
    "df2 = df['2018-01-01':'2018-12-31']\n",
    "df2.loc[df2.Site == 'Waterford'].Id.count()"
   ]
  },
  {
   "cell_type": "code",
   "execution_count": 42,
   "metadata": {},
   "outputs": [
    {
     "data": {
      "text/plain": [
       "6"
      ]
     },
     "execution_count": 42,
     "metadata": {},
     "output_type": "execute_result"
    }
   ],
   "source": [
    "df2 = df['2019-01-01':'2019-12-31']\n",
    "df2.loc[df2.Site == 'Waterford'].Id.count()"
   ]
  },
  {
   "cell_type": "code",
   "execution_count": 43,
   "metadata": {},
   "outputs": [],
   "source": [
    "def sitecounts(site):\n",
    "    \n",
    "    df2 = df['2006-01-01':'2006-12-31']\n",
    "    Y06 = df2.loc[df2.Site == site].Site.count()\n",
    "    df2 = df['2007-01-01':'2007-12-31']\n",
    "    Y07 = df2.loc[df2.Site == site].Site.count()\n",
    "    df2 = df['2008-01-01':'2008-12-31']\n",
    "    Y08 = df2.loc[df2.Site == site].Site.count()\n",
    "    df2 = df['2009-01-01':'2009-12-31']\n",
    "    Y09 = df2.loc[df2.Site == site].Site.count()\n",
    "    df2 = df['2010-01-01':'2010-12-31']\n",
    "    Y10 = df2.loc[df2.Site == site].Site.count()\n",
    "    df2 = df['2011-01-01':'2011-12-31']\n",
    "    Y11 = df2.loc[df2.Site == site].Site.count()\n",
    "    df2 = df['2012-01-01':'2012-12-31']\n",
    "    Y12 = df2.loc[df2.Site == site].Site.count()\n",
    "    df2 = df['2013-01-01':'2013-12-31']\n",
    "    Y13 = df2.loc[df2.Site == site].Site.count()\n",
    "    df2 = df['2014-01-01':'2014-12-31']\n",
    "    Y14 = df2.loc[df2.Site == site].Site.count()\n",
    "    df2 = df['2015-01-01':'2015-12-31']\n",
    "    Y15 = df2.loc[df2.Site == site].Site.count()\n",
    "    df2 = df['2016-01-01':'2016-12-31']\n",
    "    Y16 = df2.loc[df2.Site == site].Site.count()\n",
    "    df2 = df['2017-01-01':'2017-12-31']\n",
    "    Y17 = df2.loc[df2.Site == site].Site.count()\n",
    "    df2 = df['2018-01-01':'2018-12-31']\n",
    "    Y18 = df2.loc[df2.Site == site].Site.count()\n",
    "    df2 = df['2019-01-01':'2019-12-31']\n",
    "    Y19 = df2.loc[df2.Site == site].Site.count()\n",
    "    print('{} {} {} {} {} {} {} {} {} {} {} {} {} {}'.format(Y06, Y07, Y08, Y09, Y10, Y11, Y12, Y13, Y14, Y15, Y16, Y17, Y18, Y19))\n",
    "    \n",
    "\n"
   ]
  },
  {
   "cell_type": "code",
   "execution_count": 44,
   "metadata": {},
   "outputs": [
    {
     "name": "stdout",
     "output_type": "stream",
     "text": [
      "10 6 3 1 3 7 7 7 8 2 5 5 1 7\n"
     ]
    }
   ],
   "source": [
    "sitecounts('Seabrook')"
   ]
  },
  {
   "cell_type": "code",
   "execution_count": 45,
   "metadata": {},
   "outputs": [
    {
     "name": "stdout",
     "output_type": "stream",
     "text": [
      "4 7 6 5 10 14 8 7 11 11 2 0 6 2\n"
     ]
    }
   ],
   "source": [
    "sitecounts('Harris')"
   ]
  },
  {
   "cell_type": "code",
   "execution_count": 46,
   "metadata": {},
   "outputs": [
    {
     "name": "stdout",
     "output_type": "stream",
     "text": [
      "9 19 8 12 17 15 14 30 9 13 20 13 9 7\n"
     ]
    }
   ],
   "source": [
    "sitecounts('Browns Ferry')"
   ]
  },
  {
   "cell_type": "code",
   "execution_count": 18,
   "metadata": {},
   "outputs": [],
   "source": [
    "def greencounts(year):\n",
    "    \n",
    "    JanAvg = df[year+'-01-01':year+'-01-31'].Title.count()\n",
    "    FebAvg = df[year+'-02-01':year+'-02-28'].Title.count()\n",
    "    MarAvg = df[year+'-03-01':year+'-03-31'].Title.count()\n",
    "    AprAvg = df[year+'-04-01':year+'-04-30'].Title.count()\n",
    "    MayAvg = df[year+'-05-01':year+'-05-31'].Title.count()\n",
    "    JunAvg = df[year+'-06-01':year+'-06-30'].Title.count()\n",
    "    JulAvg = df[year+'-07-01':year+'-07-31'].Title.count()\n",
    "    AugAvg = df[year+'-08-01':year+'-08-31'].Title.count()\n",
    "    SepAvg = df[year+'-09-01':year+'-09-30'].Title.count()\n",
    "    OctAvg = df[year+'-10-01':year+'-10-31'].Title.count()\n",
    "    NovAvg = df[year+'-11-01':year+'-11-30'].Title.count()\n",
    "    DecAvg = df[year+'-12-01':year+'-12-31'].Title.count()\n",
    "    print('{} {} {} {} {} {} {} {} {} {} {} {}'.format(JanAvg, FebAvg, MarAvg, AprAvg, MayAvg, JunAvg, JulAvg, AugAvg, SepAvg, OctAvg, NovAvg, DecAvg))\n",
    "    "
   ]
  },
  {
   "cell_type": "code",
   "execution_count": 22,
   "metadata": {},
   "outputs": [
    {
     "name": "stdout",
     "output_type": "stream",
     "text": [
      "2 6 82 7 6 63 6 7 55 4 7 67\n"
     ]
    }
   ],
   "source": [
    "greencounts('2019')"
   ]
  },
  {
   "cell_type": "code",
   "execution_count": 19,
   "metadata": {},
   "outputs": [
    {
     "name": "stdout",
     "output_type": "stream",
     "text": [
      "12 10 63 19 12 87 9 19 62 14 6 76\n"
     ]
    }
   ],
   "source": [
    "greencounts('2018')"
   ]
  },
  {
   "cell_type": "code",
   "execution_count": 20,
   "metadata": {},
   "outputs": [
    {
     "name": "stdout",
     "output_type": "stream",
     "text": [
      "0 7 94 11 20 99 17 25 69 18 24 113\n"
     ]
    }
   ],
   "source": [
    "greencounts('2017')"
   ]
  },
  {
   "cell_type": "code",
   "execution_count": 21,
   "metadata": {},
   "outputs": [
    {
     "name": "stdout",
     "output_type": "stream",
     "text": [
      "9 5 134 23 27 132 13 16 118 12 13 99\n"
     ]
    }
   ],
   "source": [
    "greencounts('2016')"
   ]
  },
  {
   "cell_type": "code",
   "execution_count": 23,
   "metadata": {},
   "outputs": [
    {
     "name": "stdout",
     "output_type": "stream",
     "text": [
      "17 24 137 10 19 159 16 20 115 34 32 127\n"
     ]
    }
   ],
   "source": [
    "greencounts('2015')"
   ]
  },
  {
   "cell_type": "code",
   "execution_count": 24,
   "metadata": {},
   "outputs": [
    {
     "name": "stdout",
     "output_type": "stream",
     "text": [
      "7 25 169 15 11 144 24 17 136 17 18 131\n"
     ]
    }
   ],
   "source": [
    "greencounts('2014')"
   ]
  },
  {
   "cell_type": "code",
   "execution_count": 25,
   "metadata": {},
   "outputs": [
    {
     "name": "stdout",
     "output_type": "stream",
     "text": [
      "2 10 152 26 51 164 37 35 110 30 27 133\n"
     ]
    }
   ],
   "source": [
    "greencounts('2013')"
   ]
  },
  {
   "cell_type": "code",
   "execution_count": 26,
   "metadata": {},
   "outputs": [
    {
     "name": "stdout",
     "output_type": "stream",
     "text": [
      "7 14 168 22 33 191 19 21 176 16 18 174\n"
     ]
    }
   ],
   "source": [
    "greencounts('2012')"
   ]
  },
  {
   "cell_type": "code",
   "execution_count": 27,
   "metadata": {},
   "outputs": [
    {
     "name": "stdout",
     "output_type": "stream",
     "text": [
      "13 15 173 25 22 205 16 24 177 42 9 174\n"
     ]
    }
   ],
   "source": [
    "greencounts('2011')"
   ]
  },
  {
   "cell_type": "code",
   "execution_count": 28,
   "metadata": {},
   "outputs": [
    {
     "name": "stdout",
     "output_type": "stream",
     "text": [
      "22 5 137 27 10 175 29 18 156 23 28 181\n"
     ]
    }
   ],
   "source": [
    "greencounts('2010')"
   ]
  },
  {
   "cell_type": "code",
   "execution_count": 29,
   "metadata": {},
   "outputs": [
    {
     "name": "stdout",
     "output_type": "stream",
     "text": [
      "7 19 143 24 18 164 21 22 144 34 18 199\n"
     ]
    }
   ],
   "source": [
    "greencounts('2009')"
   ]
  },
  {
   "cell_type": "code",
   "execution_count": 30,
   "metadata": {},
   "outputs": [
    {
     "name": "stdout",
     "output_type": "stream",
     "text": [
      "14 19 160 45 23 189 9 26 133 24 23 133\n"
     ]
    }
   ],
   "source": [
    "greencounts('2008')"
   ]
  },
  {
   "cell_type": "code",
   "execution_count": 31,
   "metadata": {},
   "outputs": [
    {
     "name": "stdout",
     "output_type": "stream",
     "text": [
      "16 28 167 38 23 166 29 18 126 56 25 215\n"
     ]
    }
   ],
   "source": [
    "greencounts('2007')"
   ]
  },
  {
   "cell_type": "code",
   "execution_count": 32,
   "metadata": {},
   "outputs": [
    {
     "name": "stdout",
     "output_type": "stream",
     "text": [
      "15 23 135 27 26 169 12 14 108 22 34 178\n"
     ]
    }
   ],
   "source": [
    "greencounts('2006')"
   ]
  },
  {
   "cell_type": "code",
   "execution_count": null,
   "metadata": {},
   "outputs": [],
   "source": []
  }
 ],
 "metadata": {
  "kernelspec": {
   "display_name": "Python 3",
   "language": "python",
   "name": "python3"
  },
  "language_info": {
   "codemirror_mode": {
    "name": "ipython",
    "version": 3
   },
   "file_extension": ".py",
   "mimetype": "text/x-python",
   "name": "python",
   "nbconvert_exporter": "python",
   "pygments_lexer": "ipython3",
   "version": "3.7.4"
  }
 },
 "nbformat": 4,
 "nbformat_minor": 2
}
