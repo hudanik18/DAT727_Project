{
 "cells": [
  {
   "cell_type": "markdown",
   "metadata": {},
   "source": [
    "# Predicting Monthly Industry-wide Nuclear Power Plant Power Output"
   ]
  },
  {
   "cell_type": "markdown",
   "metadata": {},
   "source": [
    "## Problem Statement\n",
    "\n",
    "This model will predict the average monthly expected power output across the U.S. Nuclear Industry based on the number of NRC-related reports issued that month.  The NRC issues reports which categorize performance deficiences, at a high level, as Green or Greater-than-Green (GTG).  Additionally, the Nuclear Power Plants have a regulatory obligation to submit Event Notifications (ENs) and Licensee Event Reports (LERs) depending on the deficiency that occurs at their plant.  Depending on the severity of the deficiency, the power output of a plant may decrease or even go down to 0.  \n",
    "\n",
    "This model with provide insight on the effectiveness of these reports to predict power level changes."
   ]
  },
  {
   "cell_type": "markdown",
   "metadata": {},
   "source": [
    "## Importing Appropriate Libraries and Data"
   ]
  },
  {
   "cell_type": "code",
   "execution_count": 98,
   "metadata": {},
   "outputs": [],
   "source": [
    "import pandas as pd\n",
    "import seaborn as sns\n",
    "import matplotlib.pyplot as plt\n",
    "import numpy as np\n",
    "import scipy.stats\n",
    "\n",
    "from sklearn.linear_model import LinearRegression\n",
    "from sklearn.model_selection import train_test_split\n",
    "from sklearn.metrics import mean_squared_error\n",
    "\n",
    "%matplotlib inline"
   ]
  },
  {
   "cell_type": "markdown",
   "metadata": {},
   "source": [
    "### This data was cleaned and developed from several other excel files. \n",
    "\n",
    "I cleaned the data in those files and developed functions to obtain counts and averages between the years 2006-2019.  The data was evaluated using methods similar to those done below and were checked for nulls.  I used slight variations of this function to extract the numbers per month of each data source and the monthly average power output:\n",
    "\n",
    "def ENcounts(year):\n",
    "    \n",
    "    JanAvg = df[year+'-01-01':year+'-01-31'].ScramType1.count()\n",
    "    FebAvg = df[year+'-02-01':year+'-02-28'].ScramType1.count()\n",
    "    MarAvg = df[year+'-03-01':year+'-03-31'].ScramType1.count()\n",
    "    AprAvg = df[year+'-04-01':year+'-04-30'].ScramType1.count()\n",
    "    MayAvg = df[year+'-05-01':year+'-05-31'].ScramType1.count()\n",
    "    JunAvg = df[year+'-06-01':year+'-06-30'].ScramType1.count()\n",
    "    JulAvg = df[year+'-07-01':year+'-07-31'].ScramType1.count()\n",
    "    AugAvg = df[year+'-08-01':year+'-08-31'].ScramType1.count()\n",
    "    SepAvg = df[year+'-09-01':year+'-09-30'].ScramType1.count()\n",
    "    OctAvg = df[year+'-10-01':year+'-10-31'].ScramType1.count()\n",
    "    NovAvg = df[year+'-11-01':year+'-11-30'].ScramType1.count()\n",
    "    DecAvg = df[year+'-12-01':year+'-12-31'].ScramType1.count()\n",
    "    print('{} {} {} {} {} {} {} {} {} {} {} {}'.format(JanAvg, FebAvg, MarAvg, AprAvg, MayAvg, JunAvg, JulAvg, AugAvg, SepAvg, OctAvg, NovAvg, DecAvg))\n",
    "\n",
    "\n"
   ]
  },
  {
   "cell_type": "markdown",
   "metadata": {},
   "source": [
    "## Approach Overview\n",
    "\n",
    "I have previously cleaned and compiled data from 5 different datasources as described above and inputted the values into the excel spreadsheet read in below.  The datasources contain publicly available information and have been obtained from the NRC's data center.  \n",
    "\n",
    "I will evaluate this data to see if any of the variables for LERs, ENs, GTGs, or Green contain any correlation to be identified as target variables.  Then I will run a linear regression and evaluate the output.  "
   ]
  },
  {
   "cell_type": "markdown",
   "metadata": {},
   "source": [
    "## Exploratory Data Analysis"
   ]
  },
  {
   "cell_type": "code",
   "execution_count": 99,
   "metadata": {},
   "outputs": [],
   "source": [
    "df = pd.read_excel('PowerStatusProjData.xlsx') #read into cleaned excel file\n"
   ]
  },
  {
   "cell_type": "markdown",
   "metadata": {},
   "source": [
    "The variable Avg_Power is the average monthly power output across the entire nuclear fleet.\n",
    "The variable LER is the number of Licensee Event Reports submitted that month.\n",
    "The variable EN is the number of Event Notifications submitted that month.\n",
    "The variable GTG is Greater-Than-Green findings issued that month.\n",
    "The variable Green is Green findings issued that month.  "
   ]
  },
  {
   "cell_type": "code",
   "execution_count": 100,
   "metadata": {},
   "outputs": [
    {
     "data": {
      "text/html": [
       "<div>\n",
       "<style scoped>\n",
       "    .dataframe tbody tr th:only-of-type {\n",
       "        vertical-align: middle;\n",
       "    }\n",
       "\n",
       "    .dataframe tbody tr th {\n",
       "        vertical-align: top;\n",
       "    }\n",
       "\n",
       "    .dataframe thead th {\n",
       "        text-align: right;\n",
       "    }\n",
       "</style>\n",
       "<table border=\"1\" class=\"dataframe\">\n",
       "  <thead>\n",
       "    <tr style=\"text-align: right;\">\n",
       "      <th></th>\n",
       "      <th>Year</th>\n",
       "      <th>Avg_Power</th>\n",
       "      <th>LER</th>\n",
       "      <th>EN</th>\n",
       "      <th>GTG</th>\n",
       "      <th>Green</th>\n",
       "    </tr>\n",
       "  </thead>\n",
       "  <tbody>\n",
       "    <tr>\n",
       "      <td>0</td>\n",
       "      <td>2019-01-01</td>\n",
       "      <td>96.102000</td>\n",
       "      <td>10</td>\n",
       "      <td>25</td>\n",
       "      <td>0</td>\n",
       "      <td>2</td>\n",
       "    </tr>\n",
       "    <tr>\n",
       "      <td>1</td>\n",
       "      <td>2019-02-01</td>\n",
       "      <td>93.597000</td>\n",
       "      <td>10</td>\n",
       "      <td>12</td>\n",
       "      <td>0</td>\n",
       "      <td>6</td>\n",
       "    </tr>\n",
       "    <tr>\n",
       "      <td>2</td>\n",
       "      <td>2019-03-01</td>\n",
       "      <td>85.429974</td>\n",
       "      <td>21</td>\n",
       "      <td>29</td>\n",
       "      <td>0</td>\n",
       "      <td>82</td>\n",
       "    </tr>\n",
       "    <tr>\n",
       "      <td>3</td>\n",
       "      <td>2019-04-01</td>\n",
       "      <td>83.009524</td>\n",
       "      <td>18</td>\n",
       "      <td>32</td>\n",
       "      <td>0</td>\n",
       "      <td>7</td>\n",
       "    </tr>\n",
       "    <tr>\n",
       "      <td>4</td>\n",
       "      <td>2019-05-01</td>\n",
       "      <td>89.779460</td>\n",
       "      <td>23</td>\n",
       "      <td>33</td>\n",
       "      <td>0</td>\n",
       "      <td>6</td>\n",
       "    </tr>\n",
       "  </tbody>\n",
       "</table>\n",
       "</div>"
      ],
      "text/plain": [
       "        Year  Avg_Power  LER  EN  GTG  Green\n",
       "0 2019-01-01  96.102000   10  25    0      2\n",
       "1 2019-02-01  93.597000   10  12    0      6\n",
       "2 2019-03-01  85.429974   21  29    0     82\n",
       "3 2019-04-01  83.009524   18  32    0      7\n",
       "4 2019-05-01  89.779460   23  33    0      6"
      ]
     },
     "execution_count": 100,
     "metadata": {},
     "output_type": "execute_result"
    }
   ],
   "source": [
    "df.head()"
   ]
  },
  {
   "cell_type": "code",
   "execution_count": 101,
   "metadata": {},
   "outputs": [
    {
     "data": {
      "text/plain": [
       "(168, 6)"
      ]
     },
     "execution_count": 101,
     "metadata": {},
     "output_type": "execute_result"
    }
   ],
   "source": [
    "df.shape"
   ]
  },
  {
   "cell_type": "markdown",
   "metadata": {},
   "source": [
    "168 values per each category correspond to the number of months from 2006-2019.  There are no null values.  The Year was imported as datetime and the rest are appropriately typed as float or int."
   ]
  },
  {
   "cell_type": "code",
   "execution_count": 102,
   "metadata": {},
   "outputs": [
    {
     "name": "stdout",
     "output_type": "stream",
     "text": [
      "<class 'pandas.core.frame.DataFrame'>\n",
      "RangeIndex: 168 entries, 0 to 167\n",
      "Data columns (total 6 columns):\n",
      "Year         168 non-null datetime64[ns]\n",
      "Avg_Power    168 non-null float64\n",
      "LER          168 non-null int64\n",
      "EN           168 non-null int64\n",
      "GTG          168 non-null int64\n",
      "Green        168 non-null int64\n",
      "dtypes: datetime64[ns](1), float64(1), int64(4)\n",
      "memory usage: 8.0 KB\n"
     ]
    }
   ],
   "source": [
    "df.info() "
   ]
  },
  {
   "cell_type": "markdown",
   "metadata": {},
   "source": [
    "Summary statistics are provided below.  There is a range of 25% in the power output and the average power is 89.4%.  The average number of LERs per month are ~24 while the average for ENs is ~37."
   ]
  },
  {
   "cell_type": "code",
   "execution_count": 103,
   "metadata": {},
   "outputs": [
    {
     "data": {
      "text/html": [
       "<div>\n",
       "<style scoped>\n",
       "    .dataframe tbody tr th:only-of-type {\n",
       "        vertical-align: middle;\n",
       "    }\n",
       "\n",
       "    .dataframe tbody tr th {\n",
       "        vertical-align: top;\n",
       "    }\n",
       "\n",
       "    .dataframe thead th {\n",
       "        text-align: right;\n",
       "    }\n",
       "</style>\n",
       "<table border=\"1\" class=\"dataframe\">\n",
       "  <thead>\n",
       "    <tr style=\"text-align: right;\">\n",
       "      <th></th>\n",
       "      <th>Avg_Power</th>\n",
       "      <th>LER</th>\n",
       "      <th>EN</th>\n",
       "      <th>GTG</th>\n",
       "      <th>Green</th>\n",
       "    </tr>\n",
       "  </thead>\n",
       "  <tbody>\n",
       "    <tr>\n",
       "      <td>count</td>\n",
       "      <td>168.000000</td>\n",
       "      <td>168.000000</td>\n",
       "      <td>168.000000</td>\n",
       "      <td>168.000000</td>\n",
       "      <td>168.000000</td>\n",
       "    </tr>\n",
       "    <tr>\n",
       "      <td>mean</td>\n",
       "      <td>89.440357</td>\n",
       "      <td>24.315476</td>\n",
       "      <td>37.607143</td>\n",
       "      <td>1.017857</td>\n",
       "      <td>58.607143</td>\n",
       "    </tr>\n",
       "    <tr>\n",
       "      <td>std</td>\n",
       "      <td>6.517865</td>\n",
       "      <td>7.985121</td>\n",
       "      <td>12.765520</td>\n",
       "      <td>1.216027</td>\n",
       "      <td>61.235585</td>\n",
       "    </tr>\n",
       "    <tr>\n",
       "      <td>min</td>\n",
       "      <td>73.147546</td>\n",
       "      <td>7.000000</td>\n",
       "      <td>11.000000</td>\n",
       "      <td>0.000000</td>\n",
       "      <td>0.000000</td>\n",
       "    </tr>\n",
       "    <tr>\n",
       "      <td>25%</td>\n",
       "      <td>84.541667</td>\n",
       "      <td>18.000000</td>\n",
       "      <td>28.000000</td>\n",
       "      <td>0.000000</td>\n",
       "      <td>16.000000</td>\n",
       "    </tr>\n",
       "    <tr>\n",
       "      <td>50%</td>\n",
       "      <td>91.262144</td>\n",
       "      <td>24.000000</td>\n",
       "      <td>36.000000</td>\n",
       "      <td>1.000000</td>\n",
       "      <td>24.500000</td>\n",
       "    </tr>\n",
       "    <tr>\n",
       "      <td>75%</td>\n",
       "      <td>94.919231</td>\n",
       "      <td>30.000000</td>\n",
       "      <td>45.000000</td>\n",
       "      <td>2.000000</td>\n",
       "      <td>110.750000</td>\n",
       "    </tr>\n",
       "    <tr>\n",
       "      <td>max</td>\n",
       "      <td>98.825962</td>\n",
       "      <td>49.000000</td>\n",
       "      <td>79.000000</td>\n",
       "      <td>6.000000</td>\n",
       "      <td>215.000000</td>\n",
       "    </tr>\n",
       "  </tbody>\n",
       "</table>\n",
       "</div>"
      ],
      "text/plain": [
       "        Avg_Power         LER          EN         GTG       Green\n",
       "count  168.000000  168.000000  168.000000  168.000000  168.000000\n",
       "mean    89.440357   24.315476   37.607143    1.017857   58.607143\n",
       "std      6.517865    7.985121   12.765520    1.216027   61.235585\n",
       "min     73.147546    7.000000   11.000000    0.000000    0.000000\n",
       "25%     84.541667   18.000000   28.000000    0.000000   16.000000\n",
       "50%     91.262144   24.000000   36.000000    1.000000   24.500000\n",
       "75%     94.919231   30.000000   45.000000    2.000000  110.750000\n",
       "max     98.825962   49.000000   79.000000    6.000000  215.000000"
      ]
     },
     "execution_count": 103,
     "metadata": {},
     "output_type": "execute_result"
    }
   ],
   "source": [
    "df.describe()"
   ]
  },
  {
   "cell_type": "code",
   "execution_count": 104,
   "metadata": {},
   "outputs": [
    {
     "data": {
      "text/plain": [
       "25.678415119363393"
      ]
     },
     "execution_count": 104,
     "metadata": {},
     "output_type": "execute_result"
    }
   ],
   "source": [
    "df.Avg_Power.max()-df.Avg_Power.min() #the range is ~25%"
   ]
  },
  {
   "cell_type": "code",
   "execution_count": 105,
   "metadata": {},
   "outputs": [
    {
     "data": {
      "text/html": [
       "<div>\n",
       "<style scoped>\n",
       "    .dataframe tbody tr th:only-of-type {\n",
       "        vertical-align: middle;\n",
       "    }\n",
       "\n",
       "    .dataframe tbody tr th {\n",
       "        vertical-align: top;\n",
       "    }\n",
       "\n",
       "    .dataframe thead th {\n",
       "        text-align: right;\n",
       "    }\n",
       "</style>\n",
       "<table border=\"1\" class=\"dataframe\">\n",
       "  <thead>\n",
       "    <tr style=\"text-align: right;\">\n",
       "      <th></th>\n",
       "      <th>Avg_Power</th>\n",
       "      <th>LER</th>\n",
       "      <th>EN</th>\n",
       "      <th>GTG</th>\n",
       "      <th>Green</th>\n",
       "    </tr>\n",
       "    <tr>\n",
       "      <th>Year</th>\n",
       "      <th></th>\n",
       "      <th></th>\n",
       "      <th></th>\n",
       "      <th></th>\n",
       "      <th></th>\n",
       "    </tr>\n",
       "  </thead>\n",
       "  <tbody>\n",
       "    <tr>\n",
       "      <td>2019-01-01</td>\n",
       "      <td>96.102000</td>\n",
       "      <td>10</td>\n",
       "      <td>25</td>\n",
       "      <td>0</td>\n",
       "      <td>2</td>\n",
       "    </tr>\n",
       "    <tr>\n",
       "      <td>2019-02-01</td>\n",
       "      <td>93.597000</td>\n",
       "      <td>10</td>\n",
       "      <td>12</td>\n",
       "      <td>0</td>\n",
       "      <td>6</td>\n",
       "    </tr>\n",
       "    <tr>\n",
       "      <td>2019-03-01</td>\n",
       "      <td>85.429974</td>\n",
       "      <td>21</td>\n",
       "      <td>29</td>\n",
       "      <td>0</td>\n",
       "      <td>82</td>\n",
       "    </tr>\n",
       "    <tr>\n",
       "      <td>2019-04-01</td>\n",
       "      <td>83.009524</td>\n",
       "      <td>18</td>\n",
       "      <td>32</td>\n",
       "      <td>0</td>\n",
       "      <td>7</td>\n",
       "    </tr>\n",
       "    <tr>\n",
       "      <td>2019-05-01</td>\n",
       "      <td>89.779460</td>\n",
       "      <td>23</td>\n",
       "      <td>33</td>\n",
       "      <td>0</td>\n",
       "      <td>6</td>\n",
       "    </tr>\n",
       "    <tr>\n",
       "      <td>...</td>\n",
       "      <td>...</td>\n",
       "      <td>...</td>\n",
       "      <td>...</td>\n",
       "      <td>...</td>\n",
       "      <td>...</td>\n",
       "    </tr>\n",
       "    <tr>\n",
       "      <td>2006-08-01</td>\n",
       "      <td>96.984936</td>\n",
       "      <td>22</td>\n",
       "      <td>38</td>\n",
       "      <td>6</td>\n",
       "      <td>14</td>\n",
       "    </tr>\n",
       "    <tr>\n",
       "      <td>2006-09-01</td>\n",
       "      <td>91.726459</td>\n",
       "      <td>17</td>\n",
       "      <td>20</td>\n",
       "      <td>0</td>\n",
       "      <td>108</td>\n",
       "    </tr>\n",
       "    <tr>\n",
       "      <td>2006-10-01</td>\n",
       "      <td>76.092628</td>\n",
       "      <td>40</td>\n",
       "      <td>54</td>\n",
       "      <td>1</td>\n",
       "      <td>22</td>\n",
       "    </tr>\n",
       "    <tr>\n",
       "      <td>2006-11-01</td>\n",
       "      <td>82.178050</td>\n",
       "      <td>33</td>\n",
       "      <td>34</td>\n",
       "      <td>3</td>\n",
       "      <td>34</td>\n",
       "    </tr>\n",
       "    <tr>\n",
       "      <td>2006-12-01</td>\n",
       "      <td>92.569231</td>\n",
       "      <td>24</td>\n",
       "      <td>22</td>\n",
       "      <td>2</td>\n",
       "      <td>178</td>\n",
       "    </tr>\n",
       "  </tbody>\n",
       "</table>\n",
       "<p>168 rows × 5 columns</p>\n",
       "</div>"
      ],
      "text/plain": [
       "            Avg_Power  LER  EN  GTG  Green\n",
       "Year                                      \n",
       "2019-01-01  96.102000   10  25    0      2\n",
       "2019-02-01  93.597000   10  12    0      6\n",
       "2019-03-01  85.429974   21  29    0     82\n",
       "2019-04-01  83.009524   18  32    0      7\n",
       "2019-05-01  89.779460   23  33    0      6\n",
       "...               ...  ...  ..  ...    ...\n",
       "2006-08-01  96.984936   22  38    6     14\n",
       "2006-09-01  91.726459   17  20    0    108\n",
       "2006-10-01  76.092628   40  54    1     22\n",
       "2006-11-01  82.178050   33  34    3     34\n",
       "2006-12-01  92.569231   24  22    2    178\n",
       "\n",
       "[168 rows x 5 columns]"
      ]
     },
     "execution_count": 105,
     "metadata": {},
     "output_type": "execute_result"
    }
   ],
   "source": [
    "df = df.set_index(['Year'])\n",
    "df"
   ]
  },
  {
   "cell_type": "code",
   "execution_count": 106,
   "metadata": {},
   "outputs": [
    {
     "data": {
      "image/png": "[encoded data removed]",
      "text/plain": [
       "<Figure size 1440x720 with 1 Axes>"
      ]
     },
     "metadata": {
      "needs_background": "light"
     },
     "output_type": "display_data"
    }
   ],
   "source": [
    "powerplot = df.Avg_Power.plot(x = 'Year', y= 'Avg_Power', kind = 'bar', figsize = (20,10))\n",
    "powerplot.set_xlabel(\"Month and Year\")\n",
    "powerplot.set_ylabel(\"Average Power Percentage Output\")\n",
    "powerplot.set_title(\"Average Monthly Power Outputs (2006-2019)\");"
   ]
  },
  {
   "cell_type": "code",
   "execution_count": 107,
   "metadata": {},
   "outputs": [
    {
     "data": {
      "image/png": "[encoded data removed]",
      "text/plain": [
       "<Figure size 1440x720 with 1 Axes>"
      ]
     },
     "metadata": {
      "needs_background": "light"
     },
     "output_type": "display_data"
    }
   ],
   "source": [
    "powerplot = df.Avg_Power.plot(x = 'Year', y= 'LER', kind = 'bar', figsize = (20,10))\n",
    "powerplot.set_xlabel(\"Month and Year\")\n",
    "powerplot.set_ylabel(\"Number of LERs\")\n",
    "powerplot.set_title(\"LER Outputs (2006-2019)\");"
   ]
  },
  {
   "cell_type": "code",
   "execution_count": 108,
   "metadata": {},
   "outputs": [
    {
     "data": {
      "image/png": "[encoded data removed]",
      "text/plain": [
       "<Figure size 432x288 with 2 Axes>"
      ]
     },
     "metadata": {
      "needs_background": "light"
     },
     "output_type": "display_data"
    }
   ],
   "source": [
    "sns.heatmap(df.corr());"
   ]
  },
  {
   "cell_type": "markdown",
   "metadata": {},
   "source": [
    "LERs and ENs have high correlation together, which is expected, as there is some repetition in what they submit to the NRC.  LER has the strongest negative correlation with Avg_Power, although it is not very strong.  Next is EN.  GTG barely has any correlation and is likely 0.  Green has a slightly higher correlation.  \n",
    "\n",
    "Correlations are weak with Avg_Power."
   ]
  },
  {
   "cell_type": "markdown",
   "metadata": {},
   "source": [
    "## Model Building "
   ]
  },
  {
   "cell_type": "code",
   "execution_count": null,
   "metadata": {},
   "outputs": [],
   "source": []
  },
  {
   "cell_type": "code",
   "execution_count": 109,
   "metadata": {},
   "outputs": [],
   "source": [
    "feature_cols = ['LER', 'EN', 'GTG', 'Green'] #going to start out using all columns, then I will remove GTG\n",
    "X = df[feature_cols]\n",
    "\n",
    "y = df.Avg_Power"
   ]
  },
  {
   "cell_type": "code",
   "execution_count": 110,
   "metadata": {},
   "outputs": [
    {
     "data": {
      "image/png": "[encoded data removed]",
      "text/plain": [
       "<Figure size 720x180 with 4 Axes>"
      ]
     },
     "metadata": {
      "needs_background": "light"
     },
     "output_type": "display_data"
    }
   ],
   "source": [
    "sns.pairplot(df,\n",
    "            x_vars=feature_cols,\n",
    "            y_vars = 'Avg_Power',\n",
    "            kind = 'reg');"
   ]
  },
  {
   "cell_type": "code",
   "execution_count": 111,
   "metadata": {},
   "outputs": [
    {
     "name": "stdout",
     "output_type": "stream",
     "text": [
      "y intercept is:100.75462755795033\n",
      "slope coeff is:[-0.39126475 -0.07759945  0.27182361  0.01435207]\n"
     ]
    }
   ],
   "source": [
    "#instantiate model\n",
    "linreg = LinearRegression()\n",
    "#fit to selected variables\n",
    "linreg.fit(X, y)\n",
    "\n",
    "print('y intercept is:{}'.format(linreg.intercept_))\n",
    "print('slope coeff is:{}'.format(linreg.coef_))\n"
   ]
  },
  {
   "cell_type": "markdown",
   "metadata": {},
   "source": [
    "### 80/20 Train Test Split - Better than 70/30 and 90/10 "
   ]
  },
  {
   "cell_type": "markdown",
   "metadata": {},
   "source": [
    "70/30"
   ]
  },
  {
   "cell_type": "code",
   "execution_count": 112,
   "metadata": {},
   "outputs": [
    {
     "name": "stdout",
     "output_type": "stream",
     "text": [
      "y intercept is:100.75462755795033\n",
      "slope coeff is:[-0.39126475 -0.07759945  0.27182361  0.01435207]\n",
      "root mean squared error is:  5.4504239085242645\n",
      "mean squared error is:  29.707120782612918\n",
      "r2 score is: 0.08251481927023607\n"
     ]
    }
   ],
   "source": [
    "linreg = LinearRegression()\n",
    "linreg.fit(X, y)\n",
    "\n",
    "print('y intercept is:{}'.format(linreg.intercept_))\n",
    "print('slope coeff is:{}'.format(linreg.coef_))\n",
    "#70/30 tts\n",
    "X_train, X_test, y_train, y_test = train_test_split(X, y, test_size=0.30, random_state=60)\n",
    "   \n",
    "linreg = LinearRegression()\n",
    "linreg.fit(X_train, y_train)\n",
    "y_pred = linreg.predict(X_test)\n",
    "   \n",
    "print(\"root mean squared error is: \", np.sqrt(mean_squared_error(y_test, y_pred)))\n",
    "print(\"mean squared error is: \", mean_squared_error(y_test, y_pred))\n",
    "print('r2 score is:', linreg.score(X_test, y_test))"
   ]
  },
  {
   "cell_type": "markdown",
   "metadata": {},
   "source": [
    "90/10"
   ]
  },
  {
   "cell_type": "code",
   "execution_count": 113,
   "metadata": {},
   "outputs": [
    {
     "name": "stdout",
     "output_type": "stream",
     "text": [
      "y intercept is:100.75462755795033\n",
      "slope coeff is:[-0.39126475 -0.07759945  0.27182361  0.01435207]\n",
      "root mean squared error is:  6.010641719538477\n",
      "mean squared error is:  36.12781388065647\n",
      "r2 score is: -0.057744891251453774\n"
     ]
    }
   ],
   "source": [
    "linreg = LinearRegression()\n",
    "linreg.fit(X, y)\n",
    "\n",
    "print('y intercept is:{}'.format(linreg.intercept_))\n",
    "print('slope coeff is:{}'.format(linreg.coef_))\n",
    "#70/30 tts\n",
    "X_train, X_test, y_train, y_test = train_test_split(X, y, test_size=0.10, random_state=60)\n",
    "   \n",
    "linreg = LinearRegression()\n",
    "linreg.fit(X_train, y_train)\n",
    "y_pred = linreg.predict(X_test)\n",
    "   \n",
    "print(\"root mean squared error is: \", np.sqrt(mean_squared_error(y_test, y_pred)))\n",
    "print(\"mean squared error is: \", mean_squared_error(y_test, y_pred))\n",
    "print('r2 score is:', linreg.score(X_test, y_test))"
   ]
  },
  {
   "cell_type": "markdown",
   "metadata": {},
   "source": [
    "80/20"
   ]
  },
  {
   "cell_type": "code",
   "execution_count": 63,
   "metadata": {},
   "outputs": [],
   "source": [
    "#split the data into 80% training and 20% testing\n",
    "X_train, X_test, y_train, y_test = train_test_split(X, y, test_size=0.20, random_state=60)\n",
    "#instantiate linear regression model   \n",
    "linreg = LinearRegression()\n",
    "#fit training data to model using training data\n",
    "linreg.fit(X_train, y_train)\n",
    "#perform prediction using test data\n",
    "y_pred = linreg.predict(X_test)"
   ]
  },
  {
   "cell_type": "markdown",
   "metadata": {},
   "source": [
    "###  Evaluate Model"
   ]
  },
  {
   "cell_type": "code",
   "execution_count": 64,
   "metadata": {},
   "outputs": [
    {
     "name": "stdout",
     "output_type": "stream",
     "text": [
      "root mean squared error is:  5.377267245109486\n",
      "mean squared error is:  28.915003025327362\n",
      "r2 score is: 0.07438157520121447\n"
     ]
    }
   ],
   "source": [
    "#report the scores   \n",
    "print(\"root mean squared error is: \", np.sqrt(mean_squared_error(y_test, y_pred)))\n",
    "print(\"mean squared error is: \", mean_squared_error(y_test, y_pred))\n",
    "print('r2 score is:', linreg.score(X_test, y_test))"
   ]
  },
  {
   "cell_type": "code",
   "execution_count": 65,
   "metadata": {},
   "outputs": [
    {
     "data": {
      "text/html": [
       "<div>\n",
       "<style scoped>\n",
       "    .dataframe tbody tr th:only-of-type {\n",
       "        vertical-align: middle;\n",
       "    }\n",
       "\n",
       "    .dataframe tbody tr th {\n",
       "        vertical-align: top;\n",
       "    }\n",
       "\n",
       "    .dataframe thead th {\n",
       "        text-align: right;\n",
       "    }\n",
       "</style>\n",
       "<table border=\"1\" class=\"dataframe\">\n",
       "  <thead>\n",
       "    <tr style=\"text-align: right;\">\n",
       "      <th></th>\n",
       "      <th>Actual</th>\n",
       "      <th>Predicted</th>\n",
       "    </tr>\n",
       "    <tr>\n",
       "      <th>Year</th>\n",
       "      <th></th>\n",
       "      <th></th>\n",
       "    </tr>\n",
       "  </thead>\n",
       "  <tbody>\n",
       "    <tr>\n",
       "      <td>2018-04-01</td>\n",
       "      <td>81.826599</td>\n",
       "      <td>86.389623</td>\n",
       "    </tr>\n",
       "    <tr>\n",
       "      <td>2018-10-01</td>\n",
       "      <td>78.011404</td>\n",
       "      <td>87.986932</td>\n",
       "    </tr>\n",
       "    <tr>\n",
       "      <td>2014-03-01</td>\n",
       "      <td>83.374333</td>\n",
       "      <td>80.363625</td>\n",
       "    </tr>\n",
       "    <tr>\n",
       "      <td>2007-05-01</td>\n",
       "      <td>85.859936</td>\n",
       "      <td>90.180384</td>\n",
       "    </tr>\n",
       "    <tr>\n",
       "      <td>2015-05-01</td>\n",
       "      <td>87.420202</td>\n",
       "      <td>86.455922</td>\n",
       "    </tr>\n",
       "    <tr>\n",
       "      <td>2015-09-01</td>\n",
       "      <td>93.369558</td>\n",
       "      <td>90.936533</td>\n",
       "    </tr>\n",
       "    <tr>\n",
       "      <td>2010-05-01</td>\n",
       "      <td>87.145192</td>\n",
       "      <td>86.456237</td>\n",
       "    </tr>\n",
       "    <tr>\n",
       "      <td>2006-11-01</td>\n",
       "      <td>82.178050</td>\n",
       "      <td>86.690554</td>\n",
       "    </tr>\n",
       "    <tr>\n",
       "      <td>2008-04-01</td>\n",
       "      <td>78.190650</td>\n",
       "      <td>89.359968</td>\n",
       "    </tr>\n",
       "    <tr>\n",
       "      <td>2019-04-01</td>\n",
       "      <td>83.009524</td>\n",
       "      <td>91.555074</td>\n",
       "    </tr>\n",
       "    <tr>\n",
       "      <td>2017-10-01</td>\n",
       "      <td>87.811448</td>\n",
       "      <td>92.772104</td>\n",
       "    </tr>\n",
       "    <tr>\n",
       "      <td>2007-09-01</td>\n",
       "      <td>92.870690</td>\n",
       "      <td>92.834622</td>\n",
       "    </tr>\n",
       "    <tr>\n",
       "      <td>2006-03-01</td>\n",
       "      <td>84.333974</td>\n",
       "      <td>86.337446</td>\n",
       "    </tr>\n",
       "    <tr>\n",
       "      <td>2007-04-01</td>\n",
       "      <td>78.351459</td>\n",
       "      <td>87.570254</td>\n",
       "    </tr>\n",
       "    <tr>\n",
       "      <td>2010-02-01</td>\n",
       "      <td>93.836538</td>\n",
       "      <td>88.071614</td>\n",
       "    </tr>\n",
       "    <tr>\n",
       "      <td>2009-07-01</td>\n",
       "      <td>96.487500</td>\n",
       "      <td>92.259798</td>\n",
       "    </tr>\n",
       "    <tr>\n",
       "      <td>2010-09-01</td>\n",
       "      <td>94.341512</td>\n",
       "      <td>87.096064</td>\n",
       "    </tr>\n",
       "    <tr>\n",
       "      <td>2009-09-01</td>\n",
       "      <td>89.881963</td>\n",
       "      <td>86.849357</td>\n",
       "    </tr>\n",
       "    <tr>\n",
       "      <td>2015-06-01</td>\n",
       "      <td>95.330895</td>\n",
       "      <td>89.524785</td>\n",
       "    </tr>\n",
       "    <tr>\n",
       "      <td>2014-09-01</td>\n",
       "      <td>93.782414</td>\n",
       "      <td>96.215382</td>\n",
       "    </tr>\n",
       "    <tr>\n",
       "      <td>2013-07-01</td>\n",
       "      <td>93.245568</td>\n",
       "      <td>95.176157</td>\n",
       "    </tr>\n",
       "    <tr>\n",
       "      <td>2011-09-01</td>\n",
       "      <td>90.481432</td>\n",
       "      <td>89.765235</td>\n",
       "    </tr>\n",
       "    <tr>\n",
       "      <td>2013-08-01</td>\n",
       "      <td>96.284333</td>\n",
       "      <td>88.848035</td>\n",
       "    </tr>\n",
       "    <tr>\n",
       "      <td>2009-05-01</td>\n",
       "      <td>85.831410</td>\n",
       "      <td>86.896001</td>\n",
       "    </tr>\n",
       "    <tr>\n",
       "      <td>2018-12-01</td>\n",
       "      <td>93.532747</td>\n",
       "      <td>95.663000</td>\n",
       "    </tr>\n",
       "    <tr>\n",
       "      <td>2016-02-01</td>\n",
       "      <td>91.927778</td>\n",
       "      <td>89.439704</td>\n",
       "    </tr>\n",
       "    <tr>\n",
       "      <td>2019-05-01</td>\n",
       "      <td>89.779460</td>\n",
       "      <td>89.475838</td>\n",
       "    </tr>\n",
       "    <tr>\n",
       "      <td>2011-12-01</td>\n",
       "      <td>92.023397</td>\n",
       "      <td>90.814055</td>\n",
       "    </tr>\n",
       "    <tr>\n",
       "      <td>2010-08-01</td>\n",
       "      <td>95.717949</td>\n",
       "      <td>87.902458</td>\n",
       "    </tr>\n",
       "    <tr>\n",
       "      <td>2010-06-01</td>\n",
       "      <td>93.203249</td>\n",
       "      <td>88.722622</td>\n",
       "    </tr>\n",
       "    <tr>\n",
       "      <td>2013-10-01</td>\n",
       "      <td>84.091667</td>\n",
       "      <td>76.541356</td>\n",
       "    </tr>\n",
       "    <tr>\n",
       "      <td>2014-08-01</td>\n",
       "      <td>97.134667</td>\n",
       "      <td>88.565451</td>\n",
       "    </tr>\n",
       "    <tr>\n",
       "      <td>2007-03-01</td>\n",
       "      <td>84.476282</td>\n",
       "      <td>89.970447</td>\n",
       "    </tr>\n",
       "    <tr>\n",
       "      <td>2012-07-01</td>\n",
       "      <td>91.262179</td>\n",
       "      <td>85.895442</td>\n",
       "    </tr>\n",
       "  </tbody>\n",
       "</table>\n",
       "</div>"
      ],
      "text/plain": [
       "               Actual  Predicted\n",
       "Year                            \n",
       "2018-04-01  81.826599  86.389623\n",
       "2018-10-01  78.011404  87.986932\n",
       "2014-03-01  83.374333  80.363625\n",
       "2007-05-01  85.859936  90.180384\n",
       "2015-05-01  87.420202  86.455922\n",
       "2015-09-01  93.369558  90.936533\n",
       "2010-05-01  87.145192  86.456237\n",
       "2006-11-01  82.178050  86.690554\n",
       "2008-04-01  78.190650  89.359968\n",
       "2019-04-01  83.009524  91.555074\n",
       "2017-10-01  87.811448  92.772104\n",
       "2007-09-01  92.870690  92.834622\n",
       "2006-03-01  84.333974  86.337446\n",
       "2007-04-01  78.351459  87.570254\n",
       "2010-02-01  93.836538  88.071614\n",
       "2009-07-01  96.487500  92.259798\n",
       "2010-09-01  94.341512  87.096064\n",
       "2009-09-01  89.881963  86.849357\n",
       "2015-06-01  95.330895  89.524785\n",
       "2014-09-01  93.782414  96.215382\n",
       "2013-07-01  93.245568  95.176157\n",
       "2011-09-01  90.481432  89.765235\n",
       "2013-08-01  96.284333  88.848035\n",
       "2009-05-01  85.831410  86.896001\n",
       "2018-12-01  93.532747  95.663000\n",
       "2016-02-01  91.927778  89.439704\n",
       "2019-05-01  89.779460  89.475838\n",
       "2011-12-01  92.023397  90.814055\n",
       "2010-08-01  95.717949  87.902458\n",
       "2010-06-01  93.203249  88.722622\n",
       "2013-10-01  84.091667  76.541356\n",
       "2014-08-01  97.134667  88.565451\n",
       "2007-03-01  84.476282  89.970447\n",
       "2012-07-01  91.262179  85.895442"
      ]
     },
     "execution_count": 65,
     "metadata": {},
     "output_type": "execute_result"
    }
   ],
   "source": [
    "#compare the actual values to predicted values\n",
    "df2 = pd.DataFrame({'Actual': y_test, 'Predicted': y_pred})\n",
    "df2"
   ]
  },
  {
   "cell_type": "code",
   "execution_count": 66,
   "metadata": {},
   "outputs": [
    {
     "data": {
      "image/png": "[encoded data removed]",
      "text/plain": [
       "<Figure size 432x288 with 1 Axes>"
      ]
     },
     "metadata": {
      "needs_background": "light"
     },
     "output_type": "display_data"
    }
   ],
   "source": [
    "#Plot the residuals\n",
    "sns.residplot(y_test, y_pred, data = df)\n",
    "plt.xlabel('Fitted Values')\n",
    "plt.ylabel('Residuals')\n",
    "plt.title('Residual Plot');"
   ]
  },
  {
   "cell_type": "markdown",
   "metadata": {},
   "source": [
    "Remove the GTG variable from the feature_cols as it had no impact"
   ]
  },
  {
   "cell_type": "code",
   "execution_count": 67,
   "metadata": {},
   "outputs": [],
   "source": [
    "#Removing GTG from the feature_cols\n",
    "feature_cols = ['LER', 'EN', 'Green'] \n",
    "X = df[feature_cols]\n",
    "\n",
    "y = df.Avg_Power"
   ]
  },
  {
   "cell_type": "code",
   "execution_count": 68,
   "metadata": {},
   "outputs": [
    {
     "name": "stdout",
     "output_type": "stream",
     "text": [
      "y intercept is:100.71680673144856\n",
      "slope coeff is:[-0.39047235 -0.07182969  0.01568717]\n",
      "root mean squared error is:  5.371399034856913\n",
      "mean squared error is:  28.851927591661777\n",
      "r2 score is: 0.07640072711006596\n"
     ]
    }
   ],
   "source": [
    "linreg = LinearRegression()\n",
    "linreg.fit(X, y)\n",
    "\n",
    "print('y intercept is:{}'.format(linreg.intercept_))\n",
    "print('slope coeff is:{}'.format(linreg.coef_))\n",
    "#70/30 tts\n",
    "X_train, X_test, y_train, y_test = train_test_split(X, y, test_size=0.20, random_state=60)\n",
    "   \n",
    "linreg = LinearRegression()\n",
    "linreg.fit(X_train, y_train)\n",
    "y_pred = linreg.predict(X_test)\n",
    "   \n",
    "print(\"root mean squared error is: \", np.sqrt(mean_squared_error(y_test, y_pred)))\n",
    "print(\"mean squared error is: \", mean_squared_error(y_test, y_pred))\n",
    "print('r2 score is:', linreg.score(X_test, y_test))"
   ]
  },
  {
   "cell_type": "markdown",
   "metadata": {},
   "source": [
    "Including or removing GTG makes no difference"
   ]
  },
  {
   "cell_type": "markdown",
   "metadata": {},
   "source": [
    "Test only with the 'EN' variable"
   ]
  },
  {
   "cell_type": "code",
   "execution_count": 69,
   "metadata": {},
   "outputs": [],
   "source": [
    "#test only with EN\n",
    "feature_cols = ['EN'] \n",
    "X = df[feature_cols]\n",
    "\n",
    "y = df.Avg_Power"
   ]
  },
  {
   "cell_type": "code",
   "execution_count": 70,
   "metadata": {},
   "outputs": [
    {
     "name": "stdout",
     "output_type": "stream",
     "text": [
      "y intercept is:97.75005818767468\n",
      "slope coeff is:[-0.22096073]\n",
      "root mean squared error is:  6.038298438569198\n",
      "mean squared error is:  36.461048033227215\n",
      "r2 score is: -0.16718015963778532\n"
     ]
    }
   ],
   "source": [
    "linreg = LinearRegression()\n",
    "linreg.fit(X, y)\n",
    "\n",
    "print('y intercept is:{}'.format(linreg.intercept_))\n",
    "print('slope coeff is:{}'.format(linreg.coef_))\n",
    "#70/30 tts\n",
    "X_train, X_test, y_train, y_test = train_test_split(X, y, test_size=0.20, random_state=60)\n",
    "   \n",
    "linreg = LinearRegression()\n",
    "linreg.fit(X_train, y_train)\n",
    "y_pred = linreg.predict(X_test)\n",
    "   \n",
    "print(\"root mean squared error is: \", np.sqrt(mean_squared_error(y_test, y_pred)))\n",
    "print(\"mean squared error is: \", mean_squared_error(y_test, y_pred))\n",
    "print('r2 score is:', linreg.score(X_test, y_test))"
   ]
  },
  {
   "cell_type": "code",
   "execution_count": 73,
   "metadata": {},
   "outputs": [],
   "source": [
    "feature_cols = ['LER'] \n",
    "X = df[feature_cols]\n",
    "\n",
    "y = df.Avg_Power"
   ]
  },
  {
   "cell_type": "code",
   "execution_count": 74,
   "metadata": {},
   "outputs": [
    {
     "name": "stdout",
     "output_type": "stream",
     "text": [
      "root mean squared error is:  5.366928480546119\n",
      "mean squared error is:  28.803921315297075\n",
      "r2 score is: 0.07793748966444747\n"
     ]
    }
   ],
   "source": [
    "X_train, X_test, y_train, y_test = train_test_split(X, y, test_size=0.20, random_state=60)\n",
    "   \n",
    "linreg = LinearRegression()\n",
    "linreg.fit(X_train, y_train)\n",
    "y_pred = linreg.predict(X_test)\n",
    "   \n",
    "print(\"root mean squared error is: \", np.sqrt(mean_squared_error(y_test, y_pred)))\n",
    "print(\"mean squared error is: \", mean_squared_error(y_test, y_pred))\n",
    "print('r2 score is:', linreg.score(X_test, y_test))"
   ]
  },
  {
   "cell_type": "markdown",
   "metadata": {},
   "source": [
    "Using only LER, we can predict slightly better than including EN, GTG, and Green.  This makes some sense because whenever there is a scram (sudden decrease in power), the plant has to submit an LER.  But ENs can include\n",
    "lots of items that do not result in any significant decrease in power."
   ]
  },
  {
   "cell_type": "markdown",
   "metadata": {},
   "source": [
    "## Alternate Approach "
   ]
  },
  {
   "cell_type": "markdown",
   "metadata": {},
   "source": [
    "Alternatively, I attempted to look at this information per each nuclear plant to see if it is possible to predict the power output for a specific plant.  \n",
    "\n",
    "Challenges: There is not enough data per month, or even quarter, to be able to make an accurate prediction.  In fact, per year, at many plants the average number of the different events were under 10.  \n",
    "\n",
    "Therefore, I decided to look at the predicting the annual average power output of a specific plant relative to the number of LERs, ENs, GTGs, and Greens that year.  I selected three plants: Waterford, Seabrook, and Harris."
   ]
  },
  {
   "cell_type": "code",
   "execution_count": 83,
   "metadata": {},
   "outputs": [],
   "source": [
    "df_alt = pd.read_excel('PowerStatusProjData_2.xlsx')"
   ]
  },
  {
   "cell_type": "code",
   "execution_count": 84,
   "metadata": {},
   "outputs": [
    {
     "data": {
      "text/html": [
       "<div>\n",
       "<style scoped>\n",
       "    .dataframe tbody tr th:only-of-type {\n",
       "        vertical-align: middle;\n",
       "    }\n",
       "\n",
       "    .dataframe tbody tr th {\n",
       "        vertical-align: top;\n",
       "    }\n",
       "\n",
       "    .dataframe thead th {\n",
       "        text-align: right;\n",
       "    }\n",
       "</style>\n",
       "<table border=\"1\" class=\"dataframe\">\n",
       "  <thead>\n",
       "    <tr style=\"text-align: right;\">\n",
       "      <th></th>\n",
       "      <th>Site</th>\n",
       "      <th>Year</th>\n",
       "      <th>Green</th>\n",
       "      <th>GTG</th>\n",
       "      <th>EN</th>\n",
       "      <th>LER</th>\n",
       "      <th>PowerAvg</th>\n",
       "    </tr>\n",
       "  </thead>\n",
       "  <tbody>\n",
       "    <tr>\n",
       "      <td>0</td>\n",
       "      <td>Waterford</td>\n",
       "      <td>2006</td>\n",
       "      <td>6</td>\n",
       "      <td>0</td>\n",
       "      <td>3</td>\n",
       "      <td>1</td>\n",
       "      <td>90.85</td>\n",
       "    </tr>\n",
       "    <tr>\n",
       "      <td>1</td>\n",
       "      <td>Waterford</td>\n",
       "      <td>2007</td>\n",
       "      <td>16</td>\n",
       "      <td>0</td>\n",
       "      <td>0</td>\n",
       "      <td>0</td>\n",
       "      <td>95.97</td>\n",
       "    </tr>\n",
       "    <tr>\n",
       "      <td>2</td>\n",
       "      <td>Waterford</td>\n",
       "      <td>2008</td>\n",
       "      <td>14</td>\n",
       "      <td>0</td>\n",
       "      <td>1</td>\n",
       "      <td>6</td>\n",
       "      <td>86.97</td>\n",
       "    </tr>\n",
       "    <tr>\n",
       "      <td>3</td>\n",
       "      <td>Waterford</td>\n",
       "      <td>2009</td>\n",
       "      <td>18</td>\n",
       "      <td>1</td>\n",
       "      <td>3</td>\n",
       "      <td>3</td>\n",
       "      <td>87.14</td>\n",
       "    </tr>\n",
       "    <tr>\n",
       "      <td>4</td>\n",
       "      <td>Waterford</td>\n",
       "      <td>2010</td>\n",
       "      <td>7</td>\n",
       "      <td>0</td>\n",
       "      <td>5</td>\n",
       "      <td>4</td>\n",
       "      <td>99.98</td>\n",
       "    </tr>\n",
       "  </tbody>\n",
       "</table>\n",
       "</div>"
      ],
      "text/plain": [
       "        Site  Year  Green  GTG  EN  LER  PowerAvg\n",
       "0  Waterford  2006      6    0   3    1     90.85\n",
       "1  Waterford  2007     16    0   0    0     95.97\n",
       "2  Waterford  2008     14    0   1    6     86.97\n",
       "3  Waterford  2009     18    1   3    3     87.14\n",
       "4  Waterford  2010      7    0   5    4     99.98"
      ]
     },
     "execution_count": 84,
     "metadata": {},
     "output_type": "execute_result"
    }
   ],
   "source": [
    "df_alt.head()"
   ]
  },
  {
   "cell_type": "code",
   "execution_count": 85,
   "metadata": {},
   "outputs": [
    {
     "name": "stdout",
     "output_type": "stream",
     "text": [
      "<class 'pandas.core.frame.DataFrame'>\n",
      "RangeIndex: 42 entries, 0 to 41\n",
      "Data columns (total 7 columns):\n",
      "Site        42 non-null object\n",
      "Year        42 non-null int64\n",
      "Green       42 non-null int64\n",
      "GTG         42 non-null int64\n",
      "EN          42 non-null int64\n",
      "LER         42 non-null int64\n",
      "PowerAvg    42 non-null float64\n",
      "dtypes: float64(1), int64(5), object(1)\n",
      "memory usage: 2.4+ KB\n"
     ]
    }
   ],
   "source": [
    "df_alt.info()"
   ]
  },
  {
   "cell_type": "code",
   "execution_count": 86,
   "metadata": {},
   "outputs": [
    {
     "data": {
      "text/html": [
       "<div>\n",
       "<style scoped>\n",
       "    .dataframe tbody tr th:only-of-type {\n",
       "        vertical-align: middle;\n",
       "    }\n",
       "\n",
       "    .dataframe tbody tr th {\n",
       "        vertical-align: top;\n",
       "    }\n",
       "\n",
       "    .dataframe thead th {\n",
       "        text-align: right;\n",
       "    }\n",
       "</style>\n",
       "<table border=\"1\" class=\"dataframe\">\n",
       "  <thead>\n",
       "    <tr style=\"text-align: right;\">\n",
       "      <th></th>\n",
       "      <th>Year</th>\n",
       "      <th>Green</th>\n",
       "      <th>GTG</th>\n",
       "      <th>EN</th>\n",
       "      <th>LER</th>\n",
       "      <th>PowerAvg</th>\n",
       "    </tr>\n",
       "  </thead>\n",
       "  <tbody>\n",
       "    <tr>\n",
       "      <td>count</td>\n",
       "      <td>42.000000</td>\n",
       "      <td>42.000000</td>\n",
       "      <td>42.000000</td>\n",
       "      <td>42.000000</td>\n",
       "      <td>42.000000</td>\n",
       "      <td>42.000000</td>\n",
       "    </tr>\n",
       "    <tr>\n",
       "      <td>mean</td>\n",
       "      <td>2012.500000</td>\n",
       "      <td>8.309524</td>\n",
       "      <td>0.166667</td>\n",
       "      <td>4.880952</td>\n",
       "      <td>3.071429</td>\n",
       "      <td>90.151429</td>\n",
       "    </tr>\n",
       "    <tr>\n",
       "      <td>std</td>\n",
       "      <td>4.079993</td>\n",
       "      <td>5.598293</td>\n",
       "      <td>0.437101</td>\n",
       "      <td>6.169170</td>\n",
       "      <td>1.904972</td>\n",
       "      <td>7.318146</td>\n",
       "    </tr>\n",
       "    <tr>\n",
       "      <td>min</td>\n",
       "      <td>2006.000000</td>\n",
       "      <td>0.000000</td>\n",
       "      <td>0.000000</td>\n",
       "      <td>0.000000</td>\n",
       "      <td>0.000000</td>\n",
       "      <td>73.830000</td>\n",
       "    </tr>\n",
       "    <tr>\n",
       "      <td>25%</td>\n",
       "      <td>2009.000000</td>\n",
       "      <td>5.000000</td>\n",
       "      <td>0.000000</td>\n",
       "      <td>2.000000</td>\n",
       "      <td>2.000000</td>\n",
       "      <td>86.940000</td>\n",
       "    </tr>\n",
       "    <tr>\n",
       "      <td>50%</td>\n",
       "      <td>2012.500000</td>\n",
       "      <td>7.000000</td>\n",
       "      <td>0.000000</td>\n",
       "      <td>4.000000</td>\n",
       "      <td>3.000000</td>\n",
       "      <td>89.870000</td>\n",
       "    </tr>\n",
       "    <tr>\n",
       "      <td>75%</td>\n",
       "      <td>2016.000000</td>\n",
       "      <td>10.750000</td>\n",
       "      <td>0.000000</td>\n",
       "      <td>5.000000</td>\n",
       "      <td>4.000000</td>\n",
       "      <td>97.015000</td>\n",
       "    </tr>\n",
       "    <tr>\n",
       "      <td>max</td>\n",
       "      <td>2019.000000</td>\n",
       "      <td>24.000000</td>\n",
       "      <td>2.000000</td>\n",
       "      <td>35.000000</td>\n",
       "      <td>7.000000</td>\n",
       "      <td>100.000000</td>\n",
       "    </tr>\n",
       "  </tbody>\n",
       "</table>\n",
       "</div>"
      ],
      "text/plain": [
       "              Year      Green        GTG         EN        LER    PowerAvg\n",
       "count    42.000000  42.000000  42.000000  42.000000  42.000000   42.000000\n",
       "mean   2012.500000   8.309524   0.166667   4.880952   3.071429   90.151429\n",
       "std       4.079993   5.598293   0.437101   6.169170   1.904972    7.318146\n",
       "min    2006.000000   0.000000   0.000000   0.000000   0.000000   73.830000\n",
       "25%    2009.000000   5.000000   0.000000   2.000000   2.000000   86.940000\n",
       "50%    2012.500000   7.000000   0.000000   4.000000   3.000000   89.870000\n",
       "75%    2016.000000  10.750000   0.000000   5.000000   4.000000   97.015000\n",
       "max    2019.000000  24.000000   2.000000  35.000000   7.000000  100.000000"
      ]
     },
     "execution_count": 86,
     "metadata": {},
     "output_type": "execute_result"
    }
   ],
   "source": [
    "df_alt.describe()"
   ]
  },
  {
   "cell_type": "markdown",
   "metadata": {},
   "source": [
    "The correlations per site are worse as there is less data to work with."
   ]
  },
  {
   "cell_type": "code",
   "execution_count": 87,
   "metadata": {},
   "outputs": [
    {
     "data": {
      "text/plain": [
       "<matplotlib.axes._subplots.AxesSubplot at 0x253b15f2bc8>"
      ]
     },
     "execution_count": 87,
     "metadata": {},
     "output_type": "execute_result"
    },
    {
     "data": {
      "image/png": "[encoded data removed]",
      "text/plain": [
       "<Figure size 432x288 with 2 Axes>"
      ]
     },
     "metadata": {
      "needs_background": "light"
     },
     "output_type": "display_data"
    }
   ],
   "source": [
    "sns.heatmap(df_alt.corr())"
   ]
  },
  {
   "cell_type": "code",
   "execution_count": 89,
   "metadata": {},
   "outputs": [],
   "source": [
    "Waterford = df_alt.loc[df_alt.Site == 'Waterford']\n",
    "Seabrook = df_alt.loc[df_alt.Site == 'Seabrook']\n",
    "Harris = df_alt.loc[df_alt.Site == 'Harris']"
   ]
  },
  {
   "cell_type": "markdown",
   "metadata": {},
   "source": [
    "Waterford"
   ]
  },
  {
   "cell_type": "code",
   "execution_count": 90,
   "metadata": {},
   "outputs": [
    {
     "data": {
      "text/plain": [
       "<matplotlib.axes._subplots.AxesSubplot at 0x253b24ac2c8>"
      ]
     },
     "execution_count": 90,
     "metadata": {},
     "output_type": "execute_result"
    },
    {
     "data": {
      "image/png": "[encoded data removed]",
      "text/plain": [
       "<Figure size 432x288 with 2 Axes>"
      ]
     },
     "metadata": {
      "needs_background": "light"
     },
     "output_type": "display_data"
    }
   ],
   "source": [
    "sns.heatmap(Waterford.corr());"
   ]
  },
  {
   "cell_type": "code",
   "execution_count": 94,
   "metadata": {},
   "outputs": [
    {
     "name": "stdout",
     "output_type": "stream",
     "text": [
      "y intercept is:105.07007907112978\n",
      "slope coeff is:[-1.10152297 -1.43137606  2.66784046 -0.53036332]\n",
      "root mean squared error is:  7.273204028260263\n",
      "mean squared error is:  52.899496836701324\n",
      "r2 score is: -0.9163599020530386\n"
     ]
    }
   ],
   "source": [
    "feature_cols = ['LER', 'EN', 'GTG', 'Green'] \n",
    "X = Waterford[feature_cols]\n",
    "\n",
    "y = Waterford.PowerAvg\n",
    "\n",
    "#instantiate model\n",
    "linreg = LinearRegression()\n",
    "#fit to selected variables\n",
    "linreg.fit(X, y)\n",
    "\n",
    "print('y intercept is:{}'.format(linreg.intercept_))\n",
    "print('slope coeff is:{}'.format(linreg.coef_))\n",
    "\n",
    "#split the data into 80% training and 20% testing\n",
    "X_train, X_test, y_train, y_test = train_test_split(X, y, test_size=0.20, random_state=60)\n",
    "#instantiate linear regression model   \n",
    "linreg = LinearRegression()\n",
    "#fit training data to model using training data\n",
    "linreg.fit(X_train, y_train)\n",
    "#perform prediction using test data\n",
    "y_pred = linreg.predict(X_test)\n",
    "#report the scores   \n",
    "print(\"root mean squared error is: \", np.sqrt(mean_squared_error(y_test, y_pred)))\n",
    "print(\"mean squared error is: \", mean_squared_error(y_test, y_pred))\n",
    "print('r2 score is:', linreg.score(X_test, y_test))"
   ]
  },
  {
   "cell_type": "markdown",
   "metadata": {},
   "source": [
    "At Waterford, the RMSE is ~7%"
   ]
  },
  {
   "cell_type": "markdown",
   "metadata": {},
   "source": [
    "Seabrook"
   ]
  },
  {
   "cell_type": "code",
   "execution_count": 91,
   "metadata": {},
   "outputs": [
    {
     "data": {
      "text/plain": [
       "<matplotlib.axes._subplots.AxesSubplot at 0x253b2364d08>"
      ]
     },
     "execution_count": 91,
     "metadata": {},
     "output_type": "execute_result"
    },
    {
     "data": {
      "image/png": "[encoded data removed]",
      "text/plain": [
       "<Figure size 432x288 with 2 Axes>"
      ]
     },
     "metadata": {
      "needs_background": "light"
     },
     "output_type": "display_data"
    }
   ],
   "source": [
    "sns.heatmap(Seabrook.corr());"
   ]
  },
  {
   "cell_type": "code",
   "execution_count": 95,
   "metadata": {},
   "outputs": [
    {
     "name": "stdout",
     "output_type": "stream",
     "text": [
      "y intercept is:94.60852931771764\n",
      "slope coeff is:[-2.60990787  0.4434349  -6.86167119  0.28680099]\n",
      "root mean squared error is:  11.059593153718712\n",
      "mean squared error is:  122.31460072578182\n",
      "r2 score is: -0.37962663231572447\n"
     ]
    }
   ],
   "source": [
    "feature_cols = ['LER', 'EN', 'GTG', 'Green'] \n",
    "X = Seabrook[feature_cols]\n",
    "\n",
    "y = Seabrook.PowerAvg\n",
    "\n",
    "#instantiate model\n",
    "linreg = LinearRegression()\n",
    "#fit to selected variables\n",
    "linreg.fit(X, y)\n",
    "\n",
    "print('y intercept is:{}'.format(linreg.intercept_))\n",
    "print('slope coeff is:{}'.format(linreg.coef_))\n",
    "\n",
    "#split the data into 80% training and 20% testing\n",
    "X_train, X_test, y_train, y_test = train_test_split(X, y, test_size=0.20, random_state=60)\n",
    "#instantiate linear regression model   \n",
    "linreg = LinearRegression()\n",
    "#fit training data to model using training data\n",
    "linreg.fit(X_train, y_train)\n",
    "#perform prediction using test data\n",
    "y_pred = linreg.predict(X_test)\n",
    "#report the scores   \n",
    "print(\"root mean squared error is: \", np.sqrt(mean_squared_error(y_test, y_pred)))\n",
    "print(\"mean squared error is: \", mean_squared_error(y_test, y_pred))\n",
    "print('r2 score is:', linreg.score(X_test, y_test))"
   ]
  },
  {
   "cell_type": "markdown",
   "metadata": {},
   "source": [
    "At Seabrook, the RMSE is ~ 11%"
   ]
  },
  {
   "cell_type": "markdown",
   "metadata": {},
   "source": [
    "Harris"
   ]
  },
  {
   "cell_type": "code",
   "execution_count": 93,
   "metadata": {
    "scrolled": true
   },
   "outputs": [
    {
     "data": {
      "image/png": "[encoded data removed]",
      "text/plain": [
       "<Figure size 432x288 with 2 Axes>"
      ]
     },
     "metadata": {
      "needs_background": "light"
     },
     "output_type": "display_data"
    }
   ],
   "source": [
    "sns.heatmap(Harris.corr());"
   ]
  },
  {
   "cell_type": "code",
   "execution_count": 97,
   "metadata": {},
   "outputs": [
    {
     "name": "stdout",
     "output_type": "stream",
     "text": [
      "y intercept is:95.10900721482223\n",
      "slope coeff is:[-0.87755386 -0.45624621  6.59274023  0.36869145]\n",
      "root mean squared error is:  5.575301504804432\n",
      "mean squared error is:  31.08398686947456\n",
      "r2 score is: 0.020701936903125828\n"
     ]
    }
   ],
   "source": [
    "feature_cols = ['LER', 'EN', 'GTG', 'Green'] \n",
    "X = Harris[feature_cols]\n",
    "\n",
    "y = Harris.PowerAvg\n",
    "\n",
    "#instantiate model\n",
    "linreg = LinearRegression()\n",
    "#fit to selected variables\n",
    "linreg.fit(X, y)\n",
    "\n",
    "print('y intercept is:{}'.format(linreg.intercept_))\n",
    "print('slope coeff is:{}'.format(linreg.coef_))\n",
    "\n",
    "#split the data into 80% training and 20% testing\n",
    "X_train, X_test, y_train, y_test = train_test_split(X, y, test_size=0.20, random_state=60)\n",
    "#instantiate linear regression model   \n",
    "linreg = LinearRegression()\n",
    "#fit training data to model using training data\n",
    "linreg.fit(X_train, y_train)\n",
    "#perform prediction using test data\n",
    "y_pred = linreg.predict(X_test)\n",
    "#report the scores   \n",
    "print(\"root mean squared error is: \", np.sqrt(mean_squared_error(y_test, y_pred)))\n",
    "print(\"mean squared error is: \", mean_squared_error(y_test, y_pred))\n",
    "print('r2 score is:', linreg.score(X_test, y_test))"
   ]
  },
  {
   "cell_type": "markdown",
   "metadata": {},
   "source": [
    "At Harris, the RMSE is ~5.6%.\n",
    "\n",
    "It makes sense that Harris would provide the lowest RMSE because between the 3 sites, it had the highest number of LERs and ENs.  "
   ]
  },
  {
   "cell_type": "markdown",
   "metadata": {},
   "source": [
    "##  "
   ]
  }
 ],
 "metadata": {
  "kernelspec": {
   "display_name": "Python 3",
   "language": "python",
   "name": "python3"
  },
  "language_info": {
   "codemirror_mode": {
    "name": "ipython",
    "version": 3
   },
   "file_extension": ".py",
   "mimetype": "text/x-python",
   "name": "python",
   "nbconvert_exporter": "python",
   "pygments_lexer": "ipython3",
   "version": "3.7.4"
  }
 },
 "nbformat": 4,
 "nbformat_minor": 2
}
