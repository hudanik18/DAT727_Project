{
 "cells": [
  {
   "cell_type": "code",
   "execution_count": 2,
   "metadata": {},
   "outputs": [],
   "source": [
    "import pandas as pd\n"
   ]
  },
  {
   "cell_type": "code",
   "execution_count": 3,
   "metadata": {},
   "outputs": [],
   "source": [
    "df = pd.read_excel('LERs_2.xlsx')\n"
   ]
  },
  {
   "cell_type": "code",
   "execution_count": 4,
   "metadata": {},
   "outputs": [
    {
     "data": {
      "text/html": [
       "<div>\n",
       "<style scoped>\n",
       "    .dataframe tbody tr th:only-of-type {\n",
       "        vertical-align: middle;\n",
       "    }\n",
       "\n",
       "    .dataframe tbody tr th {\n",
       "        vertical-align: top;\n",
       "    }\n",
       "\n",
       "    .dataframe thead th {\n",
       "        text-align: right;\n",
       "    }\n",
       "</style>\n",
       "<table border=\"1\" class=\"dataframe\">\n",
       "  <thead>\n",
       "    <tr style=\"text-align: right;\">\n",
       "      <th></th>\n",
       "      <th>LER Number</th>\n",
       "      <th>Plant Name</th>\n",
       "      <th>Event Date</th>\n",
       "      <th>Report Date</th>\n",
       "      <th>Accession #</th>\n",
       "      <th>Title</th>\n",
       "    </tr>\n",
       "  </thead>\n",
       "  <tbody>\n",
       "    <tr>\n",
       "      <td>0</td>\n",
       "      <td>32008001</td>\n",
       "      <td>Indian Point 1, Indian Point 2, Indian Point 3</td>\n",
       "      <td>05/27/2008</td>\n",
       "      <td>07/21/2008</td>\n",
       "      <td>ML08210044</td>\n",
       "      <td>Attempted Introduction of Contraband into the ...</td>\n",
       "    </tr>\n",
       "    <tr>\n",
       "      <td>1</td>\n",
       "      <td>1332010001</td>\n",
       "      <td>Humboldt Bay 3</td>\n",
       "      <td>06/24/2010</td>\n",
       "      <td>07/14/2011</td>\n",
       "      <td>ML11196005</td>\n",
       "      <td>Lost Radioactive Calibration Standard</td>\n",
       "    </tr>\n",
       "    <tr>\n",
       "      <td>2</td>\n",
       "      <td>2192006001</td>\n",
       "      <td>Oyster Creek</td>\n",
       "      <td>05/06/2006</td>\n",
       "      <td>07/05/2006</td>\n",
       "      <td>ML06188030</td>\n",
       "      <td>Unplanned Manual Scram Inserted During Planned...</td>\n",
       "    </tr>\n",
       "    <tr>\n",
       "      <td>3</td>\n",
       "      <td>2192006002</td>\n",
       "      <td>Oyster Creek</td>\n",
       "      <td>06/20/2006</td>\n",
       "      <td>09/22/2006</td>\n",
       "      <td>ML06278024</td>\n",
       "      <td>Failure of MSIV Surveillance Test due to Trans...</td>\n",
       "    </tr>\n",
       "    <tr>\n",
       "      <td>4</td>\n",
       "      <td>2192006003</td>\n",
       "      <td>Oyster Creek</td>\n",
       "      <td>10/16/2006</td>\n",
       "      <td>12/13/2006</td>\n",
       "      <td>ML06353047</td>\n",
       "      <td>Local Leak Rate Test Results in Excess of Tech...</td>\n",
       "    </tr>\n",
       "  </tbody>\n",
       "</table>\n",
       "</div>"
      ],
      "text/plain": [
       "   LER Number                                      Plant Name  Event Date  \\\n",
       "0    32008001  Indian Point 1, Indian Point 2, Indian Point 3  05/27/2008   \n",
       "1  1332010001                                  Humboldt Bay 3  06/24/2010   \n",
       "2  2192006001                                    Oyster Creek  05/06/2006   \n",
       "3  2192006002                                    Oyster Creek  06/20/2006   \n",
       "4  2192006003                                    Oyster Creek  10/16/2006   \n",
       "\n",
       "  Report Date Accession #                                              Title  \n",
       "0  07/21/2008  ML08210044  Attempted Introduction of Contraband into the ...  \n",
       "1  07/14/2011  ML11196005              Lost Radioactive Calibration Standard  \n",
       "2  07/05/2006  ML06188030  Unplanned Manual Scram Inserted During Planned...  \n",
       "3  09/22/2006  ML06278024  Failure of MSIV Surveillance Test due to Trans...  \n",
       "4  12/13/2006  ML06353047  Local Leak Rate Test Results in Excess of Tech...  "
      ]
     },
     "execution_count": 4,
     "metadata": {},
     "output_type": "execute_result"
    }
   ],
   "source": [
    "df.head()"
   ]
  },
  {
   "cell_type": "code",
   "execution_count": 6,
   "metadata": {},
   "outputs": [
    {
     "data": {
      "text/plain": [
       "LER Number      int64\n",
       "Plant Name     object\n",
       "Event Date     object\n",
       "Report Date    object\n",
       "Accession #    object\n",
       "Title          object\n",
       "dtype: object"
      ]
     },
     "execution_count": 6,
     "metadata": {},
     "output_type": "execute_result"
    }
   ],
   "source": [
    "df.dtypes"
   ]
  },
  {
   "cell_type": "code",
   "execution_count": 10,
   "metadata": {},
   "outputs": [],
   "source": [
    "df['Event Date']= pd.to_datetime(df['Event Date'])"
   ]
  },
  {
   "cell_type": "code",
   "execution_count": 11,
   "metadata": {},
   "outputs": [
    {
     "data": {
      "text/plain": [
       "LER Number              int64\n",
       "Plant Name             object\n",
       "Event Date     datetime64[ns]\n",
       "Report Date            object\n",
       "Accession #            object\n",
       "Title                  object\n",
       "dtype: object"
      ]
     },
     "execution_count": 11,
     "metadata": {},
     "output_type": "execute_result"
    }
   ],
   "source": [
    "df.dtypes"
   ]
  },
  {
   "cell_type": "code",
   "execution_count": 12,
   "metadata": {},
   "outputs": [],
   "source": [
    "df = df.set_index(['Event Date'])\n"
   ]
  },
  {
   "cell_type": "code",
   "execution_count": 13,
   "metadata": {},
   "outputs": [
    {
     "data": {
      "text/html": [
       "<div>\n",
       "<style scoped>\n",
       "    .dataframe tbody tr th:only-of-type {\n",
       "        vertical-align: middle;\n",
       "    }\n",
       "\n",
       "    .dataframe tbody tr th {\n",
       "        vertical-align: top;\n",
       "    }\n",
       "\n",
       "    .dataframe thead th {\n",
       "        text-align: right;\n",
       "    }\n",
       "</style>\n",
       "<table border=\"1\" class=\"dataframe\">\n",
       "  <thead>\n",
       "    <tr style=\"text-align: right;\">\n",
       "      <th></th>\n",
       "      <th>LER Number</th>\n",
       "      <th>Plant Name</th>\n",
       "      <th>Report Date</th>\n",
       "      <th>Accession #</th>\n",
       "      <th>Title</th>\n",
       "    </tr>\n",
       "    <tr>\n",
       "      <th>Event Date</th>\n",
       "      <th></th>\n",
       "      <th></th>\n",
       "      <th></th>\n",
       "      <th></th>\n",
       "      <th></th>\n",
       "    </tr>\n",
       "  </thead>\n",
       "  <tbody>\n",
       "    <tr>\n",
       "      <td>2006-06-12</td>\n",
       "      <td>3822006001</td>\n",
       "      <td>Waterford 3</td>\n",
       "      <td>08/11/2006</td>\n",
       "      <td>ML06227003</td>\n",
       "      <td>Potential for Loss of Both Trains of Safe Shut...</td>\n",
       "    </tr>\n",
       "  </tbody>\n",
       "</table>\n",
       "</div>"
      ],
      "text/plain": [
       "            LER Number   Plant Name Report Date Accession #  \\\n",
       "Event Date                                                    \n",
       "2006-06-12  3822006001  Waterford 3  08/11/2006  ML06227003   \n",
       "\n",
       "                                                        Title  \n",
       "Event Date                                                     \n",
       "2006-06-12  Potential for Loss of Both Trains of Safe Shut...  "
      ]
     },
     "execution_count": 13,
     "metadata": {},
     "output_type": "execute_result"
    }
   ],
   "source": [
    "df2 = df['2006-01-01':'2006-12-31']\n",
    "df2.loc[df2['Plant Name'] == 'Waterford 3']"
   ]
  },
  {
   "cell_type": "code",
   "execution_count": 14,
   "metadata": {},
   "outputs": [
    {
     "data": {
      "text/html": [
       "<div>\n",
       "<style scoped>\n",
       "    .dataframe tbody tr th:only-of-type {\n",
       "        vertical-align: middle;\n",
       "    }\n",
       "\n",
       "    .dataframe tbody tr th {\n",
       "        vertical-align: top;\n",
       "    }\n",
       "\n",
       "    .dataframe thead th {\n",
       "        text-align: right;\n",
       "    }\n",
       "</style>\n",
       "<table border=\"1\" class=\"dataframe\">\n",
       "  <thead>\n",
       "    <tr style=\"text-align: right;\">\n",
       "      <th></th>\n",
       "      <th>LER Number</th>\n",
       "      <th>Plant Name</th>\n",
       "      <th>Report Date</th>\n",
       "      <th>Accession #</th>\n",
       "      <th>Title</th>\n",
       "    </tr>\n",
       "    <tr>\n",
       "      <th>Event Date</th>\n",
       "      <th></th>\n",
       "      <th></th>\n",
       "      <th></th>\n",
       "      <th></th>\n",
       "      <th></th>\n",
       "    </tr>\n",
       "  </thead>\n",
       "  <tbody>\n",
       "  </tbody>\n",
       "</table>\n",
       "</div>"
      ],
      "text/plain": [
       "Empty DataFrame\n",
       "Columns: [LER Number, Plant Name, Report Date, Accession #, Title]\n",
       "Index: []"
      ]
     },
     "execution_count": 14,
     "metadata": {},
     "output_type": "execute_result"
    }
   ],
   "source": [
    "df2 = df['2007-01-01':'2007-12-31']\n",
    "df2.loc[df2['Plant Name'] == 'Waterford 3']"
   ]
  },
  {
   "cell_type": "code",
   "execution_count": 16,
   "metadata": {},
   "outputs": [
    {
     "data": {
      "text/plain": [
       "LER Number     6\n",
       "Plant Name     6\n",
       "Report Date    6\n",
       "Accession #    6\n",
       "Title          6\n",
       "dtype: int64"
      ]
     },
     "execution_count": 16,
     "metadata": {},
     "output_type": "execute_result"
    }
   ],
   "source": [
    "df2 = df['2008-01-01':'2008-12-31']\n",
    "df2.loc[df2['Plant Name'] == 'Waterford 3'].count()"
   ]
  },
  {
   "cell_type": "code",
   "execution_count": 17,
   "metadata": {},
   "outputs": [
    {
     "data": {
      "text/plain": [
       "LER Number     3\n",
       "Plant Name     3\n",
       "Report Date    3\n",
       "Accession #    3\n",
       "Title          3\n",
       "dtype: int64"
      ]
     },
     "execution_count": 17,
     "metadata": {},
     "output_type": "execute_result"
    }
   ],
   "source": [
    "df2 = df['2009-01-01':'2009-12-31']\n",
    "df2.loc[df2['Plant Name'] == 'Waterford 3'].count()"
   ]
  },
  {
   "cell_type": "code",
   "execution_count": 18,
   "metadata": {},
   "outputs": [
    {
     "data": {
      "text/plain": [
       "LER Number     4\n",
       "Plant Name     4\n",
       "Report Date    4\n",
       "Accession #    4\n",
       "Title          4\n",
       "dtype: int64"
      ]
     },
     "execution_count": 18,
     "metadata": {},
     "output_type": "execute_result"
    }
   ],
   "source": [
    "df2 = df['2010-01-01':'2010-12-31']\n",
    "df2.loc[df2['Plant Name'] == 'Waterford 3'].count()"
   ]
  },
  {
   "cell_type": "code",
   "execution_count": 19,
   "metadata": {},
   "outputs": [
    {
     "data": {
      "text/plain": [
       "LER Number     5\n",
       "Plant Name     5\n",
       "Report Date    5\n",
       "Accession #    5\n",
       "Title          5\n",
       "dtype: int64"
      ]
     },
     "execution_count": 19,
     "metadata": {},
     "output_type": "execute_result"
    }
   ],
   "source": [
    "df2 = df['2011-01-01':'2011-12-31']\n",
    "df2.loc[df2['Plant Name'] == 'Waterford 3'].count()"
   ]
  },
  {
   "cell_type": "code",
   "execution_count": 20,
   "metadata": {},
   "outputs": [
    {
     "data": {
      "text/plain": [
       "LER Number     7\n",
       "Plant Name     7\n",
       "Report Date    7\n",
       "Accession #    7\n",
       "Title          7\n",
       "dtype: int64"
      ]
     },
     "execution_count": 20,
     "metadata": {},
     "output_type": "execute_result"
    }
   ],
   "source": [
    "df2 = df['2012-01-01':'2012-12-31']\n",
    "df2.loc[df2['Plant Name'] == 'Waterford 3'].count()"
   ]
  },
  {
   "cell_type": "code",
   "execution_count": 21,
   "metadata": {},
   "outputs": [
    {
     "data": {
      "text/plain": [
       "LER Number     7\n",
       "Plant Name     7\n",
       "Report Date    7\n",
       "Accession #    7\n",
       "Title          7\n",
       "dtype: int64"
      ]
     },
     "execution_count": 21,
     "metadata": {},
     "output_type": "execute_result"
    }
   ],
   "source": [
    "df2 = df['2013-01-01':'2013-12-31']\n",
    "df2.loc[df2['Plant Name'] == 'Waterford 3'].count()"
   ]
  },
  {
   "cell_type": "code",
   "execution_count": 22,
   "metadata": {},
   "outputs": [
    {
     "data": {
      "text/plain": [
       "LER Number     3\n",
       "Plant Name     3\n",
       "Report Date    3\n",
       "Accession #    3\n",
       "Title          3\n",
       "dtype: int64"
      ]
     },
     "execution_count": 22,
     "metadata": {},
     "output_type": "execute_result"
    }
   ],
   "source": [
    "df2 = df['2014-01-01':'2014-12-31']\n",
    "df2.loc[df2['Plant Name'] == 'Waterford 3'].count()"
   ]
  },
  {
   "cell_type": "code",
   "execution_count": 23,
   "metadata": {},
   "outputs": [
    {
     "data": {
      "text/plain": [
       "LER Number     4\n",
       "Plant Name     4\n",
       "Report Date    4\n",
       "Accession #    4\n",
       "Title          4\n",
       "dtype: int64"
      ]
     },
     "execution_count": 23,
     "metadata": {},
     "output_type": "execute_result"
    }
   ],
   "source": [
    "df2 = df['2015-01-01':'2015-12-31']\n",
    "df2.loc[df2['Plant Name'] == 'Waterford 3'].count()"
   ]
  },
  {
   "cell_type": "code",
   "execution_count": 24,
   "metadata": {},
   "outputs": [
    {
     "data": {
      "text/plain": [
       "LER Number     2\n",
       "Plant Name     2\n",
       "Report Date    2\n",
       "Accession #    2\n",
       "Title          2\n",
       "dtype: int64"
      ]
     },
     "execution_count": 24,
     "metadata": {},
     "output_type": "execute_result"
    }
   ],
   "source": [
    "df2 = df['2016-01-01':'2016-12-31']\n",
    "df2.loc[df2['Plant Name'] == 'Waterford 3'].count()"
   ]
  },
  {
   "cell_type": "code",
   "execution_count": 25,
   "metadata": {},
   "outputs": [
    {
     "data": {
      "text/plain": [
       "LER Number     3\n",
       "Plant Name     3\n",
       "Report Date    3\n",
       "Accession #    3\n",
       "Title          3\n",
       "dtype: int64"
      ]
     },
     "execution_count": 25,
     "metadata": {},
     "output_type": "execute_result"
    }
   ],
   "source": [
    "df2 = df['2017-01-01':'2017-12-31']\n",
    "df2.loc[df2['Plant Name'] == 'Waterford 3'].count()"
   ]
  },
  {
   "cell_type": "code",
   "execution_count": 26,
   "metadata": {},
   "outputs": [
    {
     "data": {
      "text/plain": [
       "LER Number     3\n",
       "Plant Name     3\n",
       "Report Date    3\n",
       "Accession #    3\n",
       "Title          3\n",
       "dtype: int64"
      ]
     },
     "execution_count": 26,
     "metadata": {},
     "output_type": "execute_result"
    }
   ],
   "source": [
    "df2 = df['2018-01-01':'2018-12-31']\n",
    "df2.loc[df2['Plant Name'] == 'Waterford 3'].count()"
   ]
  },
  {
   "cell_type": "code",
   "execution_count": 27,
   "metadata": {},
   "outputs": [
    {
     "data": {
      "text/plain": [
       "LER Number     5\n",
       "Plant Name     5\n",
       "Report Date    5\n",
       "Accession #    5\n",
       "Title          5\n",
       "dtype: int64"
      ]
     },
     "execution_count": 27,
     "metadata": {},
     "output_type": "execute_result"
    }
   ],
   "source": [
    "df2 = df['2019-01-01':'2019-12-31']\n",
    "df2.loc[df2['Plant Name'] == 'Waterford 3'].count()"
   ]
  },
  {
   "cell_type": "code",
   "execution_count": 29,
   "metadata": {},
   "outputs": [
    {
     "data": {
      "text/html": [
       "<div>\n",
       "<style scoped>\n",
       "    .dataframe tbody tr th:only-of-type {\n",
       "        vertical-align: middle;\n",
       "    }\n",
       "\n",
       "    .dataframe tbody tr th {\n",
       "        vertical-align: top;\n",
       "    }\n",
       "\n",
       "    .dataframe thead th {\n",
       "        text-align: right;\n",
       "    }\n",
       "</style>\n",
       "<table border=\"1\" class=\"dataframe\">\n",
       "  <thead>\n",
       "    <tr style=\"text-align: right;\">\n",
       "      <th></th>\n",
       "      <th>LER Number</th>\n",
       "      <th>Plant Name</th>\n",
       "      <th>Report Date</th>\n",
       "      <th>Accession #</th>\n",
       "      <th>Title</th>\n",
       "    </tr>\n",
       "    <tr>\n",
       "      <th>Event Date</th>\n",
       "      <th></th>\n",
       "      <th></th>\n",
       "      <th></th>\n",
       "      <th></th>\n",
       "      <th></th>\n",
       "    </tr>\n",
       "  </thead>\n",
       "  <tbody>\n",
       "    <tr>\n",
       "      <td>2006-03-08</td>\n",
       "      <td>4432006002</td>\n",
       "      <td>Seabrook</td>\n",
       "      <td>04/07/2006</td>\n",
       "      <td>ML06102054</td>\n",
       "      <td>Noncompliance with the Requirements of Technic...</td>\n",
       "    </tr>\n",
       "    <tr>\n",
       "      <td>2006-02-05</td>\n",
       "      <td>4432006003</td>\n",
       "      <td>Seabrook</td>\n",
       "      <td>05/23/2006</td>\n",
       "      <td>ML06152034</td>\n",
       "      <td>Voluntary LER for Deficient Hydrostatic Barriers</td>\n",
       "    </tr>\n",
       "    <tr>\n",
       "      <td>2006-06-22</td>\n",
       "      <td>4432006004</td>\n",
       "      <td>Seabrook</td>\n",
       "      <td>07/19/2006</td>\n",
       "      <td>ML06207013</td>\n",
       "      <td>Technical Specification Violation due to Inope...</td>\n",
       "    </tr>\n",
       "    <tr>\n",
       "      <td>2006-07-03</td>\n",
       "      <td>4432006005</td>\n",
       "      <td>Seabrook</td>\n",
       "      <td>07/27/2006</td>\n",
       "      <td>ML06215035</td>\n",
       "      <td>Technical Specification Violation with Inopera...</td>\n",
       "    </tr>\n",
       "    <tr>\n",
       "      <td>2006-08-31</td>\n",
       "      <td>4432006006</td>\n",
       "      <td>Seabrook</td>\n",
       "      <td>02/05/2007</td>\n",
       "      <td>ML07039012</td>\n",
       "      <td>Plant Shutdown due to Inoperable Emergency Die...</td>\n",
       "    </tr>\n",
       "    <tr>\n",
       "      <td>2007-02-14</td>\n",
       "      <td>4432007001</td>\n",
       "      <td>Seabrook</td>\n",
       "      <td>04/12/2007</td>\n",
       "      <td>ML07103033</td>\n",
       "      <td>Noncompliance with the Requirements of Technic...</td>\n",
       "    </tr>\n",
       "    <tr>\n",
       "      <td>2007-04-05</td>\n",
       "      <td>4432007002</td>\n",
       "      <td>Seabrook</td>\n",
       "      <td>05/24/2007</td>\n",
       "      <td>ML07149050</td>\n",
       "      <td>Incorrect Valve Stroke Time Renders Emergency ...</td>\n",
       "    </tr>\n",
       "    <tr>\n",
       "      <td>2008-01-19</td>\n",
       "      <td>4432008001</td>\n",
       "      <td>Seabrook</td>\n",
       "      <td>03/17/2008</td>\n",
       "      <td>ML08086048</td>\n",
       "      <td>Plant Trip due to 345kV Bus Fault</td>\n",
       "    </tr>\n",
       "    <tr>\n",
       "      <td>2009-10-01</td>\n",
       "      <td>4432009001</td>\n",
       "      <td>Seabrook</td>\n",
       "      <td>11/30/2009</td>\n",
       "      <td>ML09343024</td>\n",
       "      <td>Reactor Protection System Actuation on Steam G...</td>\n",
       "    </tr>\n",
       "    <tr>\n",
       "      <td>2010-03-17</td>\n",
       "      <td>4432010001</td>\n",
       "      <td>Seabrook</td>\n",
       "      <td>05/14/2010</td>\n",
       "      <td>ML10139020</td>\n",
       "      <td>Emergency Air Cleanup System Inoperable due to...</td>\n",
       "    </tr>\n",
       "    <tr>\n",
       "      <td>2010-04-09</td>\n",
       "      <td>4432010002</td>\n",
       "      <td>Seabrook</td>\n",
       "      <td>06/08/2010</td>\n",
       "      <td>ML10165005</td>\n",
       "      <td>Containment Penetration Protective Devices Fou...</td>\n",
       "    </tr>\n",
       "    <tr>\n",
       "      <td>2011-03-24</td>\n",
       "      <td>4432011001</td>\n",
       "      <td>Seabrook</td>\n",
       "      <td>05/20/2011</td>\n",
       "      <td>ML11144A29</td>\n",
       "      <td>Noncompliance with Technical Specification for...</td>\n",
       "    </tr>\n",
       "    <tr>\n",
       "      <td>2011-10-06</td>\n",
       "      <td>4432011002</td>\n",
       "      <td>Seabrook</td>\n",
       "      <td>12/02/2011</td>\n",
       "      <td>ML11342A09</td>\n",
       "      <td>Automatic Reactor Trip following Loss of Main ...</td>\n",
       "    </tr>\n",
       "    <tr>\n",
       "      <td>2011-12-21</td>\n",
       "      <td>4432011003</td>\n",
       "      <td>Seabrook</td>\n",
       "      <td>02/14/2012</td>\n",
       "      <td>ML12052A25</td>\n",
       "      <td>Offsite AC Source Inoperable During Diesel Gen...</td>\n",
       "    </tr>\n",
       "    <tr>\n",
       "      <td>2012-07-18</td>\n",
       "      <td>4432012001</td>\n",
       "      <td>Seabrook</td>\n",
       "      <td>09/13/2012</td>\n",
       "      <td>ML12262A51</td>\n",
       "      <td>Inadequate Testing of Certain Emergency Feedwa...</td>\n",
       "    </tr>\n",
       "    <tr>\n",
       "      <td>2012-09-25</td>\n",
       "      <td>4432012002</td>\n",
       "      <td>Seabrook</td>\n",
       "      <td>11/08/2012</td>\n",
       "      <td>ML12319A07</td>\n",
       "      <td>Inadequate Testing of Response Time for Reacto...</td>\n",
       "    </tr>\n",
       "    <tr>\n",
       "      <td>2012-09-14</td>\n",
       "      <td>4432012003</td>\n",
       "      <td>Seabrook</td>\n",
       "      <td>11/08/2012</td>\n",
       "      <td>ML12319A07</td>\n",
       "      <td>Reactor Trip due to Circuit Board Failure That...</td>\n",
       "    </tr>\n",
       "    <tr>\n",
       "      <td>2012-10-31</td>\n",
       "      <td>4432012004</td>\n",
       "      <td>Seabrook</td>\n",
       "      <td>04/22/2013</td>\n",
       "      <td>ML13115A26</td>\n",
       "      <td>Manual Actuation of the Service Water Cooling ...</td>\n",
       "    </tr>\n",
       "    <tr>\n",
       "      <td>2012-12-07</td>\n",
       "      <td>4432012005</td>\n",
       "      <td>Seabrook</td>\n",
       "      <td>02/04/2013</td>\n",
       "      <td>ML13042016</td>\n",
       "      <td>Service Water Cooling Tower Low Water Level</td>\n",
       "    </tr>\n",
       "    <tr>\n",
       "      <td>2013-10-30</td>\n",
       "      <td>4432013001</td>\n",
       "      <td>Seabrook</td>\n",
       "      <td>12/23/2013</td>\n",
       "      <td>ML13365A00</td>\n",
       "      <td>Failure to Enter Technical Specification follo...</td>\n",
       "    </tr>\n",
       "    <tr>\n",
       "      <td>2014-04-01</td>\n",
       "      <td>4432014001</td>\n",
       "      <td>Seabrook</td>\n",
       "      <td>05/19/2014</td>\n",
       "      <td>ML14142A21</td>\n",
       "      <td>Automatic Reactor Trip due to Delay in Automat...</td>\n",
       "    </tr>\n",
       "    <tr>\n",
       "      <td>2014-04-06</td>\n",
       "      <td>4432014002</td>\n",
       "      <td>Seabrook</td>\n",
       "      <td>08/07/2014</td>\n",
       "      <td>ML14225A65</td>\n",
       "      <td>Reactor Coolant Pump Undervoltage Time Delay R...</td>\n",
       "    </tr>\n",
       "    <tr>\n",
       "      <td>2016-03-02</td>\n",
       "      <td>4432016001</td>\n",
       "      <td>Seabrook</td>\n",
       "      <td>04/26/2016</td>\n",
       "      <td>ML16123A11</td>\n",
       "      <td>Automatic Reactor Trip due to Turbine Trip</td>\n",
       "    </tr>\n",
       "    <tr>\n",
       "      <td>2016-03-02</td>\n",
       "      <td>4432016002</td>\n",
       "      <td>Seabrook</td>\n",
       "      <td>04/26/2016</td>\n",
       "      <td>ML16123A11</td>\n",
       "      <td>Emergency Feedwater System Actuation on Steam ...</td>\n",
       "    </tr>\n",
       "    <tr>\n",
       "      <td>2017-04-29</td>\n",
       "      <td>4432017001</td>\n",
       "      <td>Seabrook</td>\n",
       "      <td>06/28/2017</td>\n",
       "      <td>ML17178A35</td>\n",
       "      <td>Manual Reactor Trip in Response to a Feedwater...</td>\n",
       "    </tr>\n",
       "    <tr>\n",
       "      <td>2018-02-06</td>\n",
       "      <td>4432018001</td>\n",
       "      <td>Seabrook</td>\n",
       "      <td>04/05/2018</td>\n",
       "      <td>ML18095A68</td>\n",
       "      <td>Pressurizer Safety Valve Outside of Technical ...</td>\n",
       "    </tr>\n",
       "    <tr>\n",
       "      <td>2018-07-25</td>\n",
       "      <td>4432018002</td>\n",
       "      <td>Seabrook</td>\n",
       "      <td>09/19/2018</td>\n",
       "      <td>ML18262A40</td>\n",
       "      <td>Automatic Valve in Emergency Core Cooling Syst...</td>\n",
       "    </tr>\n",
       "    <tr>\n",
       "      <td>2018-09-27</td>\n",
       "      <td>4432018003</td>\n",
       "      <td>Seabrook</td>\n",
       "      <td>11/26/2018</td>\n",
       "      <td>ML18330A20</td>\n",
       "      <td>Overpower Delta T Setpoint Exceeded Allowable ...</td>\n",
       "    </tr>\n",
       "  </tbody>\n",
       "</table>\n",
       "</div>"
      ],
      "text/plain": [
       "            LER Number Plant Name Report Date Accession #  \\\n",
       "Event Date                                                  \n",
       "2006-03-08  4432006002   Seabrook  04/07/2006  ML06102054   \n",
       "2006-02-05  4432006003   Seabrook  05/23/2006  ML06152034   \n",
       "2006-06-22  4432006004   Seabrook  07/19/2006  ML06207013   \n",
       "2006-07-03  4432006005   Seabrook  07/27/2006  ML06215035   \n",
       "2006-08-31  4432006006   Seabrook  02/05/2007  ML07039012   \n",
       "2007-02-14  4432007001   Seabrook  04/12/2007  ML07103033   \n",
       "2007-04-05  4432007002   Seabrook  05/24/2007  ML07149050   \n",
       "2008-01-19  4432008001   Seabrook  03/17/2008  ML08086048   \n",
       "2009-10-01  4432009001   Seabrook  11/30/2009  ML09343024   \n",
       "2010-03-17  4432010001   Seabrook  05/14/2010  ML10139020   \n",
       "2010-04-09  4432010002   Seabrook  06/08/2010  ML10165005   \n",
       "2011-03-24  4432011001   Seabrook  05/20/2011  ML11144A29   \n",
       "2011-10-06  4432011002   Seabrook  12/02/2011  ML11342A09   \n",
       "2011-12-21  4432011003   Seabrook  02/14/2012  ML12052A25   \n",
       "2012-07-18  4432012001   Seabrook  09/13/2012  ML12262A51   \n",
       "2012-09-25  4432012002   Seabrook  11/08/2012  ML12319A07   \n",
       "2012-09-14  4432012003   Seabrook  11/08/2012  ML12319A07   \n",
       "2012-10-31  4432012004   Seabrook  04/22/2013  ML13115A26   \n",
       "2012-12-07  4432012005   Seabrook  02/04/2013  ML13042016   \n",
       "2013-10-30  4432013001   Seabrook  12/23/2013  ML13365A00   \n",
       "2014-04-01  4432014001   Seabrook  05/19/2014  ML14142A21   \n",
       "2014-04-06  4432014002   Seabrook  08/07/2014  ML14225A65   \n",
       "2016-03-02  4432016001   Seabrook  04/26/2016  ML16123A11   \n",
       "2016-03-02  4432016002   Seabrook  04/26/2016  ML16123A11   \n",
       "2017-04-29  4432017001   Seabrook  06/28/2017  ML17178A35   \n",
       "2018-02-06  4432018001   Seabrook  04/05/2018  ML18095A68   \n",
       "2018-07-25  4432018002   Seabrook  09/19/2018  ML18262A40   \n",
       "2018-09-27  4432018003   Seabrook  11/26/2018  ML18330A20   \n",
       "\n",
       "                                                        Title  \n",
       "Event Date                                                     \n",
       "2006-03-08  Noncompliance with the Requirements of Technic...  \n",
       "2006-02-05   Voluntary LER for Deficient Hydrostatic Barriers  \n",
       "2006-06-22  Technical Specification Violation due to Inope...  \n",
       "2006-07-03  Technical Specification Violation with Inopera...  \n",
       "2006-08-31  Plant Shutdown due to Inoperable Emergency Die...  \n",
       "2007-02-14  Noncompliance with the Requirements of Technic...  \n",
       "2007-04-05  Incorrect Valve Stroke Time Renders Emergency ...  \n",
       "2008-01-19                  Plant Trip due to 345kV Bus Fault  \n",
       "2009-10-01  Reactor Protection System Actuation on Steam G...  \n",
       "2010-03-17  Emergency Air Cleanup System Inoperable due to...  \n",
       "2010-04-09  Containment Penetration Protective Devices Fou...  \n",
       "2011-03-24  Noncompliance with Technical Specification for...  \n",
       "2011-10-06  Automatic Reactor Trip following Loss of Main ...  \n",
       "2011-12-21  Offsite AC Source Inoperable During Diesel Gen...  \n",
       "2012-07-18  Inadequate Testing of Certain Emergency Feedwa...  \n",
       "2012-09-25  Inadequate Testing of Response Time for Reacto...  \n",
       "2012-09-14  Reactor Trip due to Circuit Board Failure That...  \n",
       "2012-10-31  Manual Actuation of the Service Water Cooling ...  \n",
       "2012-12-07        Service Water Cooling Tower Low Water Level  \n",
       "2013-10-30  Failure to Enter Technical Specification follo...  \n",
       "2014-04-01  Automatic Reactor Trip due to Delay in Automat...  \n",
       "2014-04-06  Reactor Coolant Pump Undervoltage Time Delay R...  \n",
       "2016-03-02         Automatic Reactor Trip due to Turbine Trip  \n",
       "2016-03-02  Emergency Feedwater System Actuation on Steam ...  \n",
       "2017-04-29  Manual Reactor Trip in Response to a Feedwater...  \n",
       "2018-02-06  Pressurizer Safety Valve Outside of Technical ...  \n",
       "2018-07-25  Automatic Valve in Emergency Core Cooling Syst...  \n",
       "2018-09-27  Overpower Delta T Setpoint Exceeded Allowable ...  "
      ]
     },
     "execution_count": 29,
     "metadata": {},
     "output_type": "execute_result"
    }
   ],
   "source": [
    "df.loc[df['Plant Name'] == 'Seabrook']"
   ]
  },
  {
   "cell_type": "code",
   "execution_count": 30,
   "metadata": {},
   "outputs": [],
   "source": [
    "def sitecounts(site):\n",
    "    \n",
    "    df2 = df['2006-01-01':'2006-12-31']\n",
    "    Y06 = df2.loc[df2['Plant Name'] == site].Title.count()\n",
    "    df2 = df['2007-01-01':'2007-12-31']\n",
    "    Y07 = df2.loc[df2['Plant Name'] == site].Title.count()\n",
    "    df2 = df['2008-01-01':'2008-12-31']\n",
    "    Y08 = df2.loc[df2['Plant Name'] == site].Title.count()\n",
    "    df2 = df['2009-01-01':'2009-12-31']\n",
    "    Y09 = df2.loc[df2['Plant Name'] == site].Title.count()\n",
    "    df2 = df['2010-01-01':'2010-12-31']\n",
    "    Y10 = df2.loc[df2['Plant Name'] == site].Title.count()\n",
    "    df2 = df['2011-01-01':'2011-12-31']\n",
    "    Y11 = df2.loc[df2['Plant Name'] == site].Title.count()\n",
    "    df2 = df['2012-01-01':'2012-12-31']\n",
    "    Y12 = df2.loc[df2['Plant Name'] == site].Title.count()\n",
    "    df2 = df['2013-01-01':'2013-12-31']\n",
    "    Y13 = df2.loc[df2['Plant Name'] == site].Title.count()\n",
    "    df2 = df['2014-01-01':'2014-12-31']\n",
    "    Y14 = df2.loc[df2['Plant Name'] == site].Title.count()\n",
    "    df2 = df['2015-01-01':'2015-12-31']\n",
    "    Y15 = df2.loc[df2['Plant Name'] == site].Title.count()\n",
    "    df2 = df['2016-01-01':'2016-12-31']\n",
    "    Y16 = df2.loc[df2['Plant Name'] == site].Title.count()\n",
    "    df2 = df['2017-01-01':'2017-12-31']\n",
    "    Y17 = df2.loc[df2['Plant Name'] == site].Title.count()\n",
    "    df2 = df['2018-01-01':'2018-12-31']\n",
    "    Y18 = df2.loc[df2['Plant Name'] == site].Title.count()\n",
    "    df2 = df['2019-01-01':'2019-12-31']\n",
    "    Y19 = df2.loc[df2['Plant Name'] == site].Title.count()\n",
    "    print('{} {} {} {} {} {} {} {} {} {} {} {} {} {}'.format(Y06, Y07, Y08, Y09, Y10, Y11, Y12, Y13, Y14, Y15, Y16, Y17, Y18, Y19))\n",
    "    \n"
   ]
  },
  {
   "cell_type": "code",
   "execution_count": 31,
   "metadata": {},
   "outputs": [
    {
     "name": "stdout",
     "output_type": "stream",
     "text": [
      "5 2 1 1 2 3 5 1 2 0 2 1 3 0\n"
     ]
    }
   ],
   "source": [
    "sitecounts('Seabrook')"
   ]
  },
  {
   "cell_type": "code",
   "execution_count": 32,
   "metadata": {},
   "outputs": [
    {
     "name": "stdout",
     "output_type": "stream",
     "text": [
      "2 5 3 4 3 2 3 4 3 5 7 0 4 3\n"
     ]
    }
   ],
   "source": [
    "sitecounts('Harris')"
   ]
  },
  {
   "cell_type": "code",
   "execution_count": 34,
   "metadata": {},
   "outputs": [
    {
     "name": "stdout",
     "output_type": "stream",
     "text": [
      "0 2 0 9 5 1 4 2 1 2 1 4 0 3\n"
     ]
    }
   ],
   "source": [
    "sitecounts('Browns Ferry 2')"
   ]
  },
  {
   "cell_type": "code",
   "execution_count": 10,
   "metadata": {},
   "outputs": [],
   "source": [
    "def LERcounts(year):\n",
    "    \n",
    "    JanAvg = df[year+'-01-01':year+'-01-31'].Title.count()\n",
    "    FebAvg = df[year+'-02-01':year+'-02-28'].Title.count()\n",
    "    MarAvg = df[year+'-03-01':year+'-03-31'].Title.count()\n",
    "    AprAvg = df[year+'-04-01':year+'-04-30'].Title.count()\n",
    "    MayAvg = df[year+'-05-01':year+'-05-31'].Title.count()\n",
    "    JunAvg = df[year+'-06-01':year+'-06-30'].Title.count()\n",
    "    JulAvg = df[year+'-07-01':year+'-07-31'].Title.count()\n",
    "    AugAvg = df[year+'-08-01':year+'-08-31'].Title.count()\n",
    "    SepAvg = df[year+'-09-01':year+'-09-30'].Title.count()\n",
    "    OctAvg = df[year+'-10-01':year+'-10-31'].Title.count()\n",
    "    NovAvg = df[year+'-11-01':year+'-11-30'].Title.count()\n",
    "    DecAvg = df[year+'-12-01':year+'-12-31'].Title.count()\n",
    "    print('{} {} {} {} {} {} {} {} {} {} {} {}'.format(JanAvg, FebAvg, MarAvg, AprAvg, MayAvg, JunAvg, JulAvg, AugAvg, SepAvg, OctAvg, NovAvg, DecAvg))\n",
    "    "
   ]
  },
  {
   "cell_type": "code",
   "execution_count": 12,
   "metadata": {},
   "outputs": [
    {
     "name": "stdout",
     "output_type": "stream",
     "text": [
      "10 10 21 18 23 9 14 21 12 10 10 7\n"
     ]
    }
   ],
   "source": [
    "LERcounts('2019')"
   ]
  },
  {
   "cell_type": "code",
   "execution_count": 13,
   "metadata": {},
   "outputs": [
    {
     "name": "stdout",
     "output_type": "stream",
     "text": [
      "13 18 20 31 24 16 13 7 18 24 10 14\n"
     ]
    }
   ],
   "source": [
    "LERcounts('2018')"
   ]
  },
  {
   "cell_type": "code",
   "execution_count": 14,
   "metadata": {},
   "outputs": [
    {
     "name": "stdout",
     "output_type": "stream",
     "text": [
      "17 23 35 26 23 29 14 16 23 18 20 13\n"
     ]
    }
   ],
   "source": [
    "LERcounts('2017')"
   ]
  },
  {
   "cell_type": "code",
   "execution_count": 15,
   "metadata": {},
   "outputs": [
    {
     "name": "stdout",
     "output_type": "stream",
     "text": [
      "26 25 44 39 30 33 12 26 22 27 27 18\n"
     ]
    }
   ],
   "source": [
    "LERcounts('2016')"
   ]
  },
  {
   "cell_type": "code",
   "execution_count": 16,
   "metadata": {},
   "outputs": [
    {
     "name": "stdout",
     "output_type": "stream",
     "text": [
      "22 27 29 36 30 28 18 26 24 22 22 20\n"
     ]
    }
   ],
   "source": [
    "LERcounts('2015')"
   ]
  },
  {
   "cell_type": "code",
   "execution_count": 17,
   "metadata": {},
   "outputs": [
    {
     "name": "stdout",
     "output_type": "stream",
     "text": [
      "34 31 42 38 29 21 11 22 10 23 17 16\n"
     ]
    }
   ],
   "source": [
    "LERcounts('2014')"
   ]
  },
  {
   "cell_type": "code",
   "execution_count": 18,
   "metadata": {},
   "outputs": [
    {
     "name": "stdout",
     "output_type": "stream",
     "text": [
      "26 33 36 26 25 31 13 23 25 49 39 32\n"
     ]
    }
   ],
   "source": [
    "LERcounts('2013')"
   ]
  },
  {
   "cell_type": "code",
   "execution_count": 19,
   "metadata": {},
   "outputs": [
    {
     "name": "stdout",
     "output_type": "stream",
     "text": [
      "15 30 36 39 27 28 27 29 26 39 26 25\n"
     ]
    }
   ],
   "source": [
    "LERcounts('2012')"
   ]
  },
  {
   "cell_type": "code",
   "execution_count": 20,
   "metadata": {},
   "outputs": [
    {
     "name": "stdout",
     "output_type": "stream",
     "text": [
      "24 30 23 30 35 31 19 29 26 26 23 24\n"
     ]
    }
   ],
   "source": [
    "LERcounts('2011')"
   ]
  },
  {
   "cell_type": "code",
   "execution_count": 21,
   "metadata": {},
   "outputs": [
    {
     "name": "stdout",
     "output_type": "stream",
     "text": [
      "29 26 31 32 30 27 16 24 33 37 32 21\n"
     ]
    }
   ],
   "source": [
    "LERcounts('2010')"
   ]
  },
  {
   "cell_type": "code",
   "execution_count": 22,
   "metadata": {},
   "outputs": [
    {
     "name": "stdout",
     "output_type": "stream",
     "text": [
      "18 21 27 34 29 18 19 23 30 32 27 25\n"
     ]
    }
   ],
   "source": [
    "LERcounts('2009')"
   ]
  },
  {
   "cell_type": "code",
   "execution_count": 23,
   "metadata": {},
   "outputs": [
    {
     "name": "stdout",
     "output_type": "stream",
     "text": [
      "24 18 32 22 30 17 16 18 21 31 25 19\n"
     ]
    }
   ],
   "source": [
    "LERcounts('2008')"
   ]
  },
  {
   "cell_type": "code",
   "execution_count": 24,
   "metadata": {},
   "outputs": [
    {
     "name": "stdout",
     "output_type": "stream",
     "text": [
      "21 32 28 31 22 27 18 17 17 27 15 17\n"
     ]
    }
   ],
   "source": [
    "LERcounts('2007')"
   ]
  },
  {
   "cell_type": "code",
   "execution_count": 25,
   "metadata": {},
   "outputs": [
    {
     "name": "stdout",
     "output_type": "stream",
     "text": [
      "15 19 37 35 35 19 21 22 17 40 33 24\n"
     ]
    }
   ],
   "source": [
    "LERcounts('2006')"
   ]
  },
  {
   "cell_type": "code",
   "execution_count": null,
   "metadata": {},
   "outputs": [],
   "source": []
  }
 ],
 "metadata": {
  "kernelspec": {
   "display_name": "Python 3",
   "language": "python",
   "name": "python3"
  },
  "language_info": {
   "codemirror_mode": {
    "name": "ipython",
    "version": 3
   },
   "file_extension": ".py",
   "mimetype": "text/x-python",
   "name": "python",
   "nbconvert_exporter": "python",
   "pygments_lexer": "ipython3",
   "version": "3.7.4"
  }
 },
 "nbformat": 4,
 "nbformat_minor": 2
}
